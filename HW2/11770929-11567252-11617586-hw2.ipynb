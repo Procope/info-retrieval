{
 "cells": [
  {
   "cell_type": "markdown",
   "metadata": {},
   "source": [
    "# Information Retrieval 1#\n",
    "## Assignment 2: Retrieval models [100 points] ##\n",
    "\n",
    "### Florian Mohnert, Mario Giulianelli, Akash Raj"
   ]
  },
  {
   "cell_type": "code",
   "execution_count": 1,
   "metadata": {
    "collapsed": true
   },
   "outputs": [],
   "source": [
    "import copy\n",
    "import itertools\n",
    "import math\n",
    "import pickle\n",
    "import random\n",
    "import time\n",
    "\n",
    "from collections import defaultdict\n",
    "from IPython.display import Image\n",
    "from math import log, exp\n",
    "from matplotlib import pyplot as plt\n",
    "from pprint import pprint\n",
    "from scipy.stats import binom_test\n",
    "\n",
    "import numpy as np\n",
    "\n",
    "import gensim\n",
    "import pyndri\n",
    "import pyndri.compat"
   ]
  },
  {
   "cell_type": "markdown",
   "metadata": {},
   "source": [
    "In this assignment you will get familiar with basic and advanced information retrieval concepts. You will implement different information retrieval ranking models and evaluate their performance.\n",
    "\n",
    "We provide you with a Indri index. To query the index, you'll use a Python package ([pyndri](https://github.com/cvangysel/pyndri)) that allows easy access to the underlying document statistics.\n",
    "\n",
    "For evaluation you'll use the [TREC Eval](https://github.com/usnistgov/trec_eval) utility, provided by the National Institute of Standards and Technology of the United States. TREC Eval is the de facto standard way to compute Information Retrieval measures and is frequently referenced in scientific papers.\n",
    "\n",
    "This is a **groups-of-three assignment**, the deadline is **Wednesday, January 31st**. Code quality, informative comments and convincing analysis of the results will be considered when grading. Submission should be done through blackboard, questions can be asked on the course [Piazza](piazza.com/university_of_amsterdam/spring2018/52041inr6y/home).\n",
    "\n",
    "### Technicalities (must-read!) ###\n",
    "\n",
    "The assignment directory is organized as follows:\n",
    "   * `./assignment.ipynb` (this file): the description of the assignment.\n",
    "   * `./index/`: the index we prepared for you.\n",
    "   * `./ap_88_90/`: directory with ground-truth and evaluation sets:\n",
    "      * `qrel_test`: test query relevance collection (**test set**).\n",
    "      * `qrel_validation`: validation query relevance collection (**validation set**).\n",
    "      * `topics_title`: semicolon-separated file with query identifiers and terms.\n",
    "\n",
    "You will need the following software packages (tested with Python 3.5 inside [Anaconda](https://conda.io/docs/user-guide/install/index.html)):\n",
    "   * Python 3.5 and Jupyter\n",
    "   * Indri + Pyndri (Follow the installation instructions [here](https://github.com/nickvosk/pyndri/blob/master/README.md))\n",
    "   * gensim [link](https://radimrehurek.com/gensim/install.html)\n",
    "   * TREC Eval [link](https://github.com/usnistgov/trec_eval)"
   ]
  },
  {
   "cell_type": "markdown",
   "metadata": {},
   "source": [
    "### TREC Eval primer ###\n",
    "The TREC Eval utility can be downloaded and compiled as follows:\n",
    "\n",
    "    git clone https://github.com/usnistgov/trec_eval.git\n",
    "    cd trec_eval\n",
    "    make\n",
    "\n",
    "TREC Eval computes evaluation scores given two files: ground-truth information regarding relevant documents, named *query relevance* or *qrel*, and a ranking of documents for a set of queries, referred to as a *run*. The *qrel* will be supplied by us and should not be changed. For every retrieval model (or combinations thereof) you will generate a run of the top-1000 documents for every query. The format of the *run* file is as follows:\n",
    "\n",
    "    $query_identifier Q0 $document_identifier $rank_of_document_for_query $query_document_similarity $run_identifier\n",
    "    \n",
    "where\n",
    "   * `$query_identifier` is the unique identifier corresponding to a query (usually this follows a sequential numbering).\n",
    "   * `Q0` is a legacy field that you can ignore.\n",
    "   * `$document_identifier` corresponds to the unique identifier of a document (e.g., APXXXXXXX where AP denotes the collection and the Xs correspond to a unique numerical identifier).\n",
    "   * `$rank_of_document_for_query` denotes the rank of the document for the particular query. This field is ignored by TREC Eval and is only maintained for legacy support. The ranks are computed by TREC Eval itself using the `$query_document_similarity` field (see next). However, it remains good practice to correctly compute this field.\n",
    "   * `$query_document_similarity` is a score indicating the similarity between query and document where a higher score denotes greater similarity.\n",
    "   * `$run_identifier` is an identifier of the run. This field is for your own convenience and has no purpose beyond bookkeeping.\n",
    "   \n",
    "For example, say we have two queries: `Q1` and `Q2` and we rank three documents (`DOC1`, `DOC2`, `DOC3`). For query `Q1`, we find the following similarity scores `score(Q1, DOC1) = 1.0`, `score(Q1, DOC2) = 0.5`, `score(Q1, DOC3) = 0.75`; and for `Q2`: `score(Q2, DOC1) = -0.1`, `score(Q2, DOC2) = 1.25`, `score(Q1, DOC3) = 0.0`. We can generate run using the following snippet:"
   ]
  },
  {
   "cell_type": "code",
   "execution_count": 2,
   "metadata": {
    "collapsed": false,
    "scrolled": false
   },
   "outputs": [
    {
     "name": "stdout",
     "output_type": "stream",
     "text": [
      "Q1 Q0 DOC1 1 1.0 example\n",
      "Q1 Q0 DOC3 2 0.75 example\n",
      "Q1 Q0 DOC2 3 0.5 example\n",
      "Q2 Q0 DOC2 1 1.25 example\n",
      "Q2 Q0 DOC3 2 0.0 example\n",
      "Q2 Q0 DOC1 3 -0.1 example\n"
     ]
    }
   ],
   "source": [
    "import logging\n",
    "import sys\n",
    "import os\n",
    "\n",
    "def write_run(model_name, data, out_f,\n",
    "              max_objects_per_query=sys.maxsize,\n",
    "              skip_sorting=False):\n",
    "    \"\"\"\n",
    "    Write a run to an output file.\n",
    "    Parameters:\n",
    "        - model_name: identifier of run.\n",
    "        - data: dictionary mapping topic_id to object_assesments;\n",
    "            object_assesments is an iterable (list or tuple) of\n",
    "            (relevance, object_id) pairs.\n",
    "            The object_assesments iterable is sorted by decreasing order.\n",
    "        - out_f: output file stream.\n",
    "        - max_objects_per_query: cut-off for number of objects per query.\n",
    "    \"\"\"\n",
    "    for subject_id, object_assesments in data.items():\n",
    "        if not object_assesments:\n",
    "            logging.warning('Received empty ranking for %s; ignoring.',\n",
    "                            subject_id)\n",
    "            continue\n",
    "\n",
    "        # Probe types, to make sure everything goes alright.\n",
    "        # assert isinstance(object_assesments[0][0], float) or \\\n",
    "        #     isinstance(object_assesments[0][0], np.float32)\n",
    "        assert isinstance(object_assesments[0][1], str) or \\\n",
    "            isinstance(object_assesments[0][1], bytes)\n",
    "\n",
    "        if not skip_sorting:\n",
    "            object_assesments = sorted(object_assesments, reverse=True)\n",
    "\n",
    "        if max_objects_per_query < sys.maxsize:\n",
    "            object_assesments = object_assesments[:max_objects_per_query]\n",
    "\n",
    "        if isinstance(subject_id, bytes):\n",
    "            subject_id = subject_id.decode('utf8')\n",
    "\n",
    "        for rank, (relevance, object_id) in enumerate(object_assesments):\n",
    "            if isinstance(object_id, bytes):\n",
    "                object_id = object_id.decode('utf8')\n",
    "\n",
    "            out_f.write(\n",
    "                '{subject} Q0 {object} {rank} {relevance} '\n",
    "                '{model_name}\\n'.format(\n",
    "                    subject=subject_id,\n",
    "                    object=object_id,\n",
    "                    rank=rank + 1,\n",
    "                    relevance=relevance,\n",
    "                    model_name=model_name))\n",
    "            \n",
    "# The following writes the run to standard output.\n",
    "# In your code, you should write the runs to local\n",
    "# storage in order to pass them to trec_eval.\n",
    "write_run(\n",
    "    model_name='example',\n",
    "    data={\n",
    "        'Q1': ((1.0, 'DOC1'), (0.5, 'DOC2'), (0.75, 'DOC3')),\n",
    "        'Q2': ((-0.1, 'DOC1'), (1.25, 'DOC2'), (0.0, 'DOC3')),\n",
    "    },\n",
    "    out_f=sys.stdout,\n",
    "    max_objects_per_query=1000)"
   ]
  },
  {
   "cell_type": "markdown",
   "metadata": {},
   "source": [
    "Now, imagine that we know that `DOC1` is relevant and `DOC3` is non-relevant for `Q1`. In addition, for `Q2` we only know of the relevance of `DOC3`. The query relevance file looks like:\n",
    "\n",
    "    Q1 0 DOC1 1\n",
    "    Q1 0 DOC3 0\n",
    "    Q2 0 DOC3 1\n",
    "    \n",
    "We store the run and qrel in files `example.run` and `example.qrel` respectively on disk. We can now use TREC Eval to compute evaluation measures. In this example, we're only interested in Mean Average Precision and we'll only show this below for brevity. However, TREC Eval outputs much more information such as NDCG, recall, precision, etc.\n",
    "\n",
    "    $ trec_eval -m all_trec -q example.qrel example.run | grep -E \"^map\\s\"\n",
    "    > map                   \tQ1\t1.0000\n",
    "    > map                   \tQ2\t0.5000\n",
    "    > map                   \tall\t0.7500\n",
    "    \n",
    "Now that we've discussed the output format of rankings and how you can compute evaluation measures from these rankings, we'll now proceed with an overview of the indexing framework you'll use."
   ]
  },
  {
   "cell_type": "markdown",
   "metadata": {},
   "source": [
    "### Pyndri primer ###\n",
    "For this assignment you will use [Pyndri](https://github.com/cvangysel/pyndri) [[1](https://arxiv.org/abs/1701.00749)], a python interface for [Indri](https://www.lemurproject.org/indri.php). We have indexed the document collection and you can query the index using Pyndri. We will start by giving you some examples of what Pyndri can do:\n",
    "\n",
    "First we read the document collection index with Pyndri:"
   ]
  },
  {
   "cell_type": "code",
   "execution_count": 3,
   "metadata": {
    "collapsed": true,
    "scrolled": true
   },
   "outputs": [],
   "source": [
    "import pyndri\n",
    "\n",
    "index = pyndri.Index('index/')"
   ]
  },
  {
   "cell_type": "markdown",
   "metadata": {},
   "source": [
    "The loaded index can be used to access a collection of documents in an easy manner. We'll give you some examples to get some idea of what it can do, it is up to you to figure out how to use it for the remainder of the assignment.\n",
    "\n",
    "First let's look at the number of documents, since Pyndri indexes the documents using incremental identifiers we can simply take the lowest index and the maximum document and consider the difference:"
   ]
  },
  {
   "cell_type": "code",
   "execution_count": 4,
   "metadata": {
    "collapsed": false
   },
   "outputs": [
    {
     "name": "stdout",
     "output_type": "stream",
     "text": [
      "There are 164597 documents in this collection.\n"
     ]
    }
   ],
   "source": [
    "print(\"There are %d documents in this collection.\" % (index.maximum_document() - index.document_base()))"
   ]
  },
  {
   "cell_type": "markdown",
   "metadata": {},
   "source": [
    "Let's take the first document out of the collection and take a look at it:"
   ]
  },
  {
   "cell_type": "code",
   "execution_count": 5,
   "metadata": {
    "collapsed": true,
    "scrolled": true
   },
   "outputs": [],
   "source": [
    "example_document = index.document(index.document_base())\n",
    "# print(example_document)"
   ]
  },
  {
   "cell_type": "markdown",
   "metadata": {},
   "source": [
    "Here we see a document consists of two things, a string representing the external document identifier and an integer list representing the identifiers of words that make up the document. Pyndri uses integer representations for words or terms, thus a token_id is an integer that represents a word whereas the token is the actual text of the word/term. Every id has a unique token and vice versa with the exception of stop words: words so common that there are uninformative, all of these receive the zero id.\n",
    "\n",
    "To see what some ids and their matching tokens we take a look at the dictionary of the index:"
   ]
  },
  {
   "cell_type": "code",
   "execution_count": 6,
   "metadata": {
    "collapsed": true
   },
   "outputs": [],
   "source": [
    "token2id, id2token, _ = index.get_dictionary()\n",
    "# print(list(id2token.items())[:15])"
   ]
  },
  {
   "cell_type": "markdown",
   "metadata": {},
   "source": [
    "Using this dictionary we can see the tokens for the (non-stop) words in our example document:"
   ]
  },
  {
   "cell_type": "code",
   "execution_count": 7,
   "metadata": {
    "collapsed": true
   },
   "outputs": [],
   "source": [
    "# print([id2token[word_id] for word_id in example_document[1] if word_id > 0])"
   ]
  },
  {
   "cell_type": "markdown",
   "metadata": {},
   "source": [
    "The reverse can also be done, say we want to look for news about the \"University of Massachusetts\", the tokens of that query can be converted to ids using the reverse dictionary:"
   ]
  },
  {
   "cell_type": "code",
   "execution_count": 8,
   "metadata": {
    "collapsed": true
   },
   "outputs": [],
   "source": [
    "# query_tokens = index.tokenize(\"University of Massachusetts\")\n",
    "# print(\"Query by tokens:\", query_tokens)\n",
    "# query_id_tokens = [token2id.get(query_token,0) for query_token in query_tokens]\n",
    "# print(\"Query by ids with stopwords:\", query_id_tokens)\n",
    "# query_id_tokens = [word_id for word_id in query_id_tokens if word_id > 0]\n",
    "# print(\"Query by ids without stopwords:\", query_id_tokens)"
   ]
  },
  {
   "cell_type": "markdown",
   "metadata": {},
   "source": [
    "Naturally we can now match the document and query in the id space, let's see how often a word from the query occurs in our example document:"
   ]
  },
  {
   "cell_type": "code",
   "execution_count": 9,
   "metadata": {
    "collapsed": true
   },
   "outputs": [],
   "source": [
    "# matching_words = sum([True for word_id in example_document[1] if word_id in query_id_tokens])\n",
    "# print(\"Document %s has %d word matches with query: \\\"%s\\\".\" % (example_document[0], matching_words, ' '.join(query_tokens)))\n",
    "# print(\"Document %s and query \\\"%s\\\" have a %.01f%% overlap.\" % (example_document[0], ' '.join(query_tokens),matching_words/float(len(example_document[1]))*100))"
   ]
  },
  {
   "cell_type": "markdown",
   "metadata": {},
   "source": [
    "While this is certainly not everything Pyndri can do, it should give you an idea of how to use it. Please take a look at the [examples](https://github.com/cvangysel/pyndri) as it will help you a lot with this assignment.\n",
    "\n",
    "**CAUTION**: Avoid printing out the whole index in this Notebook as it will generate a lot of output and is likely to corrupt the Notebook."
   ]
  },
  {
   "cell_type": "markdown",
   "metadata": {},
   "source": [
    "### Parsing the query file\n",
    "You can parse the query file (`ap_88_89/topics_title`) using the following snippet:"
   ]
  },
  {
   "cell_type": "code",
   "execution_count": 10,
   "metadata": {
    "collapsed": true,
    "scrolled": true
   },
   "outputs": [],
   "source": [
    "import collections\n",
    "import io\n",
    "import logging\n",
    "import sys\n",
    "\n",
    "def parse_topics(file_or_files,\n",
    "                 max_topics=sys.maxsize, delimiter=';'):\n",
    "    assert max_topics >= 0 or max_topics is None\n",
    "\n",
    "    topics = collections.OrderedDict()\n",
    "\n",
    "    if not isinstance(file_or_files, list) and \\\n",
    "            not isinstance(file_or_files, tuple):\n",
    "        if hasattr(file_or_files, '__iter__'):\n",
    "            file_or_files = list(file_or_files)\n",
    "        else:\n",
    "            file_or_files = [file_or_files]\n",
    "\n",
    "    for f in file_or_files:\n",
    "        assert isinstance(f, io.IOBase)\n",
    "\n",
    "        for line in f:\n",
    "            assert(isinstance(line, str))\n",
    "\n",
    "            line = line.strip()\n",
    "\n",
    "            if not line:\n",
    "                continue\n",
    "\n",
    "            topic_id, terms = line.split(delimiter, 1)\n",
    "\n",
    "            if topic_id in topics and (topics[topic_id] != terms):\n",
    "                    logging.error('Duplicate topic \"%s\" (%s vs. %s).',\n",
    "                                  topic_id,\n",
    "                                  topics[topic_id],\n",
    "                                  terms)\n",
    "\n",
    "            topics[topic_id] = terms\n",
    "\n",
    "            if max_topics > 0 and len(topics) >= max_topics:\n",
    "                break\n",
    "\n",
    "    return topics\n",
    "\n",
    "# with open('./ap_88_89/topics_title', 'r') as f_topics:\n",
    "#     print(parse_topics([f_topics]))"
   ]
  },
  {
   "cell_type": "markdown",
   "metadata": {},
   "source": [
    "### Task 1: Implement and compare lexical IR methods [35 points] ### \n",
    "\n",
    "In this task you will implement a number of lexical methods for IR using the **Pyndri** framework. Then you will evaluate these methods on the dataset we have provided using **TREC Eval**.\n",
    "\n",
    "Use the **Pyndri** framework to get statistics of the documents (term frequency, document frequency, collection frequency; **you are not allowed to use the query functionality of Pyndri**) and implement the following scoring methods in **Python**:\n",
    "\n",
    "- [TF-IDF](http://nlp.stanford.edu/IR-book/html/htmledition/tf-idf-weighting-1.html) and \n",
    "- [BM25](http://nlp.stanford.edu/IR-book/html/htmledition/okapi-bm25-a-non-binary-model-1.html) with k1=1.2 and b=0.75. **[5 points]**\n",
    "- Language models ([survey](https://drive.google.com/file/d/0B-zklbckv9CHc0c3b245UW90NE0/view))\n",
    "    - Jelinek-Mercer (explore different values of 𝛌 in the range [0.1, 0.5, 0.9]). **[5 points]**\n",
    "    - Dirichlet Prior (explore different values of 𝛍 [500, 1000, 1500]). **[5 points]**\n",
    "    - Absolute discounting (explore different values of 𝛅 in the range [0.1, 0.5, 0.9]). **[5 points]**\n",
    "    - [Positional Language Models](http://sifaka.cs.uiuc.edu/~ylv2/pub/sigir09-plm.pdf) define a language model for each position of a document, and score a document based on the scores of its PLMs. The PLM is estimated based on propagated counts of words within a document through a proximity-based density function, which both captures proximity heuristics and achieves an effect of “soft” passage retrieval. Implement the PLM, all five kernels, but only the Best position strategy to score documents. Use 𝛔 equal to 50, and Dirichlet smoothing with 𝛍 optimized on the validation set (decide how to optimize this value yourself and motivate your decision in the report). **[10 points]**\n",
    "    \n",
    "Implement the above methods and report evaluation measures (on the test set) using the hyper parameter values you optimized on the validation set (also report the values of the hyper parameters). Use TREC Eval to obtain the results and report on `NDCG@10`, Mean Average Precision (`MAP@1000`), `Precision@5` and `Recall@1000`.\n",
    "\n",
    "For the language models, create plots showing `NDCG@10` with varying values of the parameters. You can do this by chaining small scripts using shell scripting (preferred) or execute trec_eval using Python's `subprocess`.\n",
    "\n",
    "Compute significance of the results using a [two-tailed paired Student t-test](https://docs.scipy.org/doc/scipy/reference/generated/scipy.stats.ttest_rel.html) **[5 points]**. Be wary of false rejection of the null hypothesis caused by the [multiple comparisons problem](https://en.wikipedia.org/wiki/Multiple_comparisons_problem). There are multiple ways to mitigate this problem and it is up to you to choose one.\n",
    "\n",
    "Analyse the results by identifying specific queries where different methods succeed or fail and discuss possible reasons that cause these differences. This is *very important* in order to understand who the different retrieval functions behave.\n",
    "\n",
    "**NOTE**: Don’t forget to use log computations in your calculations to avoid underflows. "
   ]
  },
  {
   "cell_type": "markdown",
   "metadata": {},
   "source": [
    "**IMPORTANT**: You should structure your code around the helper functions we provide below."
   ]
  },
  {
   "cell_type": "code",
   "execution_count": 11,
   "metadata": {
    "collapsed": false
   },
   "outputs": [
    {
     "name": "stdout",
     "output_type": "stream",
     "text": [
      "Gathering statistics about 456 terms.\n",
      "Inverted index creation took 78.59462881088257 seconds.\n"
     ]
    }
   ],
   "source": [
    "with open('./ap_88_89/topics_title', 'r') as f_topics:\n",
    "    queries = parse_topics([f_topics])\n",
    "\n",
    "index = pyndri.Index('index/')\n",
    "\n",
    "num_documents = index.maximum_document() - index.document_base()\n",
    "\n",
    "dictionary = pyndri.extract_dictionary(index)\n",
    "\n",
    "tokenized_queries = {\n",
    "    query_id: [dictionary.translate_token(token)\n",
    "               for token in index.tokenize(query_string)\n",
    "               if dictionary.has_token(token)]\n",
    "    for query_id, query_string in queries.items()}\n",
    "\n",
    "query_term_ids = set(\n",
    "    query_term_id\n",
    "    for query_term_ids in tokenized_queries.values()\n",
    "    for query_term_id in query_term_ids)\n",
    "\n",
    "print('Gathering statistics about', len(query_term_ids), 'terms.')\n",
    "\n",
    "# inverted index creation.\n",
    "\n",
    "document_lengths = {}\n",
    "unique_terms_per_document = {}\n",
    "\n",
    "inverted_index = collections.defaultdict(dict)\n",
    "collection_frequencies = collections.defaultdict(int)\n",
    "term2numdocs = collections.defaultdict(int)\n",
    "total_terms = 0\n",
    "\n",
    "start_time = time.time()\n",
    "\n",
    "for int_doc_id in range(index.document_base(), index.maximum_document()):\n",
    "    ext_doc_id, doc_token_ids = index.document(int_doc_id)\n",
    "\n",
    "    document_bow = collections.Counter(\n",
    "        token_id for token_id in doc_token_ids\n",
    "        if token_id > 0)\n",
    "    document_length = sum(document_bow.values())\n",
    "    \n",
    "    for word in list(document_bow.keys()):\n",
    "        \n",
    "        term2numdocs[word]+=1\n",
    "\n",
    "    document_lengths[int_doc_id] = document_length\n",
    "    total_terms += document_length\n",
    "\n",
    "    unique_terms_per_document[int_doc_id] = len(document_bow)\n",
    "\n",
    "    for query_term_id in query_term_ids:\n",
    "        assert query_term_id is not None\n",
    "\n",
    "        document_term_frequency = document_bow.get(query_term_id, 0)\n",
    "\n",
    "        if document_term_frequency == 0:\n",
    "            continue\n",
    "\n",
    "        collection_frequencies[query_term_id] += document_term_frequency\n",
    "        inverted_index[query_term_id][int_doc_id] = document_term_frequency\n",
    "\n",
    "avg_doc_length = total_terms / num_documents\n",
    "\n",
    "print('Inverted index creation took', time.time() - start_time, 'seconds.')"
   ]
  },
  {
   "cell_type": "markdown",
   "metadata": {},
   "source": [
    "## Lexical retrieval methods"
   ]
  },
  {
   "cell_type": "code",
   "execution_count": 12,
   "metadata": {
    "collapsed": true
   },
   "outputs": [],
   "source": [
    "def IDF(query_term_id):\n",
    "    \"\"\"\n",
    "    Inverse Document Frequency of a query term.\n",
    "    \n",
    "    :param query_token_id: the query term id \n",
    "    \"\"\"\n",
    "    df = len(list(inverted_index[query_term_id]))\n",
    "                       \n",
    "    return log(num_documents / df)     "
   ]
  },
  {
   "cell_type": "code",
   "execution_count": 13,
   "metadata": {
    "collapsed": true
   },
   "outputs": [],
   "source": [
    "def tfidf(int_document_id, query_term_id, document_term_freq):\n",
    "    \"\"\"\n",
    "    TF-IDF scoring function for a document and a query term.\n",
    "    \n",
    "    :param int_document_id: the document id\n",
    "    :param query_token_id: the query term id (assuming you have split the query to tokens)\n",
    "    :param document_term_freq: the document term frequency of the query term \n",
    "    \"\"\"\n",
    "    return document_term_freq * IDF(query_term_id)"
   ]
  },
  {
   "cell_type": "code",
   "execution_count": 14,
   "metadata": {
    "collapsed": true
   },
   "outputs": [],
   "source": [
    "def BM25(int_document_id, query_term_id, document_term_freq, k1=1.2, b=0.75):\n",
    "    \"\"\"\n",
    "    BM25 scoring function for a document and a query term.\n",
    "    \n",
    "    :param int_document_id: the document id\n",
    "    :param query_token_id: the query term id (assuming you have split the query to tokens)\n",
    "    :param document_term_freq: the document term frequency of the query term \n",
    "    :param k1: defines how fast belief saturates\n",
    "    :param b: controls the level of normalization\n",
    "    \"\"\"\n",
    "    tf = document_term_freq\n",
    "    idf = IDF(query_term_id)\n",
    "    doc_len = document_lengths[int_doc_id]\n",
    "\n",
    "    return (k1 + 1) * tf / (k1 * ((1 - b) + b * (doc_len / avg_doc_length)) + tf) * idf"
   ]
  },
  {
   "cell_type": "code",
   "execution_count": 15,
   "metadata": {
    "collapsed": true
   },
   "outputs": [],
   "source": [
    "def jelinek_mercer(int_document_id, query_term_id, document_term_freq, **kwargs):\n",
    "    \"\"\"\n",
    "    Retrieval language model with Jelinek-Mercer smoothing.\n",
    "    Returns the LM score for a document and a query term.\n",
    "    \n",
    "    :param int_document_id: the document id\n",
    "    :param query_token_id: the query term id (assuming you have split the query to tokens)\n",
    "    :param document_term_freq: the document term frequency of the query term\n",
    "    :param l: the interpolation parameter\n",
    "    \"\"\"\n",
    "    l = kwargs[\"lambda\"]\n",
    "    \n",
    "    d = document_lengths[int_doc_id]\n",
    "    document_score = document_term_freq / d\n",
    "    collection_score =  collection_frequencies[query_term_id] / total_terms\n",
    "        \n",
    "    return l * document_score + (1 - l) * collection_score"
   ]
  },
  {
   "cell_type": "code",
   "execution_count": 16,
   "metadata": {
    "collapsed": true
   },
   "outputs": [],
   "source": [
    "def dirichlet_prior(int_document_id, query_term_id, document_term_freq, **kwargs): \n",
    "    \"\"\"\n",
    "    Retrieval language model with Dirichlet prior smoothing.\n",
    "    Returns the LM score for a document and a query term.\n",
    "    \n",
    "    :param int_document_id: the document id\n",
    "    :param query_token_id: the query term id (assuming you have split the query to tokens)\n",
    "    :param document_term_freq: the document term frequency of the query term \n",
    "    :mu: hyperparameter\n",
    "    \"\"\"\n",
    "    mu = kwargs[\"mu\"]\n",
    "    \n",
    "    collection_freq_w = collection_frequencies[query_term_id]\n",
    "    collection_prior = collection_freq_w / total_terms\n",
    "    d = document_lengths[int_document_id]\n",
    "    \n",
    "    score = (document_term_freq + mu * collection_prior) / (d + mu)\n",
    "    \n",
    "    return score"
   ]
  },
  {
   "cell_type": "code",
   "execution_count": 17,
   "metadata": {
    "collapsed": true
   },
   "outputs": [],
   "source": [
    "def absolute_discounting(int_document_id, query_term_id, document_term_freq, **kwargs):\n",
    "    \"\"\"\n",
    "    Retrieval language model with Absolute Discounting smoothing.\n",
    "    Returns the LM score for a document and a query term.\n",
    "    \n",
    "    :param int_document_id: the document id\n",
    "    :param query_token_id: the query term id (assuming you have split the query to tokens)\n",
    "    :param document_term_freq: the document term frequency of the query term \n",
    "    :param delta: hyperparameter\n",
    "    \"\"\"\n",
    "    delta = kwargs[\"delta\"]\n",
    "    \n",
    "    collection_freq_w = collection_frequencies[query_term_id]\n",
    "    collection_prior = collection_freq_w / total_terms\n",
    "    \n",
    "    d = document_lengths[int_document_id]\n",
    "    unique_words = unique_terms_per_document[int_document_id]\n",
    "    \n",
    "    score = (max(document_term_freq - delta, 0) / d) + (delta * unique_words / d) * collection_prior\n",
    "    \n",
    "    return score"
   ]
  },
  {
   "cell_type": "markdown",
   "metadata": {},
   "source": [
    "### Positional Language Model"
   ]
  },
  {
   "cell_type": "code",
   "execution_count": 18,
   "metadata": {
    "collapsed": true
   },
   "outputs": [],
   "source": [
    "# Kernel functions for Positional Language Model\n",
    "\n",
    "def passage_kernel(i, j, sigma=50):\n",
    "    \"\"\"\n",
    "    Non-proximity based Passage kernel (baseline)\n",
    "\n",
    "    :param i: position\n",
    "    :param j: position\n",
    "    :param sigma: hyperparameter\n",
    "    \"\"\"\n",
    "    proximity = abs(i - j)\n",
    "\n",
    "    return 1 if proximity <= sigma else 0\n",
    "\n",
    "def gaussian_kernel(i, j, sigma=50):\n",
    "    proximity = abs(i - j)\n",
    "\n",
    "    return np.exp(-proximity ** 2 / (2 * sigma ** 2))\n",
    "\n",
    "def triangle_kernel(i, j, sigma=50):\n",
    "    proximity = abs(i - j)\n",
    "\n",
    "    if proximity > sigma:\n",
    "        return 0\n",
    "\n",
    "    return (1 - proximity / sigma)\n",
    "\n",
    "def hamming_kernel(i, j, sigma=50):\n",
    "    \"\"\"\n",
    "    Cosine kernel\n",
    "\n",
    "    :param i: position\n",
    "    :param j: position\n",
    "    :param sigma: hyperparameter\n",
    "    \"\"\"\n",
    "    proximity = abs(i - j)\n",
    "    \n",
    "    if proximity > sigma:\n",
    "        return 0\n",
    "    \n",
    "    return 0.5 * (1 + np.cos(proximity * np.pi / sigma))\n",
    "\n",
    "def circle_kernel(i, j, sigma=50):\n",
    "    proximity = abs(i - j)\n",
    "    \n",
    "    if proximity > sigma:\n",
    "        return 0\n",
    "    \n",
    "    return np.sqrt(1 - (proximity / sigma) ** 2)\n",
    "\n",
    "\n",
    "# Sanity Test cases\n",
    "assert passage_kernel(0, 0), 0\n",
    "assert gaussian_kernel(0, 0), 1\n",
    "assert triangle_kernel(0 ,0), 0\n",
    "assert hamming_kernel(0, 0), 0\n",
    "assert circle_kernel(0, 0), 0"
   ]
  },
  {
   "cell_type": "code",
   "execution_count": 19,
   "metadata": {
    "collapsed": true
   },
   "outputs": [],
   "source": [
    "# This takes about 5 minutes to run. Read from the binary file collection_freq_all\n",
    "\n",
    "def collection_freq_all():\n",
    "    \"\"\"\n",
    "    General collection Language model (collection term frequency)\n",
    "\n",
    "    Return: a dictionary containing P(w | C) values\n",
    "    \"\"\"\n",
    "    glm = defaultdict(lambda:0)\n",
    "\n",
    "    for doc_id in np.arange(index.document_base(), index.maximum_document()):\n",
    "        document = index.document(doc_id)\n",
    "        for word in document[1]:\n",
    "            glm[word] += 1\n",
    "\n",
    "    return glm\n",
    "\n",
    "\n",
    "collection_freq_all = collection_freq_all()\n",
    "\n",
    "with open('collection_freq_all', 'wb+') as f:\n",
    "    pickle.dump(dict(collection_freq_all), f, protocol=pickle.HIGHEST_PROTOCOL)\n",
    "\n",
    "# The code above takes about 5 minutes to run. Read from the binary file general_lm instead.\n",
    "with open('collection_freq_all', 'rb') as f:\n",
    "    collection_freq_all = pickle.load(f)"
   ]
  },
  {
   "cell_type": "code",
   "execution_count": 20,
   "metadata": {
    "collapsed": true
   },
   "outputs": [],
   "source": [
    "def doc_word_pos_util(Q, D):\n",
    "    \"\"\"\n",
    "    Returns a dictionary with the position of each occurence of word 'w' in Document 'D'\n",
    "    \n",
    "    :param Q: list of query terms\n",
    "    :param D: Document\n",
    "    \"\"\"\n",
    "    resp = {}\n",
    "\n",
    "    for i, w in enumerate(D):\n",
    "        if w not in resp.keys():\n",
    "            resp[w] = [i]\n",
    "        else:\n",
    "            resp[w].append(i)\n",
    "\n",
    "    return resp\n",
    "\n",
    "def plm_model_smoothed(i, w, D, doc_length, mu=500):\n",
    "    \"\"\"\n",
    "    P(w|D, i))\n",
    "\n",
    "    :param i: position\n",
    "    :param w: word\n",
    "    :param D: dictionary containing the positions where w occurs\n",
    "    :param doc_length: Number of terms in the document\n",
    "    :param mu: for smoothing\n",
    "\n",
    "    Return: np array of length 5 containing the scores for each kernel\n",
    "    \"\"\"\n",
    "    plm = np.zeros(5)\n",
    "\n",
    "    if w in D:\n",
    "        for j in D[w]:\n",
    "            plm[0] += passage_kernel(i, j)\n",
    "            plm[1] += gaussian_kernel(i, j)\n",
    "            plm[2] += triangle_kernel(i, j)\n",
    "            plm[3] += hamming_kernel(i, j)\n",
    "            plm[4] += circle_kernel(i, j)\n",
    "\n",
    "    plm += (mu * collection_freq_all[w])  # collection LM is used as the background model\n",
    "\n",
    "    plm[0] /= (sum([passage_kernel(i, j) for j in range(1, doc_length + 1)]) + mu)\n",
    "    plm[1] /= (sum([gaussian_kernel(i, j) for j in range(1, doc_length + 1)]) + mu)\n",
    "    plm[2] /= (sum([triangle_kernel(i, j) for j in range(1, doc_length + 1)]) + mu)\n",
    "    plm[3] /= (sum([hamming_kernel(i, j) for j in range(1, doc_length + 1)]) + mu)\n",
    "    plm[4] /= (sum([circle_kernel(i, j) for j in range(1, doc_length + 1)]) + mu)\n",
    "\n",
    "    return plm\n",
    "\n",
    "def plm_score(i, Q, D, mu=500):\n",
    "    \"\"\"\n",
    "    Score each PLM using Kullback-Leibler divergence retrieval model\n",
    "\n",
    "    :param i: position\n",
    "    :param Q: list of query terms\n",
    "    :param D: Document\n",
    "    \"\"\"\n",
    "    # Query likelihood model - 1 / query length\n",
    "    query_lm = 1.0 / len(Q)\n",
    "\n",
    "    # Kullback-Leibler divergence retrieval model\n",
    "    kl_divergence = np.zeros(5)\n",
    "\n",
    "    resp = doc_word_pos_util(Q, D[1])\n",
    "\n",
    "    for w in Q:\n",
    "        if w in D[1]:\n",
    "            plm = plm_model_smoothed(i, w, resp, len(D[1]), mu)\n",
    "            for k in range(5):\n",
    "                kl_divergence[k] += (- query_lm * math.log(query_lm / plm[k]))\n",
    "\n",
    "    return kl_divergence\n",
    "\n",
    "def best_position_strategy(Q, D, mu=500):\n",
    "    \"\"\"\n",
    "    Score a document based on the score of its best matching position.\n",
    "    S(Q, D) = max_i {S(Q, D, i)}\n",
    "    \n",
    "    :param Q: list of query terms\n",
    "    :param D: Document\n",
    "    :mu: hyperparameter\n",
    "    \n",
    "    Return: A list containing the score for each kernel\n",
    "    \"\"\"\n",
    "    # Initialize KL-D for all the 5 kernels\n",
    "    max_score = [-99999999] * 5\n",
    "\n",
    "    for i in range(1, len(D) + 1):\n",
    "        scores = plm_score(i, Q, D, mu)\n",
    "\n",
    "        for k in range(5):\n",
    "            if max_score[k] < scores[k]:\n",
    "                max_score[k] = scores[k]\n",
    "\n",
    "    return max_score"
   ]
  },
  {
   "cell_type": "markdown",
   "metadata": {},
   "source": [
    "> Now some utility functions and convenient data structures..."
   ]
  },
  {
   "cell_type": "code",
   "execution_count": 21,
   "metadata": {
    "collapsed": true
   },
   "outputs": [],
   "source": [
    "# Define, for convenience, a dictionary mapping external\n",
    "# document ids to internal document document ids. \n",
    "\n",
    "ext_to_int = {}\n",
    "for int_doc_id in range(index.document_base(), index.maximum_document()):\n",
    "    ext_doc_id, _ = index.document(int_doc_id)\n",
    "    ext_to_int[ext_doc_id] = int_doc_id"
   ]
  },
  {
   "cell_type": "code",
   "execution_count": 22,
   "metadata": {
    "collapsed": true
   },
   "outputs": [],
   "source": [
    "# Read TREC ground truth file containing the VALIDATION SET.\n",
    "# Create dictionary validation_ids that maps queries to internal and external docID pairs.\n",
    "# validation_ids: queryID --> (internal_doc_id, external_doc_id)\n",
    "\n",
    "with open(\"ap_88_89/qrel_validation\", \"r\") as f:\n",
    "    validation_ids = {}\n",
    "    \n",
    "    for line in f:\n",
    "        line = line.strip().split()\n",
    "        if len(line) != 4:\n",
    "            continue\n",
    "            \n",
    "        q_id = line[0]\n",
    "        ext_id = line[2]\n",
    "        \n",
    "        try:\n",
    "            int_id = ext_to_int[ext_id]\n",
    "            \n",
    "            try:\n",
    "                validation_ids[q_id].append((int_id, ext_id))\n",
    "            except KeyError:\n",
    "                validation_ids[q_id] = [(int_id, ext_id)]\n",
    "            \n",
    "        except KeyError:\n",
    "            pass  # validation document not in index"
   ]
  },
  {
   "cell_type": "code",
   "execution_count": 23,
   "metadata": {
    "collapsed": true
   },
   "outputs": [],
   "source": [
    "# Read TREC ground truth file containing the TEST SET.\n",
    "# Create dictionary test_ids that maps queries to internal and external docID pairs.\n",
    "# test_ids: queryID --> (internal_doc_id, external_doc_id)\n",
    "\n",
    "with open(\"ap_88_89/qrel_test\",\"r\") as f:\n",
    "    test_ids = {}\n",
    "    \n",
    "    for line in f:\n",
    "        line = line.strip().split()\n",
    "        if len(line) != 4:\n",
    "            continue\n",
    "            \n",
    "        q_id = line[0]\n",
    "        ext_id = line[2]\n",
    "        \n",
    "        try:\n",
    "            int_id = ext_to_int[ext_id]\n",
    "        \n",
    "            try:\n",
    "                test_ids[q_id].append((int_id, ext_id))\n",
    "            except KeyError:\n",
    "                test_ids[q_id] = [(int_id, ext_id)]\n",
    "                \n",
    "        except KeyError:\n",
    "            pass  # test document not in index\n",
    "                 "
   ]
  },
  {
   "cell_type": "code",
   "execution_count": 24,
   "metadata": {
    "collapsed": true
   },
   "outputs": [],
   "source": [
    "def run_retrieval(model_name, score_fn, **kwargs):\n",
    "    \"\"\"\n",
    "    Runs a retrieval method for all the queries and writes the TREC-friendly results in a file.\n",
    "    \n",
    "    :param model_name: the name of the model (a string)\n",
    "    :param score_fn: the scoring function (a function - see below for an example)\n",
    "    \"\"\"\n",
    "    run_out_path = '{}.run'.format(model_name)\n",
    "\n",
    "    if os.path.exists(run_out_path):\n",
    "        print(\"This output file ({}) already exists.\\n\".format(run_out_path),\n",
    "              \"Delete this file, rename it, or move it elsewhere in your file system.\\n\", sep='')\n",
    "        return\n",
    "    \n",
    "    try:\n",
    "        dataset = kwargs.pop('dataset')\n",
    "    except KeyError:\n",
    "        # use test set if user does not express a preference\n",
    "        dataset = 'test'\n",
    "    \n",
    "    if dataset == 'test':\n",
    "        query_to_docs = test_ids\n",
    "    elif dataset == 'validation':\n",
    "        query_to_docs = validation_ids\n",
    "    else:\n",
    "        raise ValueError(\"Two possible values for dataset: 'test' or 'validation'.\")\n",
    "    \n",
    "    data = {}\n",
    "\n",
    "    print('Retrieval model: {}'.format(model_name))\n",
    "    \n",
    "    # Fill the data dictionary. \n",
    "    # The dictionary data has the form: query_id --> (document_score, external_doc_id)\n",
    "    cnt = 0\n",
    "    \n",
    "    # FOR ALL QUERIES\n",
    "    for query_id in query_to_docs.keys():  \n",
    "        # FOR ALL DOCUMENTS\n",
    "        for int_doc_id, ext_doc_id in query_to_docs[query_id]:  \n",
    "                \n",
    "            # discard all zero length docs\n",
    "            if document_lengths[int_doc_id] == 0:\n",
    "                try:\n",
    "                    data[query_id].append((0.0, ext_doc_id))\n",
    "                except:\n",
    "                    data[query_id] = [(0.0, ext_doc_id)]\n",
    "                continue\n",
    "                    \n",
    "            score = 0\n",
    "            cnt_qwords_in_doc = 0  # how many query words occ\n",
    " \n",
    "            # FOR ALL QUERY TERMS\n",
    "            for q_term in tokenized_queries[query_id]: \n",
    "                try: \n",
    "                    document_term_freq = inverted_index[q_term][int_doc_id]\n",
    "                    cnt_qwords_in_doc += 1\n",
    "                except KeyError:\n",
    "                    document_term_freq = 0  # query term is not in the document\n",
    "\n",
    "                if model_name == \"tfidf\" or model_name == \"BM25\":\n",
    "                    score += score_fn(int_doc_id, q_term, document_term_freq, **kwargs)\n",
    "                else:\n",
    "                    score += log(score_fn(int_doc_id, q_term, document_term_freq, **kwargs))\n",
    "\n",
    "            # only score documents that contain at least one query term\n",
    "            if cnt_qwords_in_doc == 0:\n",
    "                try:\n",
    "                    data[query_id].append((0.0, ext_doc_id))\n",
    "                except:\n",
    "                    data[query_id] = [(0.0, ext_doc_id)]\n",
    "                continue\n",
    "\n",
    "            # transform back from log-probs to probs\n",
    "            if model_name != \"tfidf\" and model_name != \"BM25\": \n",
    "                score = exp(score)\n",
    "            \n",
    "            # Fill data dictionary\n",
    "            try:\n",
    "                data[query_id].append((score, ext_doc_id))\n",
    "            except:\n",
    "                data[query_id] = [(score, ext_doc_id)]\n",
    "    \n",
    "    # Write output to TREC .run file\n",
    "    with open(run_out_path, 'w') as f_out:\n",
    "        write_run(\n",
    "            model_name=model_name,\n",
    "            data=data,\n",
    "            out_f=f_out,\n",
    "            max_objects_per_query=1000)  # only consider top 1000 docs for each query"
   ]
  },
  {
   "cell_type": "code",
   "execution_count": 25,
   "metadata": {
    "collapsed": true
   },
   "outputs": [],
   "source": [
    "def simulation_plm(kernel, k_id, mu, data_set='validation'):\n",
    "    \"\"\"\n",
    "    Generate run files for various kernels and mus\n",
    "    \n",
    "    :param kernel: the type of kernel - [passage, gaussian, triangle, hamming, circle]\n",
    "    :param k_id: id for the kernel type\n",
    "    :param mu: hyperparam\n",
    "    :param data_set: specify validation or test dataset\n",
    "    \"\"\"\n",
    "    print('PLM for kernel: {0} and mu: {1}'.format(kernel, str(mu)))\n",
    "    data = {}\n",
    "    \n",
    "    if data_set == 'validation':\n",
    "        query_to_docs = validation_ids\n",
    "    else:\n",
    "        query_to_docs = test_ids\n",
    "\n",
    "    for query_id in query_to_docs.keys():\n",
    "        doc_scores = []\n",
    "\n",
    "        for int_doc_id, ext_doc_id in query_to_docs[query_id]:\n",
    "\n",
    "            doc = index.document(int_doc_id)\n",
    "            query_terms = tokenized_queries[query_id]\n",
    "            scores = best_position_strategy(query_terms, doc, mu=mu)\n",
    "            doc_scores.append((scores[k_id], ext_doc_id))  # Store only values for required kernel\n",
    "\n",
    "        doc_scores = list(reversed(sorted(doc_scores, key=lambda tup: tup[1])))\n",
    "\n",
    "        # Remove documents where query terms do not occur\n",
    "        doc_with_terms = []\n",
    "        for item in doc_scores:\n",
    "            if item[0] < 0:\n",
    "                doc_with_terms.append(item)\n",
    "            elif item[0] == 0:\n",
    "                doc_with_terms.append((-999999, item[1]))\n",
    "\n",
    "        data[query_id] = doc_with_terms\n",
    "\n",
    "    with open('runs/plm/plm_{0}_{1}_{2}.run'.format(kernel, str(mu), data_set), 'w') as f_out:\n",
    "        write_run(\n",
    "            model_name='plm_{0}_{1}'.format(kernel, str(mu)),\n",
    "            data=data,\n",
    "            out_f=f_out,\n",
    "            max_objects_per_query=1000)"
   ]
  },
  {
   "cell_type": "markdown",
   "metadata": {},
   "source": [
    "> ... now we are ready to retrieve documents using all the methods defined so far.\n",
    "\n",
    "### Hyperparameter optimization"
   ]
  },
  {
   "cell_type": "code",
   "execution_count": 26,
   "metadata": {
    "collapsed": false
   },
   "outputs": [
    {
     "name": "stdout",
     "output_type": "stream",
     "text": [
      "Retrieval model: tfidf\n",
      "Retrieval model: BM25\n",
      "Retrieval model: jelinek_mercer_0.1\n",
      "Retrieval model: jelinek_mercer_0.5\n",
      "Retrieval model: jelinek_mercer_0.9\n",
      "Retrieval model: dirichlet_prior_500\n",
      "Retrieval model: dirichlet_prior_1000\n",
      "Retrieval model: dirichlet_prior_1500\n",
      "Retrieval model: absolute_discounting_0.1\n",
      "Retrieval model: absolute_discounting_0.5\n",
      "Retrieval model: absolute_discounting_0.9\n"
     ]
    }
   ],
   "source": [
    "# Run all retrieval methods for all the VALIDATION queries and write the TREC-friendly results to a file. \n",
    "\n",
    "run_retrieval('tfidf', tfidf, **{\"dataset\":'validation'})\n",
    "run_retrieval('BM25', BM25, **{\"dataset\":'validation'})\n",
    "\n",
    "run_retrieval('jelinek_mercer_0.1', jelinek_mercer, **{\"dataset\":'validation', \"lambda\":0.1})\n",
    "run_retrieval('jelinek_mercer_0.5', jelinek_mercer, **{\"dataset\":'validation', \"lambda\":0.5})\n",
    "run_retrieval('jelinek_mercer_0.9', jelinek_mercer, **{\"dataset\":'validation', \"lambda\":0.9})\n",
    "\n",
    "run_retrieval('dirichlet_prior_500', dirichlet_prior, **{\"dataset\":'validation', \"mu\":500})\n",
    "run_retrieval('dirichlet_prior_1000', dirichlet_prior, **{\"dataset\":'validation', \"mu\":1000})\n",
    "run_retrieval('dirichlet_prior_1500', dirichlet_prior, **{\"dataset\":'validation', \"mu\":1500})\n",
    "\n",
    "run_retrieval('absolute_discounting_0.1', absolute_discounting, **{\"dataset\":'validation', \"delta\":0.1})\n",
    "run_retrieval('absolute_discounting_0.5', absolute_discounting, **{\"dataset\":'validation', \"delta\":0.5})\n",
    "run_retrieval('absolute_discounting_0.9', absolute_discounting, **{\"dataset\":'validation', \"delta\":0.9})"
   ]
  },
  {
   "cell_type": "code",
   "execution_count": null,
   "metadata": {
    "collapsed": false
   },
   "outputs": [],
   "source": [
    "#PLM\n",
    "\n",
    "mus = [500, 1000, 1500]\n",
    "kernel = {\n",
    "    'passage': 0,\n",
    "    'gaussian': 1,\n",
    "    'triangle': 2,\n",
    "    'hamming': 3,\n",
    "    'circle': 4\n",
    "}\n",
    "\n",
    "for k in kernel.keys():\n",
    "    for mu in mus:\n",
    "        simulation_plm(kernel=k, k_id=kernel[k], mu=mu, data_set='test')"
   ]
  },
  {
   "cell_type": "markdown",
   "metadata": {},
   "source": [
    "#### PLM, nDCG@10\n",
    "\n",
    "|                  | mu: 500    | mu: 1000   | mu: 1500   |\n",
    "|------------------|:----------:|:----------:|:----------:|\n",
    "|Passage           | 0.2712     | 0.2759     | 0.2773     |\n",
    "|Gaussian          | 0.2565     | 0.2565     | 0.2605     |\n",
    "|Triangle          | 0.2422     | 0.2454     | 0.2467     |\n",
    "|Hamming           | 0.2436     | 0.2405     | 0.2407     |\n",
    "|Circle            | 0.2492     | 0.2512     | 0.2525     |"
   ]
  },
  {
   "cell_type": "markdown",
   "metadata": {},
   "source": [
    "> a few more utility functions for plotting..."
   ]
  },
  {
   "cell_type": "code",
   "execution_count": 28,
   "metadata": {
    "collapsed": true
   },
   "outputs": [],
   "source": [
    "#### Plotting NDCG@10 for different hyperparamaters ####\n",
    "\n",
    "def read_statistics(filepath):\n",
    "    \"\"\"\n",
    "    Read statistics from TREC_EVAL output file and store them in an array.\n",
    "    \"\"\"\n",
    "    data = []\n",
    "\n",
    "    with open(filepath, 'r') as f:\n",
    "        for line in f:\n",
    "            line = line.strip().split('\\t')\n",
    "\n",
    "            if len(line) != 3:\n",
    "                continue\n",
    "\n",
    "            data.append(float(line[2]))\n",
    "\n",
    "    return data[:-1]\n",
    "\n",
    "\n",
    "def plot_ndcg_stats(data, labels):\n",
    "    \"\"\"\n",
    "    Print NDCG@10 statistics for multiple hyperparameter values.\n",
    "    \"\"\"\n",
    "    fig, ax = plt.subplots()\n",
    "    colors = ['red', 'green', 'blue']\n",
    "    data = [[list(range(len(x))), x] for x in data]\n",
    "\n",
    "    for ndcg, color in zip(data, colors):\n",
    "        x, y = ndcg\n",
    "        label = labels[colors.index(color)]\n",
    "        ax.scatter(x, y, c=color, label=label, alpha=0.3, edgecolors='none')\n",
    "        ax.set_xlabel('queries')\n",
    "        ax.set_ylabel('NDCG@10')\n",
    "\n",
    "    ax.legend()\n",
    "    ax.grid(True)"
   ]
  },
  {
   "cell_type": "code",
   "execution_count": 29,
   "metadata": {
    "collapsed": true
   },
   "outputs": [],
   "source": [
    "def plot_ndcg_stats(data, labels):\n",
    "    '''\n",
    "    Print NDCG@10 statistics for multiple hyperparameter values.\n",
    "    '''\n",
    "    fig, ax = plt.subplots()\n",
    "    colors = ['red', 'green', 'blue',\"brown\",\"yellow\",\"cyan\"]\n",
    "    data = [[list(range(len(x))), x] for x in data]\n",
    "    scale = [150,120,90,90,70,50]\n",
    "    for ndcg, color in zip(data, colors):\n",
    "        x, y = ndcg\n",
    "        label = labels[colors.index(color)]\n",
    "        ax.scatter(x, y, c=color, label=label, alpha=0.4, edgecolors='none', s = scale[colors.index(color)])\n",
    "        minor_ticks = np.arange(0,31,1)\n",
    "        ax.set_xticks(minor_ticks)\n",
    "        ax.set_xlabel('queries')\n",
    "        ax.set_ylabel('NDCG@10')\n",
    "\n",
    "    ax.legend()\n",
    "    ax.grid(True)\n",
    "    ax.grid(axis = \"x\", which='minor', linestyle=\":\")\n"
   ]
  },
  {
   "cell_type": "markdown",
   "metadata": {},
   "source": [
    "### NDCG@10 with varying hyperparameter values"
   ]
  },
  {
   "cell_type": "code",
   "execution_count": 30,
   "metadata": {
    "collapsed": false
   },
   "outputs": [
    {
     "data": {
      "image/png": "[encoded data removed]",
      "text/plain": [
       "<matplotlib.figure.Figure at 0x1a2f2f5dd8>"
      ]
     },
     "metadata": {},
     "output_type": "display_data"
    },
    {
     "data": {
      "image/png": "[encoded data removed]",
      "text/plain": [
       "<matplotlib.figure.Figure at 0x1a35fea9b0>"
      ]
     },
     "metadata": {},
     "output_type": "display_data"
    },
    {
     "data": {
      "image/png": "[encoded data removed]",
      "text/plain": [
       "<matplotlib.figure.Figure at 0x1a3990d780>"
      ]
     },
     "metadata": {},
     "output_type": "display_data"
    },
    {
     "data": {
      "image/png": "[encoded data removed]",
      "text/plain": [
       "<matplotlib.figure.Figure at 0x1a399988d0>"
      ]
     },
     "metadata": {},
     "output_type": "display_data"
    },
    {
     "data": {
      "image/png": "[encoded data removed]",
      "text/plain": [
       "<matplotlib.figure.Figure at 0x1a39b41f60>"
      ]
     },
     "metadata": {},
     "output_type": "display_data"
    }
   ],
   "source": [
    "jelinek_mercer_01_ndcg10 = read_statistics('statistics/jelinek_mercer_01_ndcg10.txt')\n",
    "jelinek_mercer_05_ndcg10 = read_statistics('statistics/jelinek_mercer_05_ndcg10.txt')\n",
    "jelinek_mercer_09_ndcg10 = read_statistics('statistics/jelinek_mercer_09_ndcg10.txt')   \n",
    "jelinek_mercer_all_ndcg10 = [jelinek_mercer_01_ndcg10, jelinek_mercer_05_ndcg10, jelinek_mercer_09_ndcg10]\n",
    "\n",
    "dirichlet_500_ndcg10 = read_statistics('statistics/dirichlet_prior_500_ndcg10.txt')\n",
    "dirichlet_1000_ndcg10 = read_statistics('statistics/dirichlet_prior_1000_ndcg10.txt')\n",
    "dirichlet_1500_ndcg10 = read_statistics('statistics/dirichlet_prior_1500_ndcg10.txt')   \n",
    "dirichlet_all_ndcg10 = [dirichlet_500_ndcg10, dirichlet_1000_ndcg10, dirichlet_1500_ndcg10]  \n",
    "\n",
    "abs_discount_01_ndcg10 = read_statistics('statistics/absolute_discounting_01_ndcg10.txt')\n",
    "abs_discount_05_ndcg10 = read_statistics('statistics/absolute_discounting_05_ndcg10.txt')\n",
    "abs_discount_09_ndcg10 = read_statistics('statistics/absolute_discounting_09_ndcg10.txt')   \n",
    "abs_discount_all_ndcg10 = [abs_discount_01_ndcg10, abs_discount_05_ndcg10, abs_discount_09_ndcg10]\n",
    "\n",
    "plm_gaussian_500_ndcg10 = read_statistics('statistics/plm/validation/plm_gaussian_500_ndcg10.txt')\n",
    "plm_gaussian_1000_ndcg10 = read_statistics('statistics/plm/validation/plm_gaussian_1000_ndcg10.txt')\n",
    "plm_gaussian_1500_ndcg10 = read_statistics('statistics/plm/validation/plm_gaussian_1500_ndcg10.txt')\n",
    "plm_gaussian_all_ndcg10 = [plm_gaussian_500_ndcg10, plm_gaussian_1000_ndcg10, plm_gaussian_1500_ndcg10]\n",
    "\n",
    "plm_passage_500_ndcg10 = read_statistics('statistics/plm/validation/plm_passage_500_ndcg10.txt')\n",
    "plm_passage_1000_ndcg10 = read_statistics('statistics/plm/validation/plm_passage_1000_ndcg10.txt')\n",
    "plm_passage_1500_ndcg10 = read_statistics('statistics/plm/validation/plm_passage_1500_ndcg10.txt')\n",
    "plm_passage_all_ndcg10 = [plm_passage_500_ndcg10, plm_passage_1000_ndcg10, plm_passage_1500_ndcg10]\n",
    "\n",
    "tfidf_ndcg10 = read_statistics('statistics/tfidf_ndcg10.txt')\n",
    "BM25_ndcg10 = read_statistics('statistics/bm25_ndcg10.txt')\n",
    "plm_500_ndcg10 = read_statistics(\"statistics/plm/validation/plm_passage_500_ndcg10.txt\")\n",
    "    \n",
    "plot_ndcg_stats(jelinek_mercer_all_ndcg10, labels=['jelinek-mercer_01', 'jelinek-mercer_05', 'jelinek-mercer_09'])\n",
    "plot_ndcg_stats(dirichlet_all_ndcg10, labels=['dirichlet_500', 'dirichlet_1000', 'abs_discount_1500'])\n",
    "plot_ndcg_stats(abs_discount_all_ndcg10, labels=['abs_discount_01', 'abs_discount_05', 'abs_discount_09'])\n",
    "plot_ndcg_stats(plm_gaussian_all_ndcg10, labels=['plm_gaussian_500_ndcg10', 'plm_gaussian_1000_ndcg10', 'plm_gaussian_1500_ndcg10'])\n",
    "plot_ndcg_stats(plm_passage_all_ndcg10, labels=['plm_passage_500_ndcg10', 'plm_passage_1000_ndcg10', 'plm_passage_1500_ndcg10'])\n",
    "\n",
    "plt.show()"
   ]
  },
  {
   "cell_type": "code",
   "execution_count": 31,
   "metadata": {
    "collapsed": false
   },
   "outputs": [
    {
     "data": {
      "image/png": "[encoded data removed]",
      "text/plain": [
       "<matplotlib.figure.Figure at 0x1a395b2978>"
      ]
     },
     "metadata": {},
     "output_type": "display_data"
    }
   ],
   "source": [
    "fig_size = [15,10]\n",
    "plt.rcParams[\"figure.figsize\"] = fig_size\n",
    "\n",
    "best_comparison = [tfidf_ndcg10,\n",
    "                   BM25_ndcg10,\n",
    "                   abs_discount_09_ndcg10,\n",
    "                   dirichlet_500_ndcg10,\n",
    "                   jelinek_mercer_01_ndcg10,\n",
    "                   plm_500_ndcg10]\n",
    "\n",
    "plot_ndcg_stats(best_comparison, labels=['tfidf', \n",
    "                                         'BM25', \n",
    "                                         'abs_discounting_09', \n",
    "                                         'dirichlet_500', \n",
    "                                         'jelinek-mercer_01',\n",
    "                                         'plm_gaussian_500'])\n",
    "\n",
    "plt.show()"
   ]
  },
  {
   "cell_type": "markdown",
   "metadata": {},
   "source": [
    "## Error Analysis\n",
    "\n",
    "**Query 18: \"leveraged buyouts\"**\n",
    "\n",
    "> In this example, the positional language model wins. The words \"leveraged\" and  \"buyouts\" occur next to each other very frequently (376 times) and for all bigrams where \"buyouts\" is the second term, \"leveraged\" is the first term 54% of the time.\n",
    "\n",
    "**Query 6: \"protect u s farmers\"**\n",
    "\n",
    "> In Query 6, tfidf has the highest ndcg@10 score. A possible explanation is that most  terms in this query have a high frequency in the validation set. Hence, the tfidf model, which does not discount probability mass by smoothing as all the other techniques do, gives an advantage to highly frequent words. It is also worth pointing out that the plm modelis the second highest scoring one, which can be again explained by the same pattern as in query 18 but this time for the tokens \"u\" and \"s\".\n",
    "\n",
    "**Query 16: \"commercial overfishing creates food fish deficit\"**\n",
    "\n",
    "> In this example the term \"overfishing\" occurs very unfrequently and hence we think that that could be the reason that tfidf has the lowest score, because it does not use any smoothing.\n",
    "\n",
    "**Query 170: \"Consequences implantation silicone gel breast devices\"** \n",
    "\n",
    "> Here, it is quite interesting that plm performs the worst. We are thinking that some subsets of this query occur often within the same passage and therefore documents are retrieved that only contain information relative to this subset."
   ]
  },
  {
   "cell_type": "markdown",
   "metadata": {},
   "source": [
    "## Significance testing\n",
    "- using a two-tailed paired Student t-test\n",
    "- using a Bonferroni correction to mitigate the multiple comparisons problem"
   ]
  },
  {
   "cell_type": "code",
   "execution_count": 32,
   "metadata": {
    "collapsed": true
   },
   "outputs": [],
   "source": [
    "from scipy.stats import ttest_rel\n",
    "\n",
    "def t_test(metric_comparison_dict, p=0.0125):\n",
    "    \"\"\"\n",
    "    Performs a t-test\n",
    "    \n",
    "    :param metric_comparison_dict:\n",
    "    :param p: significance level based on Bonferroni\n",
    "    \"\"\"\n",
    "    comparisons = list(itertools.combinations(metric_comparison_dict.keys(), 2))\n",
    "    \n",
    "    diffs = []\n",
    "    pvals = []\n",
    "    \n",
    "    for metric1, metric2 in comparisons:\n",
    "        scores1 = metric_comparison_dict[metric1]\n",
    "        scores2 = metric_comparison_dict[metric2]\n",
    "        mean_score1 = round(np.mean(scores1),4)\n",
    "        mean_score2 = round(np.mean(scores2),4)\n",
    "        p_value = ttest_rel(scores1, scores2)[1]\n",
    "        t_stat = round(ttest_rel(scores1, scores2)[0],4)\n",
    "        \n",
    "        pvals.append(p_value)\n",
    "        diffs.append(mean_score1-mean_score2)\n",
    "        \n",
    "        if p_value < p:\n",
    "            print(\"{} vs. {}\\nMean diff: {}, t-statistic: {}\\nSignificant p-value (p < {}): {}\\n\"\n",
    "                  .format(metric1, metric2, round(mean_score1 - mean_score2, 4), t_stat, p, p_value))\n",
    "        else:\n",
    "            print(\"{} vs. {}\\nMean diff: {}, t-statistic: {}\\nNon-significant p-value (p >= {}): {}\\n\"\n",
    "                  .format(metric1, metric2, round(mean_score1 - mean_score2, 4), t_stat, p, p_value))\n"
   ]
  },
  {
   "cell_type": "code",
   "execution_count": 33,
   "metadata": {
    "collapsed": true
   },
   "outputs": [],
   "source": [
    "tfidf_map1000_test = read_statistics('statistics/test/tfidf_map1000_test.txt')\n",
    "bm25_map1000_test = read_statistics('statistics/test/bm25_map1000_test.txt')\n",
    "jelinek_mercer_map1000_test = read_statistics('statistics/test/jelinek_mercer_01_map1000_test.txt')\n",
    "abs_disc_map1000_test = read_statistics('statistics/test/absolute_discounting_09_map1000_test.txt')\n",
    "dirichlet_map1000_test = read_statistics('statistics/test/dirichlet_prior_500_map1000_test.txt')\n",
    "plm_passage_map1000_test = read_statistics('statistics/plm/test/plm_passage_1500_map1000_test.txt')\n",
    "\n",
    "tfidf_ndcg10_test = read_statistics('statistics/test/tfidf_ndcg10_test.txt')\n",
    "bm25_ndcg10_test = read_statistics('statistics/test/bm25_ndcg10_test.txt')\n",
    "jelinek_mercer_ndcg10_test = read_statistics('statistics/test/jelinek_mercer_01_ndcg10_test.txt')\n",
    "abs_disc_ndcg10_test = read_statistics('statistics/test/absolute_discounting_09_ndcg10_test.txt')\n",
    "dirichlet_ndcg10_test = read_statistics('statistics/test/dirichlet_prior_500_ndcg10_test.txt')\n",
    "plm_passage_ndcg10_test = read_statistics('statistics/plm/test/plm_passage_1500_ndcg10_test.txt')\n",
    "\n",
    "tfidf_precision5_test = read_statistics('statistics/test/tfidf_precision5_test.txt')\n",
    "bm25_precision5_test = read_statistics('statistics/test/bm25_precision5_test.txt')\n",
    "jelinek_mercer_precision5_test = read_statistics('statistics/test/jelinek_mercer_01_precision5_test.txt')\n",
    "abs_disc_precision5_test = read_statistics('statistics/test/absolute_discounting_09_precision5_test.txt')\n",
    "dirichlet_precision5_test = read_statistics('statistics/test/dirichlet_prior_500_precision5_test.txt')\n",
    "plm_passage_precision5_test = read_statistics('statistics/plm/test/plm_passage_1500_precision5_test.txt')\n",
    "\n",
    "tfidf_recall1000_test = read_statistics('statistics/test/tfidf_recall1000_test.txt')\n",
    "bm25_recall1000_test = read_statistics('statistics/test/bm25_recall1000_test.txt')\n",
    "jelinek_mercer_recall1000_test = read_statistics('statistics/test/jelinek_mercer_01_recall1000_test.txt')\n",
    "abs_disc_recall1000_test = read_statistics('statistics/test/absolute_discounting_09_recall1000_test.txt')\n",
    "dirichlet_recall1000_test = read_statistics('statistics/test/dirichlet_prior_500_recall1000_test.txt')\n",
    "plm_passage_recall1000_test = read_statistics('statistics/plm/test/plm_passage_1500_recall1000_test.txt')\n"
   ]
  },
  {
   "cell_type": "code",
   "execution_count": 34,
   "metadata": {
    "collapsed": true
   },
   "outputs": [],
   "source": [
    "map1000_test_all = {'tfidf_map1000_test': tfidf_map1000_test, \n",
    "                    'bm25_map1000_test': bm25_map1000_test, \n",
    "                    'jelinek_mercer_map1000_test': jelinek_mercer_map1000_test,\n",
    "                    'abs_disc_map1000_test': abs_disc_map1000_test,\n",
    "                    'dirichlet_map1000_test': dirichlet_map1000_test,\n",
    "                    'plm_passage_map1000_test': plm_passage_map1000_test}\n",
    "\n",
    "ndcg10_test_all = {'tfidf_ndcg10_test': tfidf_ndcg10_test, \n",
    "                    'bm25_ndcg10_test': bm25_ndcg10_test, \n",
    "                    'jelinek_mercer_ndcg10_test': jelinek_mercer_ndcg10_test,\n",
    "                    'abs_disc_ndcg10_test': abs_disc_ndcg10_test,\n",
    "                    'dirichlet_ndcg10_test': dirichlet_ndcg10_test,\n",
    "                    'plm_passage_ndcg10_test': plm_passage_ndcg10_test}\n",
    "\n",
    "precision5_test_all = {'tfidf_precision5_test': tfidf_precision5_test, \n",
    "                    'bm25_precision5_test': bm25_precision5_test, \n",
    "                    'jelinek_mercer_precision5_test': jelinek_mercer_precision5_test,\n",
    "                    'abs_disc_precision5_test': abs_disc_precision5_test,\n",
    "                    'dirichlet_precision5_test': dirichlet_precision5_test,\n",
    "                    'plm_passage_precision5_test': plm_passage_precision5_test}\n",
    "\n",
    "recall1000_test_all = {'tfidf_recall1000_test': tfidf_recall1000_test, \n",
    "                    'bm25_recall1000_test': bm25_recall1000_test, \n",
    "                    'jelinek_mercer_recall1000_test': jelinek_mercer_recall1000_test,\n",
    "                    'abs_disc_recall1000_test': abs_disc_recall1000_test,\n",
    "                    'dirichlet_recall1000_test': dirichlet_recall1000_test,\n",
    "                    'plm_passage_recall1000_test': plm_passage_recall1000_test}"
   ]
  },
  {
   "cell_type": "code",
   "execution_count": 35,
   "metadata": {
    "collapsed": false
   },
   "outputs": [
    {
     "name": "stdout",
     "output_type": "stream",
     "text": [
      "tfidf_map1000_test vs. bm25_map1000_test\n",
      "Mean diff: -0.0358, t-statistic: -4.4392\n",
      "Significant p-value (p < 0.0125): 2.0315894276126578e-05\n",
      "\n",
      "tfidf_map1000_test vs. jelinek_mercer_map1000_test\n",
      "Mean diff: -0.0317, t-statistic: -4.2759\n",
      "Significant p-value (p < 0.0125): 3.863872447555956e-05\n",
      "\n",
      "tfidf_map1000_test vs. abs_disc_map1000_test\n",
      "Mean diff: -0.0226, t-statistic: -3.282\n",
      "Significant p-value (p < 0.0125): 0.001353044958743758\n",
      "\n",
      "tfidf_map1000_test vs. dirichlet_map1000_test\n",
      "Mean diff: -0.0328, t-statistic: -4.0682\n",
      "Significant p-value (p < 0.0125): 8.553430154846259e-05\n",
      "\n",
      "tfidf_map1000_test vs. plm_passage_map1000_test\n",
      "Mean diff: 0.1368, t-statistic: 10.476\n",
      "Significant p-value (p < 0.0125): 1.3562589194801616e-18\n",
      "\n",
      "bm25_map1000_test vs. jelinek_mercer_map1000_test\n",
      "Mean diff: 0.0041, t-statistic: 1.6756\n",
      "Non-significant p-value (p >= 0.0125): 0.0964458498616123\n",
      "\n",
      "bm25_map1000_test vs. abs_disc_map1000_test\n",
      "Mean diff: 0.0132, t-statistic: 3.2931\n",
      "Significant p-value (p < 0.0125): 0.0013049198436841805\n",
      "\n",
      "bm25_map1000_test vs. dirichlet_map1000_test\n",
      "Mean diff: 0.003, t-statistic: 1.2226\n",
      "Non-significant p-value (p >= 0.0125): 0.22387982606577222\n",
      "\n",
      "bm25_map1000_test vs. plm_passage_map1000_test\n",
      "Mean diff: 0.1726, t-statistic: 10.513\n",
      "Significant p-value (p < 0.0125): 1.1067949490027822e-18\n",
      "\n",
      "jelinek_mercer_map1000_test vs. abs_disc_map1000_test\n",
      "Mean diff: 0.0091, t-statistic: 2.5152\n",
      "Non-significant p-value (p >= 0.0125): 0.013230042070603921\n",
      "\n",
      "jelinek_mercer_map1000_test vs. dirichlet_map1000_test\n",
      "Mean diff: -0.0011, t-statistic: -0.4855\n",
      "Non-significant p-value (p >= 0.0125): 0.6282311241600639\n",
      "\n",
      "jelinek_mercer_map1000_test vs. plm_passage_map1000_test\n",
      "Mean diff: 0.1685, t-statistic: 10.1446\n",
      "Significant p-value (p < 0.0125): 8.378859712811482e-18\n",
      "\n",
      "abs_disc_map1000_test vs. dirichlet_map1000_test\n",
      "Mean diff: -0.0102, t-statistic: -3.1396\n",
      "Significant p-value (p < 0.0125): 0.002133757230281558\n",
      "\n",
      "abs_disc_map1000_test vs. plm_passage_map1000_test\n",
      "Mean diff: 0.1594, t-statistic: 10.5148\n",
      "Significant p-value (p < 0.0125): 1.0958233854468019e-18\n",
      "\n",
      "dirichlet_map1000_test vs. plm_passage_map1000_test\n",
      "Mean diff: 0.1696, t-statistic: 10.2833\n",
      "Significant p-value (p < 0.0125): 3.911288385503957e-18\n",
      "\n"
     ]
    }
   ],
   "source": [
    "t_test(map1000_test_all)"
   ]
  },
  {
   "cell_type": "code",
   "execution_count": 36,
   "metadata": {
    "collapsed": false
   },
   "outputs": [
    {
     "name": "stdout",
     "output_type": "stream",
     "text": [
      "tfidf_ndcg10_test vs. bm25_ndcg10_test\n",
      "Mean diff: -0.0788, t-statistic: -3.4066\n",
      "Significant p-value (p < 0.0125): 0.0008977476233348092\n",
      "\n",
      "tfidf_ndcg10_test vs. jelinek_mercer_ndcg10_test\n",
      "Mean diff: -0.0721, t-statistic: -3.3904\n",
      "Significant p-value (p < 0.0125): 0.0009476480488155553\n",
      "\n",
      "tfidf_ndcg10_test vs. abs_disc_ndcg10_test\n",
      "Mean diff: -0.0483, t-statistic: -2.1127\n",
      "Non-significant p-value (p >= 0.0125): 0.036715683064669304\n",
      "\n",
      "tfidf_ndcg10_test vs. dirichlet_ndcg10_test\n",
      "Mean diff: -0.0758, t-statistic: -3.2715\n",
      "Significant p-value (p < 0.0125): 0.0014000523223037275\n",
      "\n",
      "tfidf_ndcg10_test vs. plm_passage_ndcg10_test\n",
      "Mean diff: 0.2045, t-statistic: 7.8204\n",
      "Significant p-value (p < 0.0125): 2.3697874516358687e-12\n",
      "\n",
      "bm25_ndcg10_test vs. jelinek_mercer_ndcg10_test\n",
      "Mean diff: 0.0067, t-statistic: 0.8683\n",
      "Non-significant p-value (p >= 0.0125): 0.3869807268968809\n",
      "\n",
      "bm25_ndcg10_test vs. abs_disc_ndcg10_test\n",
      "Mean diff: 0.0305, t-statistic: 2.3881\n",
      "Non-significant p-value (p >= 0.0125): 0.018507440707763546\n",
      "\n",
      "bm25_ndcg10_test vs. dirichlet_ndcg10_test\n",
      "Mean diff: 0.003, t-statistic: 0.3382\n",
      "Non-significant p-value (p >= 0.0125): 0.7358444517786067\n",
      "\n",
      "bm25_ndcg10_test vs. plm_passage_ndcg10_test\n",
      "Mean diff: 0.2833, t-statistic: 8.6428\n",
      "Significant p-value (p < 0.0125): 2.9910767760174915e-14\n",
      "\n",
      "jelinek_mercer_ndcg10_test vs. abs_disc_ndcg10_test\n",
      "Mean diff: 0.0238, t-statistic: 2.0446\n",
      "Non-significant p-value (p >= 0.0125): 0.04310453652523385\n",
      "\n",
      "jelinek_mercer_ndcg10_test vs. dirichlet_ndcg10_test\n",
      "Mean diff: -0.0037, t-statistic: -0.4477\n",
      "Non-significant p-value (p >= 0.0125): 0.6551502622485088\n",
      "\n",
      "jelinek_mercer_ndcg10_test vs. plm_passage_ndcg10_test\n",
      "Mean diff: 0.2766, t-statistic: 8.7739\n",
      "Significant p-value (p < 0.0125): 1.476250520669785e-14\n",
      "\n",
      "abs_disc_ndcg10_test vs. dirichlet_ndcg10_test\n",
      "Mean diff: -0.0275, t-statistic: -2.6239\n",
      "Significant p-value (p < 0.0125): 0.009831841898581665\n",
      "\n",
      "abs_disc_ndcg10_test vs. plm_passage_ndcg10_test\n",
      "Mean diff: 0.2528, t-statistic: 7.7684\n",
      "Significant p-value (p < 0.0125): 3.1120236397114233e-12\n",
      "\n",
      "dirichlet_ndcg10_test vs. plm_passage_ndcg10_test\n",
      "Mean diff: 0.2803, t-statistic: 8.4677\n",
      "Significant p-value (p < 0.0125): 7.653834804252564e-14\n",
      "\n"
     ]
    }
   ],
   "source": [
    "t_test(ndcg10_test_all)"
   ]
  },
  {
   "cell_type": "code",
   "execution_count": 37,
   "metadata": {
    "collapsed": false
   },
   "outputs": [
    {
     "name": "stdout",
     "output_type": "stream",
     "text": [
      "tfidf_recall1000_test vs. bm25_recall1000_test\n",
      "Mean diff: 0.0, t-statistic: nan\n",
      "Non-significant p-value (p >= 0.0125): nan\n",
      "\n",
      "tfidf_recall1000_test vs. jelinek_mercer_recall1000_test\n",
      "Mean diff: 0.0, t-statistic: nan\n",
      "Non-significant p-value (p >= 0.0125): nan\n",
      "\n",
      "tfidf_recall1000_test vs. abs_disc_recall1000_test\n",
      "Mean diff: -0.0001, t-statistic: -1.0\n",
      "Non-significant p-value (p >= 0.0125): 0.3193395975454461\n",
      "\n",
      "tfidf_recall1000_test vs. dirichlet_recall1000_test\n",
      "Mean diff: -0.0001, t-statistic: -1.0\n",
      "Non-significant p-value (p >= 0.0125): 0.31933959754544633\n",
      "\n",
      "tfidf_recall1000_test vs. plm_passage_recall1000_test\n",
      "Mean diff: 0.1054, t-statistic: 6.433\n",
      "Significant p-value (p < 0.0125): 2.727411507314142e-09\n",
      "\n",
      "bm25_recall1000_test vs. jelinek_mercer_recall1000_test\n",
      "Mean diff: 0.0, t-statistic: nan\n",
      "Non-significant p-value (p >= 0.0125): nan\n",
      "\n",
      "bm25_recall1000_test vs. abs_disc_recall1000_test\n",
      "Mean diff: -0.0001, t-statistic: -1.0\n",
      "Non-significant p-value (p >= 0.0125): 0.3193395975454461\n",
      "\n",
      "bm25_recall1000_test vs. dirichlet_recall1000_test\n",
      "Mean diff: -0.0001, t-statistic: -1.0\n",
      "Non-significant p-value (p >= 0.0125): 0.31933959754544633\n",
      "\n",
      "bm25_recall1000_test vs. plm_passage_recall1000_test\n",
      "Mean diff: 0.1054, t-statistic: 6.433\n",
      "Significant p-value (p < 0.0125): 2.727411507314142e-09\n",
      "\n",
      "jelinek_mercer_recall1000_test vs. abs_disc_recall1000_test\n",
      "Mean diff: -0.0001, t-statistic: -1.0\n",
      "Non-significant p-value (p >= 0.0125): 0.3193395975454461\n",
      "\n",
      "jelinek_mercer_recall1000_test vs. dirichlet_recall1000_test\n",
      "Mean diff: -0.0001, t-statistic: -1.0\n",
      "Non-significant p-value (p >= 0.0125): 0.31933959754544633\n",
      "\n",
      "jelinek_mercer_recall1000_test vs. plm_passage_recall1000_test\n",
      "Mean diff: 0.1054, t-statistic: 6.433\n",
      "Significant p-value (p < 0.0125): 2.727411507314142e-09\n",
      "\n",
      "abs_disc_recall1000_test vs. dirichlet_recall1000_test\n",
      "Mean diff: 0.0, t-statistic: 1.0\n",
      "Non-significant p-value (p >= 0.0125): 0.31933959754544633\n",
      "\n",
      "abs_disc_recall1000_test vs. plm_passage_recall1000_test\n",
      "Mean diff: 0.1055, t-statistic: 6.4407\n",
      "Significant p-value (p < 0.0125): 2.6257796268069776e-09\n",
      "\n",
      "dirichlet_recall1000_test vs. plm_passage_recall1000_test\n",
      "Mean diff: 0.1055, t-statistic: 6.4399\n",
      "Significant p-value (p < 0.0125): 2.6361712150990914e-09\n",
      "\n"
     ]
    }
   ],
   "source": [
    "t_test(recall1000_test_all)"
   ]
  },
  {
   "cell_type": "code",
   "execution_count": 38,
   "metadata": {
    "collapsed": false
   },
   "outputs": [
    {
     "name": "stdout",
     "output_type": "stream",
     "text": [
      "tfidf_precision5_test vs. bm25_precision5_test\n",
      "Mean diff: -0.07, t-statistic: -2.4762\n",
      "Non-significant p-value (p >= 0.0125): 0.014686076343882528\n",
      "\n",
      "tfidf_precision5_test vs. jelinek_mercer_precision5_test\n",
      "Mean diff: -0.08, t-statistic: -3.0183\n",
      "Significant p-value (p < 0.0125): 0.0031103262790699105\n",
      "\n",
      "tfidf_precision5_test vs. abs_disc_precision5_test\n",
      "Mean diff: -0.0534, t-statistic: -1.9707\n",
      "Non-significant p-value (p >= 0.0125): 0.05107773453718909\n",
      "\n",
      "tfidf_precision5_test vs. dirichlet_precision5_test\n",
      "Mean diff: -0.0667, t-statistic: -2.3205\n",
      "Non-significant p-value (p >= 0.0125): 0.022018192529847554\n",
      "\n",
      "tfidf_precision5_test vs. plm_passage_precision5_test\n",
      "Mean diff: 0.2025, t-statistic: 6.6682\n",
      "Significant p-value (p < 0.0125): 8.572595810481773e-10\n",
      "\n",
      "bm25_precision5_test vs. jelinek_mercer_precision5_test\n",
      "Mean diff: -0.01, t-statistic: -0.8154\n",
      "Non-significant p-value (p >= 0.0125): 0.41649781275231634\n",
      "\n",
      "bm25_precision5_test vs. abs_disc_precision5_test\n",
      "Mean diff: 0.0166, t-statistic: 1.0208\n",
      "Non-significant p-value (p >= 0.0125): 0.30942024813052604\n",
      "\n",
      "bm25_precision5_test vs. dirichlet_precision5_test\n",
      "Mean diff: 0.0033, t-statistic: 0.2348\n",
      "Non-significant p-value (p >= 0.0125): 0.814788830286233\n",
      "\n",
      "bm25_precision5_test vs. plm_passage_precision5_test\n",
      "Mean diff: 0.2725, t-statistic: 7.3293\n",
      "Significant p-value (p < 0.0125): 3.037356968616824e-11\n",
      "\n",
      "jelinek_mercer_precision5_test vs. abs_disc_precision5_test\n",
      "Mean diff: 0.0266, t-statistic: 1.5787\n",
      "Non-significant p-value (p >= 0.0125): 0.11707015817891663\n",
      "\n",
      "jelinek_mercer_precision5_test vs. dirichlet_precision5_test\n",
      "Mean diff: 0.0133, t-statistic: 1.0\n",
      "Non-significant p-value (p >= 0.0125): 0.3193395975454461\n",
      "\n",
      "jelinek_mercer_precision5_test vs. plm_passage_precision5_test\n",
      "Mean diff: 0.2825, t-statistic: 7.65\n",
      "Significant p-value (p < 0.0125): 5.7755180754288036e-12\n",
      "\n",
      "abs_disc_precision5_test vs. dirichlet_precision5_test\n",
      "Mean diff: -0.0133, t-statistic: -0.8617\n",
      "Non-significant p-value (p >= 0.0125): 0.39056570251201106\n",
      "\n",
      "abs_disc_precision5_test vs. plm_passage_precision5_test\n",
      "Mean diff: 0.2559, t-statistic: 7.0667\n",
      "Significant p-value (p < 0.0125): 1.1614247317767826e-10\n",
      "\n",
      "dirichlet_precision5_test vs. plm_passage_precision5_test\n",
      "Mean diff: 0.2692, t-statistic: 7.1292\n",
      "Significant p-value (p < 0.0125): 8.454291094924493e-11\n",
      "\n"
     ]
    }
   ],
   "source": [
    "t_test(precision5_test_all)"
   ]
  },
  {
   "cell_type": "markdown",
   "metadata": {},
   "source": [
    "### Task 2: Latent Semantic Models (LSMs) [15 points] ###\n",
    "\n",
    "In this task you will experiment with applying distributional semantics methods ([LSI](http://lsa3.colorado.edu/papers/JASIS.lsi.90.pdf) **[5 points]** and [LDA](https://www.cs.princeton.edu/~blei/papers/BleiNgJordan2003.pdf) **[5 points]**) for retrieval.\n",
    "\n",
    "You do not need to implement LSI or LDA on your own. Instead, you can use [gensim](http://radimrehurek.com/gensim/index.html). An example on how to integrate Pyndri with Gensim for word2vec can be found [here](https://github.com/cvangysel/pyndri/blob/master/examples/word2vec.py). For the remaining latent vector space models, you will need to implement connector classes (such as `IndriSentences`) by yourself.\n",
    "\n",
    "In order to use a latent semantic model for retrieval, you need to:\n",
    "   * build a representation of the query **q**,\n",
    "   * build a representation of the document **d**,\n",
    "   * calculate the similarity between **q** and **d** (e.g., cosine similarity, KL-divergence).\n",
    "     \n",
    "The exact implementation here depends on the latent semantic model you are using. \n",
    "   \n",
    "Each of these LSMs come with various hyperparameters to tune. Make a choice on the parameters, and explicitly mention the reasons that led you to these decisions. You can use the validation set to optimize hyper parameters you see fit; motivate your decisions. In addition, mention clearly how the query/document representations were constructed for each LSM and explain your choices.\n",
    "\n",
    "In this experiment, you will first obtain an initial top-1000 ranking for each query using TF-IDF in **Task 1**, and then re-rank the documents using the LSMs. Use TREC Eval to obtain the results and report on `NDCG@10`, Mean Average Precision (`MAP@1000`), `Precision@5` and `Recall@1000`.\n",
    "\n",
    "Perform significance testing **[5 points]** (similar as in Task 1) in the class of semantic matching methods."
   ]
  },
  {
   "cell_type": "code",
   "execution_count": null,
   "metadata": {
    "collapsed": true
   },
   "outputs": [],
   "source": [
    "import operator\n",
    "\n",
    "import gensim\n",
    "from gensim import corpora, similarities\n",
    "from gensim.models.ldamodel import LdaModel\n",
    "from gensim.models.lsimodel import LsiModel\n",
    "from gensim.models.tfidfmodel import TfidfModel\n",
    "\n",
    "from scipy.stats import entropy as kl_divergence"
   ]
  },
  {
   "cell_type": "markdown",
   "metadata": {},
   "source": [
    "> First obtain an initial top-1000 ranking for each query using TF-IDF"
   ]
  },
  {
   "cell_type": "code",
   "execution_count": null,
   "metadata": {
    "collapsed": true
   },
   "outputs": [],
   "source": [
    "def tfidf_filter(n=1000, dataset='validation'):\n",
    "    \"\"\"\n",
    "    Runs a tf-idf retrieval and returns top-n documents.\n",
    "    \n",
    "    :param n: the number of documents to retrieve\n",
    "    :param dataset: 'test' or 'validation\n",
    "    \n",
    "    :return dict mapping from queryID to the list of tf-idf top-n documents for that query\n",
    "    \"\"\"\n",
    "    \n",
    "    data = {}\n",
    "    \n",
    "    if dataset == 'test':\n",
    "        query_to_docs = test_ids\n",
    "    elif dataset == 'validation':\n",
    "        query_to_docs = validation_ids\n",
    "    else:\n",
    "        raise ValueError(\"Two possible values for dataset: 'test' or 'validation'.\")\n",
    "    \n",
    "    \n",
    "    query_to_top_n = {}\n",
    "    \n",
    "    for query_id in query_to_docs.keys():  \n",
    "        for int_doc_id, _ in query_to_docs[query_id]:  \n",
    "                \n",
    "            # discard all zero length docs\n",
    "            if document_lengths[int_doc_id] == 0:\n",
    "                continue\n",
    "                    \n",
    "            score = 0\n",
    "            cnt_qwords_in_doc = 0  # num of query words appearing in the doc\n",
    " \n",
    "            # FOR ALL QUERY TERMS\n",
    "            for q_term in tokenized_queries[query_id]: \n",
    "                try: \n",
    "                    document_term_freq = inverted_index[q_term][int_doc_id]\n",
    "                    score += tfidf(int_doc_id, q_term, document_term_freq)\n",
    "                    cnt_qwords_in_doc += 1\n",
    "\n",
    "                # query term is not in the document\n",
    "                except KeyError:\n",
    "                    document_term_freq = 0\n",
    "                    score += tfidf(int_doc_id, q_term, document_term_freq)\n",
    "\n",
    "            # only score documents that contain at least one query term\n",
    "            if cnt_qwords_in_doc == 0:\n",
    "                continue\n",
    "\n",
    "            # Fill data dictionary\n",
    "            try:\n",
    "                data[query_id].append((score, int_doc_id))\n",
    "            except:\n",
    "                data[query_id] = [(score, int_doc_id)]\n",
    "                \n",
    "        scores = [x[0] for x in data[query_id]]\n",
    "        int_doc_ids = [x[1] for x in data[query_id]]\n",
    "        \n",
    "        # reorder list of int_doc_ids based on the ranked scores\n",
    "        scores, int_doc_ids = zip(*sorted(zip(scores, int_doc_ids), key=operator.itemgetter(0), reverse=True))\n",
    "        query_to_top_n[query_id] = int_doc_ids[:n]\n",
    "        \n",
    "    return query_to_top_n\n",
    "    "
   ]
  },
  {
   "cell_type": "markdown",
   "metadata": {},
   "source": [
    ">  and then re-rank the documents using the LSMs"
   ]
  },
  {
   "cell_type": "code",
   "execution_count": null,
   "metadata": {
    "collapsed": true
   },
   "outputs": [],
   "source": [
    "def run_lsm_retrieval(model_name, model, query_to_top_n, similarity_index=None, dataset='validation'):\n",
    "    \"\"\"\n",
    "    Runs an LSM retrieval method for all the queries and writes the TREC-friendly results in a file.\n",
    "    \n",
    "    :param model_name: the name of the model (a string)\n",
    "    :param model: the scoring function\n",
    "    :param query_to_top_n: dict mapping from queryID to the list of top-n documents for that query\n",
    "    :param similarity_index: necessary for the LSI model (see gensim.similarities)\n",
    "    :param dataset: 'test' or 'validation\n",
    "    \"\"\"\n",
    "    model_name = model_name.upper()\n",
    "    \n",
    "    if model_name[:3] == 'LSI':\n",
    "        use_lsi = True\n",
    "        if not similarity_index:\n",
    "            raise ValueError(\"Similarity index must be provided for LSI retrieval.\")         \n",
    "    elif model_name[:3] == 'LDA':\n",
    "        use_lsi = False\n",
    "    else:\n",
    "        raise ValueError(\"Two available models: 'LSI' or 'LDA'.\")\n",
    "        \n",
    "    run_out_path = '{}.run'.format(model_name.lower())\n",
    "    if os.path.exists(run_out_path):\n",
    "        print(\"This output file ({}) already exists.\\n\".format(run_out_path),\n",
    "              \"Delete this file, rename it, or move it elsewhere in your file system.\\n\", sep='')\n",
    "        return\n",
    "    \n",
    "    if dataset == 'test':\n",
    "        query_to_docs = test_ids\n",
    "    elif dataset == 'validation':\n",
    "        query_to_docs = validation_ids\n",
    "    else:\n",
    "        raise ValueError(\"Two possible values for dataset: 'test' or 'validation'.\")\n",
    "    \n",
    "    \n",
    "    print('Retrieval model: {}'.format(model_name))\n",
    "    \n",
    "    # Fill the data dictionary. \n",
    "    # The dictionary data has the form: query_id --> (document_score, external_doc_id)\n",
    "    data = {}\n",
    "    \n",
    "    # FOR ALL QUERIES\n",
    "    for query_id in query_to_docs.keys():\n",
    "        # 1. represent query as a BOW\n",
    "        query_counter = collections.Counter(token_id \n",
    "                                            for token_id in token_ids\n",
    "                                            if token_id > 0\n",
    "                                           )\n",
    "        query_terms = list(query_counter.items())\n",
    "        \n",
    "        # 2. apply tf-idf model to query\n",
    "        query_tfidf = tfidf_model[query_terms]\n",
    "        \n",
    "        # 3. obtain query vector using LSI or LDA\n",
    "        query_vec = model[query_tfidf]\n",
    "        \n",
    "        if use_lsi:\n",
    "            # get cosine similarities with all docs\n",
    "            similarities = similarity_index[query_vec]\n",
    "        else:\n",
    "            # get probability distribution over topics\n",
    "            query_distribution = [x[1] for x in query_vec]\n",
    "        \n",
    "        for int_doc_id in query_to_top_n[query_id]:\n",
    "            if use_lsi:\n",
    "                # score with cosine\n",
    "                score = similarities[int_doc_id - 1]\n",
    "            else:\n",
    "                # get probability distribution over topics for the document\n",
    "                doc_tfidf = tfidf_corpus[int_doc_id - 1]\n",
    "                doc_distribution = [x[1] for x in model[doc_tfidf]]\n",
    "                # score using Kullback-Leibler divergence\n",
    "                score = - kl_divergence(query_distribution, doc_distribution)\n",
    "            \n",
    "            ext_doc_id, _ = index.document(int_doc_id)\n",
    "            \n",
    "            # Fill data dictionary\n",
    "            try:\n",
    "                data[query_id].append((score, ext_doc_id))\n",
    "            except:\n",
    "                data[query_id] = [(score, ext_doc_id)]\n",
    "    \n",
    "    # Write output to TREC .run file\n",
    "    with open(run_out_path, 'w') as f_out:\n",
    "        write_run(\n",
    "            model_name=model_name,\n",
    "            data=data,\n",
    "            out_f=f_out,\n",
    "            max_objects_per_query=1000)\n"
   ]
  },
  {
   "cell_type": "code",
   "execution_count": null,
   "metadata": {
    "collapsed": true
   },
   "outputs": [],
   "source": [
    "# Actually run the tf-idf filtering\n",
    "query_to_top1000_validation = tfidf_filter(n=1000, dataset='validation')\n",
    "query_to_top1000_test = tfidf_filter(n=1000, dataset='test')"
   ]
  },
  {
   "cell_type": "markdown",
   "metadata": {},
   "source": [
    "### Corpus preprocessing"
   ]
  },
  {
   "cell_type": "code",
   "execution_count": null,
   "metadata": {
    "collapsed": true
   },
   "outputs": [],
   "source": [
    "_, id2token, _ = index.get_dictionary()"
   ]
  },
  {
   "cell_type": "code",
   "execution_count": null,
   "metadata": {
    "collapsed": true
   },
   "outputs": [],
   "source": [
    "def corpus_to_bow():\n",
    "    \"\"\"\n",
    "    Transform corpus from raw text to a bag-of-words representation.\n",
    "    \"\"\"\n",
    "    corpus = []\n",
    "\n",
    "    for int_doc_id in range(index.document_base(), index.maximum_document()):\n",
    "        _, token_ids = index.document(int_doc_id)\n",
    "\n",
    "        text_bow = collections.Counter(token_id \n",
    "                                       for token_id in token_ids\n",
    "                                       if token_id > 0)\n",
    "        corpus.append(text_bow)\n",
    "        \n",
    "    return corpus"
   ]
  },
  {
   "cell_type": "markdown",
   "metadata": {},
   "source": [
    "> First, convert the corpus to a BOW representation."
   ]
  },
  {
   "cell_type": "code",
   "execution_count": null,
   "metadata": {
    "collapsed": true
   },
   "outputs": [],
   "source": [
    "corpus_bow = [list(counter.items()) for counter in corpus_to_bow()]"
   ]
  },
  {
   "cell_type": "markdown",
   "metadata": {},
   "source": [
    "> Then, apply a tf-idf model to the corpus."
   ]
  },
  {
   "cell_type": "code",
   "execution_count": null,
   "metadata": {
    "collapsed": true
   },
   "outputs": [],
   "source": [
    "tfidf_model = TfidfModel(corpus_bow)"
   ]
  },
  {
   "cell_type": "code",
   "execution_count": null,
   "metadata": {
    "collapsed": true
   },
   "outputs": [],
   "source": [
    "tfidf_corpus = [x for x in tfidf_model[corpus_bow]]"
   ]
  },
  {
   "cell_type": "markdown",
   "metadata": {},
   "source": [
    "### LSI: parameter optimization\n",
    "#### Number of topics"
   ]
  },
  {
   "cell_type": "code",
   "execution_count": null,
   "metadata": {
    "collapsed": true
   },
   "outputs": [],
   "source": [
    "lsi_models_numtopics = {}\n",
    "lsi_similarity_indices_numtopics = {}\n",
    "\n",
    "for num_topics in [3, 10, 15, 20, 40, 70, 100, 200, 300, 400]:\n",
    "    iter_start_time = time.time()\n",
    "\n",
    "    lsi = LsiModel(tfidf_corpus,\n",
    "                   id2word=id2token,\n",
    "                   num_topics=num_topics,\n",
    "                   chunksize=20000,\n",
    "                   onepass=True,\n",
    "                   power_iters=2)\n",
    "\n",
    "    lsi_models_numtopics[num_topics] = lsi\n",
    "    lsi_similarity_indices_numtopics[num_topics] = similarities.MatrixSimilarity(\n",
    "                                                                lsi[tfidf_corpus],\n",
    "                                                                num_features=num_topics\n",
    "                                                            )\n",
    "    print('Number of topics: {}.  {} seconds'.format(num_topics, int(time.time() - iter_start_time)))"
   ]
  },
  {
   "cell_type": "code",
   "execution_count": null,
   "metadata": {
    "collapsed": true
   },
   "outputs": [],
   "source": [
    "for param_setting, lsi_model in lsi_models_numtopics.items():\n",
    "    run_lsm_retrieval(model_name='lsi_numtopics_{}'.format(param_setting),\n",
    "                          model=lsi_model,\n",
    "                          similarity_index=lsi_similarity_indices_numtopics[param_setting],\n",
    "                          query_to_top_n=query_to_top1000,\n",
    "                          dataset='validation')\n",
    "\n",
    "lsi_models_numtopics = None\n",
    "lsi_similarity_indices_numtopics = None"
   ]
  },
  {
   "cell_type": "markdown",
   "metadata": {},
   "source": [
    "#### Chunk size"
   ]
  },
  {
   "cell_type": "code",
   "execution_count": null,
   "metadata": {
    "collapsed": true
   },
   "outputs": [],
   "source": [
    "lsi_models_chunksize = {}\n",
    "lsi_similarity_indices_chunksize = {}\n",
    "\n",
    "for chunksize in [5000, 10000, 20000, 30000]:\n",
    "    print('Chunksize: {}'.format(chunksize))\n",
    "    iter_start_time = time.time()\n",
    "\n",
    "    lsi = LsiModel(tfidf_corpus,\n",
    "                   id2word=id2token,\n",
    "                   num_topics=200,\n",
    "                   chunksize=chunksize,\n",
    "                   onepass=True,\n",
    "                   power_iters=2)\n",
    "\n",
    "    lsi_models_chunksize[chunksize] = lsi\n",
    "    lsi_similarity_indices_chunksize[chunksize] = similarities.MatrixSimilarity(lsi[tfidf_corpus],\n",
    "                                                                                num_features=200)\n",
    "    print('Runtime: {} seconds'.format(int(time.time() - iter_start_time)))"
   ]
  },
  {
   "cell_type": "code",
   "execution_count": null,
   "metadata": {
    "collapsed": true
   },
   "outputs": [],
   "source": [
    "for param_setting, lsi_model in lsi_models_chunksize.items():\n",
    "    run_lsm_retrieval(model_name='lsi_chunksize_{}'.format(param_setting),\n",
    "                          model=lsi_model,\n",
    "                          similarity_index=lsi_similarity_indices_chunksize[param_setting],\n",
    "                          query_to_top_n=query_to_top1000,\n",
    "                          dataset='validation')\n",
    "    \n",
    "lsi_models_chunksize = None\n",
    "lsi_similarity_indices_chunksize = None"
   ]
  },
  {
   "cell_type": "markdown",
   "metadata": {},
   "source": [
    "#### One-pass or multi-pass stochastic algorithm"
   ]
  },
  {
   "cell_type": "code",
   "execution_count": null,
   "metadata": {
    "collapsed": true
   },
   "outputs": [],
   "source": [
    "lsi_models_onepass = {}\n",
    "lsi_similarity_indices_onepass = {}\n",
    "\n",
    "for onepass in [False, True]:\n",
    "    if onepass:\n",
    "        print('One-pass')\n",
    "    else:\n",
    "        print('Multi-pass')\n",
    "    iter_start_time = time.time()\n",
    "\n",
    "    lsi = LsiModel(tfidf_corpus,\n",
    "                   id2word=id2token,\n",
    "                   num_topics=200,\n",
    "                   chunksize=20000,\n",
    "                   onepass=onepass,\n",
    "                   power_iters=2)\n",
    "\n",
    "    lsi_models_onepass[onepass] = lsi\n",
    "    lsi_similarity_indices_onepass[onepass] = similarities.MatrixSimilarity(\n",
    "                                                                lsi[tfidf_corpus],\n",
    "                                                                num_features=200\n",
    "                                                            )\n",
    "    print('Runtime: {} seconds'.format(int(time.time() - iter_start_time)))"
   ]
  },
  {
   "cell_type": "code",
   "execution_count": null,
   "metadata": {
    "collapsed": true
   },
   "outputs": [],
   "source": [
    "for param_setting, lsi_model in lsi_models_onepass.items():\n",
    "    run_lsm_retrieval(model_name='lsi_onepass_{}'.format(param_setting),\n",
    "                          model=lsi_model,\n",
    "                          similarity_index=lsi_similarity_indices_onepass[param_setting],\n",
    "                          query_to_top_n=query_to_top1000,\n",
    "                          dataset='validation')\n",
    "    \n",
    "lsi_models_onepass = None\n",
    "lsi_similarity_indices_onepass = None"
   ]
  },
  {
   "cell_type": "markdown",
   "metadata": {},
   "source": [
    "### LDA: parameter optimization\n",
    "#### Number of topics"
   ]
  },
  {
   "cell_type": "code",
   "execution_count": null,
   "metadata": {
    "collapsed": true
   },
   "outputs": [],
   "source": [
    "lda_models_numtopics = {}\n",
    "\n",
    "for num_topics in [40, 70, 100, 130, 160]:\n",
    "    print('Number of topics: {}'.format(num_topics))\n",
    "    iter_start_time = time.time()\n",
    "\n",
    "    lda = LdaModel(tfidf_corpus,\n",
    "                   num_topics=num_topics,\n",
    "                   chunksize=2000,\n",
    "                   alpha='auto',\n",
    "                   eta='auto',\n",
    "                   minimum_probability=0.0,\n",
    "                   per_word_topics=False)\n",
    "\n",
    "    lda_models_numtopics[num_topics] = lda\n",
    "\n",
    "    print('Runtime: {} seconds'.format(int(time.time() - iter_start_time)))"
   ]
  },
  {
   "cell_type": "code",
   "execution_count": null,
   "metadata": {
    "collapsed": true
   },
   "outputs": [],
   "source": [
    "for param_setting, lda_model in lda_models_numtopics.items():\n",
    "    run_lsm_retrieval(model_name='lda_numtopics_{}'.format(param_setting),\n",
    "                          model=lda_model,\n",
    "                          query_to_top_n=query_to_top1000,\n",
    "                          dataset='validation')\n",
    "    \n",
    "lda_models_numtopics = None"
   ]
  },
  {
   "cell_type": "markdown",
   "metadata": {},
   "source": [
    "#### Chunk size"
   ]
  },
  {
   "cell_type": "code",
   "execution_count": null,
   "metadata": {
    "collapsed": true
   },
   "outputs": [],
   "source": [
    "lda_models_chunksize = {}\n",
    "\n",
    "for chunksize in [500, 2000, 10000]:\n",
    "    print('Chunksize: {}'.format(chunksize))\n",
    "    iter_start_time = time.time()\n",
    "\n",
    "    lda = LdaModel(tfidf_corpus,\n",
    "                   num_topics=100,\n",
    "                   chunksize=chunksize,\n",
    "                   alpha='auto',\n",
    "                   eta='auto',\n",
    "                   minimum_probability=0.0,\n",
    "                   per_word_topics=False)\n",
    "\n",
    "    lda_models_chunksize[chunksize] = lda\n",
    "\n",
    "    print('Runtime: {} seconds'.format(int(time.time() - iter_start_time)))"
   ]
  },
  {
   "cell_type": "code",
   "execution_count": null,
   "metadata": {
    "collapsed": true
   },
   "outputs": [],
   "source": [
    "for param_setting, lda_model in lda_models_chunksize.items():\n",
    "    run_lsm_retrieval(model_name='lda_chunksize_{}'.format(param_setting),\n",
    "                          model=lda_model,\n",
    "                          query_to_top_n=query_to_top1000,\n",
    "                          dataset='validation')\n",
    "    \n",
    "lda_models_chunksize = None"
   ]
  },
  {
   "cell_type": "markdown",
   "metadata": {},
   "source": [
    "> All hyperparameters are now set. Please read the report for further details."
   ]
  },
  {
   "cell_type": "markdown",
   "metadata": {},
   "source": [
    "### Latent Semantic Indexing"
   ]
  },
  {
   "cell_type": "code",
   "execution_count": null,
   "metadata": {
    "collapsed": true
   },
   "outputs": [],
   "source": [
    "lsi = LsiModel(tfidf_corpus,\n",
    "               id2word=id2token,\n",
    "               num_topics=20,\n",
    "               chunksize=5000,\n",
    "               onepass=True,\n",
    "               power_iters=2)\n",
    "\n",
    "lsi_similarity_index = similarities.MatrixSimilarity(lsi[tfidf_corpus], num_features=20)\n",
    "\n",
    "run_lsm_retrieval(model_name='LSI',\n",
    "                  model=lsi,\n",
    "                  similarity_index=lsi_similarity_index,\n",
    "                  query_to_top_n=query_to_top1000_test,\n",
    "                  dataset='test')\n",
    "\n",
    "lsi.save('lsi_model')\n",
    "lsi_similarity_index.save('lsi_similarity_index')"
   ]
  },
  {
   "cell_type": "markdown",
   "metadata": {},
   "source": [
    "### Latent Dirichlet Allocation"
   ]
  },
  {
   "cell_type": "code",
   "execution_count": null,
   "metadata": {
    "collapsed": true
   },
   "outputs": [],
   "source": [
    "lda = LdaModel(tfidf_corpus,\n",
    "               num_topics=100,\n",
    "               chunksize=2000,\n",
    "               alpha='auto',\n",
    "               eta='auto',\n",
    "               minimum_probability=0.0,\n",
    "               per_word_topics=False)\n",
    "\n",
    "run_lsm_retrieval(model_name='LDA',\n",
    "                  model=lda,\n",
    "                  query_to_top_n=query_to_top1000_test,\n",
    "                  dataset='test')\n",
    "\n",
    "lda = LdaModel.save('./lda_model')"
   ]
  },
  {
   "cell_type": "markdown",
   "metadata": {},
   "source": [
    "### Significance testing: LSI vs. LDA"
   ]
  },
  {
   "cell_type": "code",
   "execution_count": null,
   "metadata": {
    "collapsed": true
   },
   "outputs": [],
   "source": [
    "lsi_ndcg10_test = read_statistics('statistics/test/lsi_ndcg10_test.txt')\n",
    "lda_ndcg10_test = read_statistics('statistics/test/lda_ndcg10_test.txt')\n",
    "ndcg10_test_all = {'lsi_ndcg10_test': lsi_ndcg10_test, 'lda_ndcg10_test': lda_ndcg10_test}\n",
    "\n",
    "lsi_map1000_test = read_statistics('statistics/test/lsi_map1000_test.txt')\n",
    "lda_map1000_test = read_statistics('statistics/test/lda_map1000_test.txt')\n",
    "map1000_test_all = {'lsi_map1000_test': lsi_map1000_test, 'lda_map1000_test': lda_map1000_test}\n",
    "\n",
    "lsi_recall1000_test = read_statistics('statistics/test/lsi_recall1000_test.txt')\n",
    "lda_recall1000_test = read_statistics('statistics/test/lda_recall1000_test.txt')\n",
    "recall1000_test_all = {'lsi_recall1000_test': lsi_recall1000_test, 'lda_recall1000_test': lda_recall1000_test}\n",
    "\n",
    "lsi_precision5_test = read_statistics('statistics/test/lsi_precision5_test.txt')\n",
    "lda_precision5_test = read_statistics('statistics/test/lda_precision5_test.txt')\n",
    "precision5_test_all = {'lsi_precision5_test': lsi_precision5_test, 'lda_precision5_test': lda_precision5_test}"
   ]
  },
  {
   "cell_type": "code",
   "execution_count": null,
   "metadata": {
    "collapsed": true
   },
   "outputs": [],
   "source": [
    "t_test(ndcg10_test_all)\n",
    "t_test(map1000_test_all)\n",
    "t_test(recall1000_test_all)\n",
    "t_test(precision5_test_all)"
   ]
  },
  {
   "cell_type": "markdown",
   "metadata": {},
   "source": [
    "### Task 3:  Word embeddings for ranking [20 points] (open-ended) ###\n",
    "\n",
    "First create word embeddings on the corpus we provided using [word2vec](http://arxiv.org/abs/1411.2738) -- [gensim implementation](https://radimrehurek.com/gensim/models/word2vec.html). You should extract the indexed documents using pyndri and provide them to gensim for training a model (see example [here](https://github.com/nickvosk/pyndri/blob/master/examples/word2vec.py)).\n",
    "   \n",
    "This is an open-ended task. It is left up you to decide how you will combine word embeddings to derive query and document representations. Note that since we provide the implementation for training word2vec, you will be graded based on your creativity on combining word embeddings for building query and document representations.\n",
    "\n",
    "Note: If you want to experiment with pre-trained word embeddings on a different corpus, you can use the word embeddings we provide alongside the assignment (./data/reduced_vectors_google.txt.tar.gz). These are the [google word2vec word embeddings](https://code.google.com/archive/p/word2vec/), reduced to only the words that appear in the document collection we use in this assignment."
   ]
  },
  {
   "cell_type": "markdown",
   "metadata": {},
   "source": [
    "#### Train a Skip-gram model"
   ]
  },
  {
   "cell_type": "code",
   "execution_count": null,
   "metadata": {
    "collapsed": true
   },
   "outputs": [],
   "source": [
    "def train_w2v():\n",
    "    \"\"\"\n",
    "    Get w2v for all terms\n",
    "    \"\"\"\n",
    "    dictionary = pyndri.extract_dictionary(index)\n",
    "    sentences = pyndri.compat.IndriSentences(index, dictionary)\n",
    "\n",
    "    word2vec_init = gensim.models.Word2Vec(\n",
    "        size= 300,    # Embedding size\n",
    "        window=5,     # One-sided window size\n",
    "        sg=True,      # Skip-gram\n",
    "        min_count=5,  # Minimum word frequency\n",
    "        sample=1e-3,  # Sub-sample threshold\n",
    "        hs=False,     # Hierarchical softmax\n",
    "        negative=10,  # Number of negative examples\n",
    "        iter=1,       # Number of iterations\n",
    "        workers=8,    # Number of workers\n",
    "    )\n",
    "\n",
    "    word2vec_init.build_vocab(sentences, trim_rule=None)\n",
    "\n",
    "    print(\"start training\")\n",
    "\n",
    "    model = word2vec_init\n",
    "    model.train(sentences, total_examples = len(sentences) , epochs= 5 )\n",
    "    model.wv.save_word2vec_format('model_w2v.bin')\n",
    "    model.wv.save_word2vec_format('model_w2v.txt', binary=False)"
   ]
  },
  {
   "cell_type": "markdown",
   "metadata": {},
   "source": [
    "#### Or load pre-trained word2vec embeddings"
   ]
  },
  {
   "cell_type": "code",
   "execution_count": null,
   "metadata": {
    "collapsed": true
   },
   "outputs": [],
   "source": [
    "# Read google embeddings\n",
    "\n",
    "with open(\"reduced_vectors_google.txt\",\"r\") as f:\n",
    "    g_embeds = {}\n",
    "    vec = []\n",
    "\n",
    "    for i, l in enumerate(f):\n",
    "        if i == 0:\n",
    "            continue\n",
    "\n",
    "        line = l.split()\n",
    "        vec.extend(line)\n",
    "        if len(vec) == 301:\n",
    "            g_embeds[vec[0]] = [float(entry) for entry in vec[1:]]\n",
    "            vec = []"
   ]
  },
  {
   "cell_type": "markdown",
   "metadata": {},
   "source": [
    "> for covenience... "
   ]
  },
  {
   "cell_type": "code",
   "execution_count": null,
   "metadata": {
    "collapsed": true
   },
   "outputs": [],
   "source": [
    "def IDF_all_terms(term_id):\n",
    "    \"\"\"\n",
    "    Inverse Document Frequency of a term.\n",
    "    \n",
    "    :param term_id : the term id \n",
    "    \"\"\"\n",
    "    df = term2numdocs[term_id]\n",
    "\n",
    "    return log(num_documents / df) "
   ]
  },
  {
   "cell_type": "code",
   "execution_count": null,
   "metadata": {
    "collapsed": true
   },
   "outputs": [],
   "source": [
    "# Top 1000 docs for each query in the test set.\n",
    "tfidf_filter_test = tfidf_filter(n=1000, dataset='test')"
   ]
  },
  {
   "cell_type": "markdown",
   "metadata": {},
   "source": [
    "### Combining word embeddings\n",
    "- weighting words by their tf-idf (documents)\n",
    "- weighting words by their BM25 score (documents)\n",
    "- averaging over words (queries)\n",
    "\n",
    "[please see the report for a more detailed description]"
   ]
  },
  {
   "cell_type": "code",
   "execution_count": null,
   "metadata": {
    "collapsed": true
   },
   "outputs": [],
   "source": [
    "def word2doc_subset(subset, embeds, weight_model = \"tfidf\"):\n",
    "    \"\"\"\n",
    "    Creates dictionary of document embeddings, \"int_doc_id\" --> np_array of doc embed.\n",
    "    \n",
    "    :param subset: a subset of the data, for example top1000 by tfidf\n",
    "    :param embeds: either self trained by w2w or google embeds\n",
    "    :param weight_model : either \"tfidf\" or \"BM25\"\n",
    "    \"\"\"\n",
    "    except_list = []\n",
    "    key_error = 0\n",
    "    doc_embeds = dict()\n",
    "    count = 0\n",
    "    count_words_below_5 = 0\n",
    "\n",
    "     # FOR ALL QUERIES\n",
    "    for query_id in list(subset.keys()):  \n",
    "        # FOR ALL DOCUMENTS\n",
    "        for int_doc_id in subset[query_id]:  \n",
    "\n",
    "            # discard all zero length docs\n",
    "            if document_lengths[int_doc_id] == 0:\n",
    "                continue\n",
    "\n",
    "            _ , doc_token_ids = index.document(int_doc_id)\n",
    "\n",
    "            document_bow = collections.Counter(\n",
    "            token_id for token_id in doc_token_ids\n",
    "            if token_id > 0)\n",
    "        \n",
    "            document_vec = np.zeros(300)\n",
    "            normalization_const = 0\n",
    "            for token_id in document_bow.keys():\n",
    "                # only if the term is in the w2v embeddings (i.e. it appears more than 5 times in collection)\n",
    "                try:\n",
    "                    # log normalized tf\n",
    "                    tf = 1 + log(document_bow[token_id])\n",
    "                    idf = IDF_all_terms(token_id)\n",
    "                    if weight_model == \"tfidf\":\n",
    "                        \n",
    "                        weight = tf * idf\n",
    "                        \n",
    "                    elif weight_model == \"BM25\":\n",
    "                        \n",
    "                        doc_len = sum(document_bow.values())\n",
    "                        \n",
    "                        weight = (2.2*tf)/(1.2*(0.25+0.75*(doc_len/avg_doc_length)) + tf) * idf\n",
    "                \n",
    "                    # weight * word2vec embed of term\n",
    "                   \n",
    "                    document_vec += weight * np.array(embeds[id2token[token_id]])\n",
    "                    \n",
    "                    normalization_const += 1\n",
    "                except KeyError:\n",
    "                    if token_id not in except_list:\n",
    "                        except_list.append(token_id)\n",
    "                    key_error +=1\n",
    "                    continue\n",
    "                \n",
    "            # only create document embedding if there was at least a term present in the w2v embeddings\n",
    "            if normalization_const != 0:\n",
    "                doc_embeds[int_doc_id] = document_vec / normalization_const\n",
    "\n",
    "    return doc_embeds                \n",
    "                    \n",
    "\n",
    "def word2query_subset(subset, embeds):\n",
    "    \"\"\"\n",
    "    Creates dictionary of query embeddings, \"query_id\" --> np_array of query embed.\n",
    "\n",
    "    :param subset: a subset of the data, for example top1000 by tfidf\n",
    "    :param embeds: either self trained with word2vec or Google embeds\n",
    "    \"\"\"\n",
    "    query_embeds = dict()\n",
    "    \n",
    "    for query_id in list(subset.keys()):  \n",
    "        query_term_embeds = np.zeros(300)\n",
    "        query_len = 0\n",
    "        for q_term in tokenized_queries[query_id]:\n",
    "            \n",
    "            try:\n",
    "                query_len += 1\n",
    "                query_term_embeds += np.array(embeds[id2token[q_term]])\n",
    "                \n",
    "            except KeyError:\n",
    "                continue\n",
    "            \n",
    "        if query_len > 0:\n",
    "        \n",
    "            query_avg = query_term_embeds/query_len\n",
    "        \n",
    "        query_embeds[query_id] = query_avg\n",
    "       \n",
    "    return query_embeds"
   ]
  },
  {
   "cell_type": "code",
   "execution_count": null,
   "metadata": {
    "collapsed": true
   },
   "outputs": [],
   "source": [
    "model = gensim.models.keyedvectors.KeyedVectors.load_word2vec_format('model_w2v.txt', binary=False) "
   ]
  },
  {
   "cell_type": "code",
   "execution_count": null,
   "metadata": {
    "collapsed": true
   },
   "outputs": [],
   "source": [
    "# doc and query embeds of test set \n",
    "doc_embeds = word2doc_subset(tfidf_filter_test, model)\n",
    "doc_embeds_g = word2doc_subset(tfidf_filter_test, g_embeds)\n",
    "\n",
    "query_embeds = word2query_subset(tfidf_filter_test, model)\n",
    "query_embeds_g = word2query_subset(tfidf_filter_test, g_embeds)"
   ]
  },
  {
   "cell_type": "markdown",
   "metadata": {},
   "source": [
    "### Task 4: Learning to rank (LTR) [15 points] (open-ended) ###\n",
    "\n",
    "In this task you will get an introduction into learning to rank for information retrieval.\n",
    "\n",
    "You can explore different ways for devising features for the model. Obviously, you can use the retrieval methods you implemented in Task 1, Task 2 and Task 3 as features. Think about other features you can use (e.g. query/document length). Creativity on devising new features and providing motivation for them will be taken into account when grading.\n",
    "\n",
    "For every query, first create a document candidate set using the top-1000 documents using TF-IDF, and subsequently compute features given a query and a document. Note that the feature values of different retrieval methods are likely to be distributed differently.\n",
    "\n",
    "You are adviced to start some pointwise learning to rank algorithm e.g. logistic regression, implemented in [scikit-learn](http://scikit-learn.org/stable/modules/generated/sklearn.linear_model.LogisticRegression.html).\n",
    "Train your LTR model using 10-fold cross validation on the test set. More advanced learning to rank algorithms will be appreciated when grading."
   ]
  },
  {
   "cell_type": "markdown",
   "metadata": {},
   "source": [
    "### Document embeddings\n",
    "- 300-dimensional: __query_vector + document_vector__\n",
    "- 600-dimensional: __query_vector ; document_vector__"
   ]
  },
  {
   "cell_type": "code",
   "execution_count": null,
   "metadata": {
    "collapsed": true
   },
   "outputs": [],
   "source": [
    "def load_distributional_data(split, doc_embeds, query_embeds):\n",
    "    '''\n",
    "    Load query-document distributional features.\n",
    "    \n",
    "    :param split: 'test' or 'validation'\n",
    "    :param doc_embeds: a dict mapping from internal document ids to document embeddings\n",
    "    :param query_embeds: a dict mapping from query ids to query embeddings\n",
    "    \n",
    "    :return X_concat, X_add, y, query_doc_pairs\n",
    "    \n",
    "            X_concat: numpy array of features consisting of the concatenated doc and query embeddings\n",
    "            X_add: numpy array of features consisting of the addition of a doc and a query embedding\n",
    "            y: numpy array of binary relevance labels\n",
    "            query_doc_pairs: list of query-doc pairs with indices corresponding to the list of features\n",
    "    '''\n",
    "    \n",
    "    if split != 'test' and split != 'validation':\n",
    "        raise ValueError(\"Only values for split: 'test', 'validation'.\")\n",
    "        \n",
    "    X_concat = []\n",
    "    X_add = []\n",
    "    query_doc_pairs = []\n",
    "    \n",
    "    query_to_docs = test_ids if split == 'test' else validation_ids\n",
    "\n",
    "    for query_id in query_to_docs.keys():\n",
    "        query_embed = query_embeds[query_id]\n",
    "        \n",
    "        for int_doc_id, ext_doc_id in query_to_docs[query_id]: \n",
    "            # discard all zero length docs\n",
    "            if document_lengths[int_doc_id] == 0:\n",
    "                continue\n",
    "            \n",
    "            try:\n",
    "                doc_embed = doc_embeds[int_doc_id]\n",
    "            except KeyError:\n",
    "                continue  # document is not in the top 1000\n",
    "            \n",
    "            feature_vec_concat = np.concatenate([query_embed, doc_embed])\n",
    "            feature_vec_add = query_embed + doc_embed\n",
    "            \n",
    "            X_concat.append(feature_vec_concat)\n",
    "            X_add.append(feature_vec_add)\n",
    "            \n",
    "            query_doc_pairs.append((query_id, ext_doc_id))\n",
    "            \n",
    "            \n",
    "    y = np.zeros(len(X_concat))\n",
    "\n",
    "    path = './ap_88_89/qrel_test' if split == 'test' else './ap_88_89/qrel_validation'\n",
    "    with open(path, 'r') as f:\n",
    "        for line in f:\n",
    "            line = line.strip().split()\n",
    "            q_id = line[0]\n",
    "            doc_id = line[2]\n",
    "            label = line[3]\n",
    "\n",
    "            try:\n",
    "                idx = query_doc_pairs.index((q_id, doc_id))\n",
    "                y[idx] = int(label)\n",
    "            except ValueError:\n",
    "                continue\n",
    "\n",
    "    return np.array(X_concat), np.array(X_add), y, query_doc_pairs"
   ]
  },
  {
   "cell_type": "code",
   "execution_count": null,
   "metadata": {
    "collapsed": true
   },
   "outputs": [],
   "source": [
    "### Alternative: Combine all methods into a feature vector consisting of 8 scores"
   ]
  },
  {
   "cell_type": "code",
   "execution_count": null,
   "metadata": {
    "collapsed": true
   },
   "outputs": [],
   "source": [
    "lsi = LsiModel.load('./lsi_model')\n",
    "lsi_similarity_index = similarities.MatrixSimilarity.load('./lsi_similarity_index')\n",
    "lda = LdaModel.load('./lda_model/lda_model')"
   ]
  },
  {
   "cell_type": "code",
   "execution_count": null,
   "metadata": {
    "collapsed": true
   },
   "outputs": [],
   "source": [
    "def load_data(split):\n",
    "    '''\n",
    "    Load query-document features.\n",
    "    A feature consists of an 8-dimensional vector containing scores obtained with the following methods:\n",
    "    tfidf, BM25, Jelinek-Mercer, Dirichlet prior, Absolute Discounting, LSI, LDA, PLM.\n",
    "    \n",
    "    :param split: 'test' or 'validation'\n",
    "    \n",
    "    :return X, y, query_doc_pairs\n",
    "    \n",
    "            X: numpy feature matrix\n",
    "            y: numpy array of binary relevance labels\n",
    "            query_doc_pairs: list of query-doc pairs with indices corresponding to the list of\n",
    "                             features and that of labels\n",
    "    '''\n",
    "    if split != 'test' and split != 'validation':\n",
    "        raise ValueError(\"Only values for split: 'test', 'validation'.\")\n",
    "\n",
    "    X = []\n",
    "    query_doc_pairs = []\n",
    "\n",
    "    query_to_docs = test_ids if split == 'test' else validation_ids\n",
    "\n",
    "    for query_id in query_to_docs.keys():\n",
    "        query_counter = collections.Counter(token_id \n",
    "                                            for token_id in tokenized_queries[query_id]\n",
    "                                            if token_id > 0\n",
    "                                            )\n",
    "        query_terms = list(query_counter.items())\n",
    "        query_tfidf = tfidf_model[query_terms]\n",
    "        query_vec_lsi = lsi[query_tfidf]\n",
    "        query_vec_lda = None\n",
    "\n",
    "        similarities = lsi_similarity_index[query_vec_lsi]\n",
    "\n",
    "        for int_doc_id, ext_doc_id in query_to_docs[query_id]: \n",
    "\n",
    "            # discard all zero length docs\n",
    "            if document_lengths[int_doc_id] == 0:\n",
    "                continue\n",
    "\n",
    "            feature_vec = []\n",
    "\n",
    "            for score_fn in [tfidf, BM25, jelinek_mercer, dirichlet_prior, absolute_discounting, lsi, lda]:\n",
    "\n",
    "                cnt_qwords_in_doc = 0  # how many query words occ\n",
    "                score = 0\n",
    "\n",
    "                if score_fn == lsi:\n",
    "                    score = similarities[int_doc_id - 1]\n",
    "                if score_fn == lda:\n",
    "                    if query_vec_lda is None:\n",
    "                        query_vec_lda = lda[query_tfidf]\n",
    "                        query_distribution = [x[1] for x in query_vec_lda]\n",
    "\n",
    "                    doc_tfidf = tfidf_corpus[int_doc_id - 1]\n",
    "                    doc_distribution = [x[1] for x in lda[doc_tfidf]]\n",
    "                    score = - kl_divergence(query_distribution, doc_distribution)\n",
    "\n",
    "                for q_term in tokenized_queries[query_id]: \n",
    "\n",
    "                    try: \n",
    "                        document_term_freq = inverted_index[q_term][int_doc_id]\n",
    "                        cnt_qwords_in_doc += 1\n",
    "                    except KeyError:\n",
    "                        document_term_freq = 0  # query term is not in the document\n",
    "\n",
    "                    if score_fn == tfidf or score_fn == BM25:\n",
    "                        score += score_fn(int_doc_id, q_term, document_term_freq)\n",
    "                    elif score_fn == jelinek_mercer:\n",
    "                        score += log(score_fn(int_doc_id, q_term, document_term_freq, **{'lambda':0.1}))\n",
    "                    elif score_fn == dirichlet_prior:\n",
    "                        score += log(score_fn(int_doc_id, q_term, document_term_freq, mu=500))\n",
    "                    elif score_fn == absolute_discounting:\n",
    "                        score += log(score_fn(int_doc_id, q_term, document_term_freq, delta=0.9))\n",
    "\n",
    "                # transform back from log-probs to probs\n",
    "                if score_fn in [jelinek_mercer, dirichlet_prior, absolute_discounting]:\n",
    "                    score = exp(score)\n",
    "\n",
    "                # only score documents that contain at least one query term\n",
    "                if cnt_qwords_in_doc == 0:\n",
    "                    score = 0\n",
    "\n",
    "                # append score for this scoring function to\n",
    "                feature_vec.append(score)\n",
    "\n",
    "            X.append(feature_vec)\n",
    "            query_doc_pairs.append((query_id, ext_doc_id))\n",
    "\n",
    "    y = np.zeros(len(X))\n",
    "\n",
    "    path = './ap_88_89/qrel_test' if split == 'test' else './ap_88_89/qrel_validation'\n",
    "    with open(path, 'r') as f:\n",
    "        for line in f:\n",
    "            line = line.strip().split()\n",
    "            q_id = line[0]\n",
    "            doc_id = line[2]\n",
    "            label = line[3]\n",
    "\n",
    "            try:\n",
    "                idx = query_doc_pairs.index((q_id, doc_id))\n",
    "                y[idx] = int(label)\n",
    "            except ValueError:\n",
    "                continue\n",
    "\n",
    "    return np.array(X), y, query_doc_pairs"
   ]
  },
  {
   "cell_type": "markdown",
   "metadata": {},
   "source": [
    "> Now, generate a new test set based on 30 queries uniformly sampled from the joint validation and test sets."
   ]
  },
  {
   "cell_type": "code",
   "execution_count": null,
   "metadata": {
    "collapsed": true
   },
   "outputs": [],
   "source": [
    "np.random.seed(0)\n",
    "\n",
    "ids = [103, 111, 114, 120, 123, 135, 143, 144, 151, 155, 158, 165, 167, 170, 173,\n",
    "       180, 182, 192, 53, 57, 69, 74, 78, 86, 89, 90, 92, 93, 94, 95, 83, 84, 85,\n",
    "       102, 104, 105, 106, 107, 108, 109, 110, 112, 113, 115, 116, 117, 118, 119,\n",
    "       121, 122, 124, 125, 126, 127, 128, 129, 130, 131, 132, 133, 134, 136, 137,\n",
    "       138, 139, 140, 141, 142, 145, 146, 147, 148, 149, 150, 152, 153, 154, 156,\n",
    "       157, 159, 160, 161, 162, 163, 164, 166, 168, 169, 171, 172, 174, 175, 176,\n",
    "       177, 178, 179, 181, 183, 184, 185, 186, 187, 188, 189, 190, 191, 193, 194,\n",
    "       195, 196, 197, 198, 199, 200, 51, 52, 54, 55, 56, 58, 59, 60, 100, 61, 62, \n",
    "       63, 64, 65, 66, 67, 68, 70, 71, 72, 73, 75, 76, 77, 79, 80, 82, 101, 87, \n",
    "       88, 91, 96, 97, 98, 99, 81]\n",
    "\n",
    "ids = np.array(ids)\n",
    "np.random.shuffle(ids)\n",
    "random_query_ids = np.random.choice(ids, 30)\n",
    "\n",
    "out_f = open('ap_88_89/qrel_final_test', 'w')\n",
    "\n",
    "# The usual queryID -> (int_doc_id, ext_doc_id) dictionary\n",
    "final_test_ids = {}\n",
    "\n",
    "with open('ap_88_89/qrel_test', 'r') as f:\n",
    "    for l in f:\n",
    "        line = l.strip().split()\n",
    "        if len(line) != 4:\n",
    "            continue\n",
    "\n",
    "        q_id = line[0]\n",
    "        ext_id = line[2]\n",
    "\n",
    "        if int(q_id) not in random_query_ids:\n",
    "            continue\n",
    "\n",
    "        print(l, file=out_f, end='')\n",
    "\n",
    "        try:\n",
    "            int_id = ext_to_int[ext_id]\n",
    "\n",
    "            try:\n",
    "                final_test_ids[q_id].append((int_id, ext_id))\n",
    "            except KeyError:\n",
    "                final_test_ids[q_id] = [(int_id, ext_id)]\n",
    "\n",
    "        except KeyError:\n",
    "            pass  # test document not in index\n",
    "\n",
    "with open('ap_88_89/qrel_validation', 'r') as f:\n",
    "    for l in f:\n",
    "        line = l.strip().split()\n",
    "        if len(line) != 4:\n",
    "            continue\n",
    "\n",
    "        q_id = line[0]\n",
    "        ext_id = line[2]\n",
    "\n",
    "        if int(q_id) not in random_query_ids:\n",
    "            continue\n",
    "\n",
    "        print(l, file=out_f, end='')\n",
    "\n",
    "        try:\n",
    "            int_id = ext_to_int[ext_id]\n",
    "\n",
    "            try:\n",
    "                final_test_ids[q_id].append((int_id, ext_id))\n",
    "            except KeyError:\n",
    "                final_test_ids[q_id] = [(int_id, ext_id)]\n",
    "\n",
    "        except KeyError:\n",
    "            pass  # test document not in index\n",
    "\n",
    "out_f.close()"
   ]
  },
  {
   "cell_type": "markdown",
   "metadata": {},
   "source": [
    "> Load feature matrix and relevance labels."
   ]
  },
  {
   "cell_type": "code",
   "execution_count": null,
   "metadata": {
    "collapsed": true
   },
   "outputs": [],
   "source": [
    "# Load query-document embeddings and relevance labels\n",
    "\n",
    "# word2vec embeddings trained on document collection\n",
    "# Pre-trained word2vec embeddings. Construct the training and test datasets\n",
    "Xe_concat, Xe_add, ye, query_e_doc_pairs = load_distributional_data('test', doc_embeds_g, query_embeds_g)\n",
    "Xe_concat_test, Xe_add_test, ye_test, query_e_doc_pairs_test = load_distributional_data('validation',\n",
    "                                                                                        doc_embeds_g_validation,\n",
    "                                                                                        query_embeds_g_validation)\n",
    "\n",
    "np.savetxt(\"Xe_concat.csv\", Xe_concat, delimiter=',')\n",
    "np.savetxt(\"Xe_add.csv\", Xe_add, delimiter=',')\n",
    "np.savetxt('ye.csv', ye, delimiter=',')\n",
    "np.savetxt('Xe_concat_test.csv', Xe_concat_test, delimiter=',')\n",
    "np.savetxt(\"Xe_add_test.csv\", Xe_add_test, delimiter=',')\n",
    "np.savetxt('ye_test.csv', ye_test, delimiter=',')\n",
    "\n",
    "with open('query_e_doc_pairs', 'wb') as f:\n",
    "    pickle.dump(query_e_doc_pairs, f)\n",
    "\n",
    "with open('query_e_doc_pairs_test', 'wb') as f:\n",
    "    pickle.dump(query_e_doc_pairs_test, f)\n",
    "\n",
    "\n",
    "# Construct the training and test datasets with features\n",
    "X, y, query_doc_pairs = load_data('test')\n",
    "X_test, y_test, query_doc_pairs_test = load_data('validation')\n",
    "\n",
    "np.savetxt(\"X.csv\", X, delimiter=',')\n",
    "np.savetxt('y.csv', y, delimiter=',')\n",
    "np.savetxt('X_test.csv', X_test, delimiter=',')\n",
    "np.savetxt('y_test.csv', y_test, delimiter=',')\n",
    "\n",
    "with open('query_doc_pairs', 'wb') as f:\n",
    "    pickle.dump(query_doc_pairs, f)\n",
    "\n",
    "with open('query_doc_pairs_test', 'wb') as f:\n",
    "    pickle.dump(query_doc_pairs_test, f)\n",
    "\n",
    "# Load training, testing datasets\n",
    "Xe_concat = np.loadtxt(open('Xe_concat.csv', 'rb'), delimiter=',')\n",
    "Xe_add = np.loadtxt(open('Xe_add.csv', 'rb'), delimiter=',')\n",
    "ye = np.loadtxt(open('ye.csv', 'rb'), delimiter=',')\n",
    "Xe_concat_test = np.loadtxt(open('Xe_concat_test.csv', 'rb'), delimiter=',')\n",
    "Xe_add_test = np.loadtxt(open('Xe_add_test.csv', 'rb'), delimiter=',')\n",
    "ye_test = np.loadtxt(open('ye_test.csv', 'rb'), delimiter=',')\n",
    "\n",
    "with open('query_e_doc_pairs', 'rb') as f:\n",
    "    query_e_doc_pairs = pickle.load(f)\n",
    "\n",
    "with open('query_e_doc_pairs_test', 'rb') as f:\n",
    "    query_e_doc_pairs_test = pickle.load(f)\n",
    "\n",
    "\n",
    "X = np.loadtxt(open('X.csv', 'rb'), delimiter=',')\n",
    "y = np.loadtxt(open('y.csv', 'rb'), delimiter=',')\n",
    "X_test = np.loadtxt(open('X_test.csv', 'rb'), delimiter=',')\n",
    "y_test = np.loadtxt(open('y_test.csv', 'rb'), delimiter=',')\n",
    "\n",
    "with open('query_doc_pairs', 'rb') as f:\n",
    "    query_doc_pairs = pickle.load(f)\n",
    "\n",
    "with open('query_doc_pairs_test', 'rb') as f:\n",
    "    query_doc_pairs_test = pickle.load(f)"
   ]
  },
  {
   "cell_type": "markdown",
   "metadata": {},
   "source": [
    "## Pointwise learning: Logistic Regression\n",
    "- trained using 10-fold cross validation on the test set."
   ]
  },
  {
   "cell_type": "code",
   "execution_count": null,
   "metadata": {
    "collapsed": true
   },
   "outputs": [],
   "source": [
    "from sklearn.linear_model import LogisticRegressionCV\n",
    "\n",
    "logreg_crossval = LogisticRegressionCV(Cs=10,\n",
    "                                       fit_intercept=True,\n",
    "                                       cv=10, \n",
    "                                       dual=False,\n",
    "                                       penalty='l2', \n",
    "                                       scoring=None,\n",
    "                                       solver='lbfgs',\n",
    "                                       tol=0.0001,\n",
    "                                       max_iter=100, \n",
    "                                       class_weight=None,\n",
    "                                       intercept_scaling=1.0,\n",
    "                                       multi_class='ovr',\n",
    "                                       random_state=None)\n",
    "\n",
    "logreg = logreg_crossval.fit(X, y)"
   ]
  },
  {
   "cell_type": "code",
   "execution_count": null,
   "metadata": {
    "collapsed": true
   },
   "outputs": [],
   "source": [
    "def run_logreg_retrieval(model_name, predictions, query_doc_pairs, dataset='validation'):\n",
    "    \"\"\"\n",
    "    Runs a retrieval method for all the queries and writes the TREC-friendly results in a file.\n",
    "    \n",
    "    :param model_name: ranknet or logreg\n",
    "    :param predictions: predictions [0, 1] made by the model\n",
    "    :param query_doc_pairs: list of (query_id, ext_doc_id)\n",
    "    :param dataset: validation/test dataset used\n",
    "\n",
    "    \"\"\"\n",
    "    run_out_path = '{}.run'.format(model_name)\n",
    "    \n",
    "    if model_name.startswith('ranknet'):\n",
    "        run_out_path = 'runs/ranknet/{}.run'.format(model_name)\n",
    "\n",
    "    if os.path.exists(run_out_path):\n",
    "        print(\"This output file ({}) already exists.\\n\".format(run_out_path),\n",
    "              \"Delete this file, rename it, or move it elsewhere in your file system.\\n\", sep='')\n",
    "        return\n",
    "    \n",
    "    if dataset == 'test':\n",
    "        query_to_docs = test_ids\n",
    "    elif dataset == 'validation':\n",
    "        query_to_docs = validation_ids\n",
    "    else:\n",
    "        raise ValueError(\"Two possible values for dataset: 'test' or 'validation'.\")\n",
    "    \n",
    "    data = {}\n",
    "    \n",
    "    # FOR ALL QUERIES\n",
    "    for query_id in query_to_docs.keys():  \n",
    "        # FOR ALL DOCUMENTS\n",
    "        for int_doc_id, ext_doc_id in query_to_docs[query_id]:\n",
    "            try:\n",
    "                idx = query_doc_pairs.index((str(query_id), ext_doc_id))\n",
    "            except:\n",
    "                continue\n",
    "            \n",
    "            if model_name == 'logreg':\n",
    "                p_zero, p_one = predictions[idx]\n",
    "            elif model_name.startswith('ranknet'):\n",
    "                p_one = predictions[idx]\n",
    "\n",
    "            # Fill data dictionary\n",
    "            try:\n",
    "                data[query_id].append((p_one, ext_doc_id))\n",
    "            except:\n",
    "                data[query_id] = [(p_one, ext_doc_id)]\n",
    "    \n",
    "    # Write output to TREC .run file\n",
    "    with open(run_out_path, 'w') as f_out:\n",
    "        write_run(\n",
    "            model_name=model_name,\n",
    "            data=data,\n",
    "            out_f=f_out,\n",
    "            max_objects_per_query=1000)  # only consider top 1000 docs for each query"
   ]
  },
  {
   "cell_type": "code",
   "execution_count": null,
   "metadata": {
    "collapsed": true
   },
   "outputs": [],
   "source": [
    "logreg_preds = logreg.predict_proba(X)\n",
    "\n",
    "# Logreg on the constructed features\n",
    "run_logreg_retrieval('logreg', logreg_preds, query_doc_pairs_test, dataset='test')"
   ]
  },
  {
   "cell_type": "markdown",
   "metadata": {},
   "source": [
    "## Pairwise: RankNet"
   ]
  },
  {
   "cell_type": "code",
   "execution_count": null,
   "metadata": {
    "collapsed": true
   },
   "outputs": [],
   "source": [
    "import chainer\n",
    "import chainer.functions as F\n",
    "import chainer.links as L\n",
    "import six\n",
    "\n",
    "from chainer import optimizers\n",
    "from chainer import serializers\n",
    "from tqdm import tqdm\n",
    "from sklearn.preprocessing import StandardScaler"
   ]
  },
  {
   "cell_type": "code",
   "execution_count": null,
   "metadata": {
    "collapsed": true
   },
   "outputs": [],
   "source": [
    "class NN(object):\n",
    "    \"\"\"\n",
    "    Defines a Neural Netwok object\n",
    "    \"\"\"\n",
    "    def init(self, Model, train_X, n_units1, n_units2):\n",
    "        self.model = Model(len(train_X[0]), n_units1, n_units2, 1)\n",
    "        self.optimizer = optimizers.Adam()\n",
    "        self.optimizer.setup(self.model)\n",
    "\n",
    "    def split_data(self, fit_X, fit_y, tv_ratio):\n",
    "        '''\n",
    "        Split data into training and validation sets\n",
    "        \n",
    "        :param fit_X: features (input)\n",
    "        :param fit_y: output\n",
    "        :param tv_ratio: training to validation ratio\n",
    "        '''\n",
    "        N_train = int(np.floor(len(fit_X) * tv_ratio))\n",
    "        train_X, validate_X = np.split(np.asarray(fit_X).astype(np.float32), [N_train])\n",
    "        train_y, validate_y = np.split(np.asarray(fit_y).astype(np.float32).reshape(len(fit_y), 1), [N_train])\n",
    "        return train_X, train_y, validate_X, validate_y\n",
    "\n",
    "    def predict(self, predict_X):\n",
    "        return self.model.predict(predict_X.astype(np.float32))"
   ]
  },
  {
   "cell_type": "code",
   "execution_count": null,
   "metadata": {
    "collapsed": true
   },
   "outputs": [],
   "source": [
    "class Model(chainer.Chain):\n",
    "    \"\"\"\n",
    "    RankNet - Pairwise comparison of ranking.\n",
    "    \"\"\"\n",
    "    def __init__(self, n_in, n_units1, n_units2, n_out):\n",
    "        super(Model, self).__init__(l1=L.Linear(n_in, n_units1),\n",
    "                                    l2=L.Linear(n_units1, n_units2),\n",
    "                                    l3=L.Linear(n_units2, n_out),)\n",
    "\n",
    "    def __call__(self, x_i, x_j, t_i, t_j):\n",
    "\n",
    "        s_i = self.l3(F.relu(self.l2(F.relu(self.l1(x_i)))))\n",
    "        s_j = self.l3(F.relu(self.l2(F.relu(self.l1(x_j)))))\n",
    "        s_diff = s_i - s_j\n",
    "\n",
    "        if t_i.data > t_j.data:\n",
    "            S_ij = 1\n",
    "        elif t_i.data < t_j.data:\n",
    "            S_ij = -1\n",
    "        else:\n",
    "            S_ij = 0\n",
    "\n",
    "        self.loss = (1 - S_ij) * s_diff / 2. + F.log(1 + F.exp(-s_diff))\n",
    "        return self.loss\n",
    "\n",
    "    def predict(self, x):\n",
    "        h1 = F.relu(self.l1(x))\n",
    "        h2 = F.relu(self.l2(h1))\n",
    "        h = F.relu(self.l3(h2))\n",
    "\n",
    "        return h.data\n",
    "\n",
    "\n",
    "class RankNet(NN):\n",
    "    \"\"\"\n",
    "    RankNet training function.\n",
    "    \"\"\"\n",
    "    def __init__(self, model=None):\n",
    "        self.model = model\n",
    "        self.train_loss, self.test_loss = [], []\n",
    "\n",
    "    def ndcg(self, y_true, y_score, k=100):\n",
    "        '''\n",
    "        Evaluation function of NDCG@100\n",
    "        '''\n",
    "        y_true = y_true.ravel()\n",
    "        y_score = y_score.ravel()\n",
    "        y_true_sorted = sorted(y_true, reverse=True)\n",
    "        ideal_dcg = 0\n",
    "        for i in range(k):\n",
    "            ideal_dcg += (2 ** y_true_sorted[i] - 1.) / np.log2(i + 2)\n",
    "        dcg = 0\n",
    "        argsort_indices = np.argsort(y_score)[::-1]\n",
    "        for i in range(k):\n",
    "            dcg += (2 ** y_true[argsort_indices[i]] - 1.) / np.log2(i + 2)\n",
    "        ndcg = dcg / ideal_dcg\n",
    "\n",
    "        return ndcg\n",
    "\n",
    "    def train_model(self, x_train, y_train, x_test, y_test, n_iter):\n",
    "        '''\n",
    "        Training function\n",
    "        '''\n",
    "        sigma = 5.0\n",
    "        loss_step = 100\n",
    "\n",
    "        for step in tqdm(range(n_iter)):\n",
    "            i, j = np.random.randint(len(x_train), size=2)\n",
    "            x_i = chainer.Variable(x_train[i].reshape(1, -1))\n",
    "            x_j = chainer.Variable(x_train[j].reshape(1, -1))\n",
    "            y_i = chainer.Variable(y_train[i])\n",
    "            y_j = chainer.Variable(y_train[j])\n",
    "            self.optimizer.update(self.model, x_i, x_j, y_i, y_j)\n",
    "\n",
    "            if (step + 1) % loss_step == 0:\n",
    "                train_score = self.model.predict(chainer.Variable(x_train))\n",
    "                test_score = self.model.predict(chainer.Variable(x_test))\n",
    "                train_ndcg = self.ndcg(y_train, train_score)\n",
    "                test_ndcg = self.ndcg(y_test, test_score)\n",
    "                self.train_loss.append(train_ndcg)\n",
    "                self.test_loss.append(test_ndcg)\n",
    "\n",
    "    def fit(self, fit_X, fit_y, batchsize=100, n_iter=5000, n_units1=512, n_units2=128, tv_ratio=0.95):\n",
    "\n",
    "        train_X, train_y, validate_X, validate_y = self.split_data(fit_X, fit_y, tv_ratio)\n",
    "        self.init(Model, train_X, n_units1, n_units2)\n",
    "        self.train_model(train_X, train_y, validate_X, validate_y, n_iter)"
   ]
  },
  {
   "cell_type": "code",
   "execution_count": null,
   "metadata": {
    "collapsed": true
   },
   "outputs": [],
   "source": [
    "def run_ranknet(X_train, y_train, X_test, y_test, name, iterations=1000):\n",
    "    \"\"\"\n",
    "    Train and test RankNet\n",
    "\n",
    "    :param X_train: training data (input)\n",
    "    :param y_train: training data (output)\n",
    "    :param X_test: testing data (input)\n",
    "    :param y_test: testing data (output)\n",
    "    :param name: name of the model\n",
    "    :param iterations: number of iterations during training\n",
    "    \"\"\"\n",
    "    ranknet = RankNet()\n",
    "    ranknet.fit(X_train, y_train, n_iter=iterations)\n",
    "\n",
    "    y_pred = ranknet.predict(X_test)\n",
    "    y_pred_list = y_pred.tolist()\n",
    "\n",
    "    run_logreg_retrieval(name, y_pred.flatten(), query_e_doc_pairs_test, dataset='validation')"
   ]
  },
  {
   "cell_type": "code",
   "execution_count": null,
   "metadata": {
    "collapsed": true
   },
   "outputs": [],
   "source": [
    "# RankNet on the constructed features\n",
    "run_ranknet(X, y, X_test, y_test, name='ranknet_constructed_1000', iterations=1000)\n",
    "\n",
    "# RankNet on the word embeddings as features (concatenated)\n",
    "run_ranknet(Xe_concat, ye, Xe_concat_test, ye_test, name='ranknet_e_concat_1000', iterations=1000)\n",
    "\n",
    "# RankNet on the word embeddings as features (add)\n",
    "run_ranknet(Xe_add, ye, Xe_add_test, ye_test, name='ranknet_e_add_1000', iterations=1000)"
   ]
  },
  {
   "cell_type": "markdown",
   "metadata": {
    "collapsed": true
   },
   "source": [
    "### Task 5: Write a report [15 points; instant FAIL if not provided] ###\n",
    "\n",
    "The report should be a PDF file created using the [sigconf ACM template](https://www.acm.org/publications/proceedings-template) and will determine a significant part of your grade.\n",
    "\n",
    "   * It should explain what you have implemented, motivate your experiments and detail what you expect to learn from them. **[10 points]**\n",
    "   * Lastly, provide a convincing analysis of your results and conclude the report accordingly. **[10 points]**\n",
    "      * Do all methods perform similarly on all queries? Why?\n",
    "      * Is there a single retrieval model that outperforms all other retrieval models (i.e., silver bullet)?\n",
    "      * ...\n",
    "\n",
    "**Hand in the report and your self-contained implementation source files.** Only send us the files that matter, organized in a well-documented zip/tgz file with clear instructions on how to reproduce your results. That is, we want to be able to regenerate all your results with minimal effort. You can assume that the index and ground-truth information is present in the same file structure as the one we have provided.\n"
   ]
  },
  {
   "cell_type": "code",
   "execution_count": null,
   "metadata": {
    "collapsed": true
   },
   "outputs": [],
   "source": []
  }
 ],
 "metadata": {
  "anaconda-cloud": {},
  "kernelspec": {
   "display_name": "Python 3",
   "language": "python",
   "name": "python3"
  },
  "language_info": {
   "codemirror_mode": {
    "name": "ipython",
    "version": 3
   },
   "file_extension": ".py",
   "mimetype": "text/x-python",
   "name": "python",
   "nbconvert_exporter": "python",
   "pygments_lexer": "ipython3",
   "version": "3.6.0"
  }
 },
 "nbformat": 4,
 "nbformat_minor": 1
}
