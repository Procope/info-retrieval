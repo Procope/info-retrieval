{
 "cells": [
  {
   "cell_type": "markdown",
   "metadata": {},
   "source": [
    "# Information Retrieval 1#\n",
    "## Assignment 2: Retrieval models [100 points] ##\n",
    "\n",
    "### Florian Mohnert, Mario Giulianelli, Akash Raj"
   ]
  },
  {
   "cell_type": "code",
   "execution_count": 1,
   "metadata": {
    "collapsed": true
   },
   "outputs": [],
   "source": [
    "import copy\n",
    "import itertools\n",
    "import math\n",
    "import pickle\n",
    "import random\n",
    "import time\n",
    "\n",
    "from collections import defaultdict\n",
    "from IPython.display import Image\n",
    "from math import log,exp\n",
    "from matplotlib import pyplot as plt\n",
    "from pprint import pprint\n",
    "from scipy.stats import binom_test\n",
    "\n",
    "import numpy as np\n",
    "\n",
    "import gensim\n",
    "import pyndri\n",
    "import pyndri.compat"
   ]
  },
  {
   "cell_type": "markdown",
   "metadata": {},
   "source": [
    "In this assignment you will get familiar with basic and advanced information retrieval concepts. You will implement different information retrieval ranking models and evaluate their performance.\n",
    "\n",
    "We provide you with a Indri index. To query the index, you'll use a Python package ([pyndri](https://github.com/cvangysel/pyndri)) that allows easy access to the underlying document statistics.\n",
    "\n",
    "For evaluation you'll use the [TREC Eval](https://github.com/usnistgov/trec_eval) utility, provided by the National Institute of Standards and Technology of the United States. TREC Eval is the de facto standard way to compute Information Retrieval measures and is frequently referenced in scientific papers.\n",
    "\n",
    "This is a **groups-of-three assignment**, the deadline is **Wednesday, January 31st**. Code quality, informative comments and convincing analysis of the results will be considered when grading. Submission should be done through blackboard, questions can be asked on the course [Piazza](piazza.com/university_of_amsterdam/spring2018/52041inr6y/home).\n",
    "\n",
    "### Technicalities (must-read!) ###\n",
    "\n",
    "The assignment directory is organized as follows:\n",
    "   * `./assignment.ipynb` (this file): the description of the assignment.\n",
    "   * `./index/`: the index we prepared for you.\n",
    "   * `./ap_88_90/`: directory with ground-truth and evaluation sets:\n",
    "      * `qrel_test`: test query relevance collection (**test set**).\n",
    "      * `qrel_validation`: validation query relevance collection (**validation set**).\n",
    "      * `topics_title`: semicolon-separated file with query identifiers and terms.\n",
    "\n",
    "You will need the following software packages (tested with Python 3.5 inside [Anaconda](https://conda.io/docs/user-guide/install/index.html)):\n",
    "   * Python 3.5 and Jupyter\n",
    "   * Indri + Pyndri (Follow the installation instructions [here](https://github.com/nickvosk/pyndri/blob/master/README.md))\n",
    "   * gensim [link](https://radimrehurek.com/gensim/install.html)\n",
    "   * TREC Eval [link](https://github.com/usnistgov/trec_eval)"
   ]
  },
  {
   "cell_type": "markdown",
   "metadata": {},
   "source": [
    "### TREC Eval primer ###\n",
    "The TREC Eval utility can be downloaded and compiled as follows:\n",
    "\n",
    "    git clone https://github.com/usnistgov/trec_eval.git\n",
    "    cd trec_eval\n",
    "    make\n",
    "\n",
    "TREC Eval computes evaluation scores given two files: ground-truth information regarding relevant documents, named *query relevance* or *qrel*, and a ranking of documents for a set of queries, referred to as a *run*. The *qrel* will be supplied by us and should not be changed. For every retrieval model (or combinations thereof) you will generate a run of the top-1000 documents for every query. The format of the *run* file is as follows:\n",
    "\n",
    "    $query_identifier Q0 $document_identifier $rank_of_document_for_query $query_document_similarity $run_identifier\n",
    "    \n",
    "where\n",
    "   * `$query_identifier` is the unique identifier corresponding to a query (usually this follows a sequential numbering).\n",
    "   * `Q0` is a legacy field that you can ignore.\n",
    "   * `$document_identifier` corresponds to the unique identifier of a document (e.g., APXXXXXXX where AP denotes the collection and the Xs correspond to a unique numerical identifier).\n",
    "   * `$rank_of_document_for_query` denotes the rank of the document for the particular query. This field is ignored by TREC Eval and is only maintained for legacy support. The ranks are computed by TREC Eval itself using the `$query_document_similarity` field (see next). However, it remains good practice to correctly compute this field.\n",
    "   * `$query_document_similarity` is a score indicating the similarity between query and document where a higher score denotes greater similarity.\n",
    "   * `$run_identifier` is an identifier of the run. This field is for your own convenience and has no purpose beyond bookkeeping.\n",
    "   \n",
    "For example, say we have two queries: `Q1` and `Q2` and we rank three documents (`DOC1`, `DOC2`, `DOC3`). For query `Q1`, we find the following similarity scores `score(Q1, DOC1) = 1.0`, `score(Q1, DOC2) = 0.5`, `score(Q1, DOC3) = 0.75`; and for `Q2`: `score(Q2, DOC1) = -0.1`, `score(Q2, DOC2) = 1.25`, `score(Q1, DOC3) = 0.0`. We can generate run using the following snippet:"
   ]
  },
  {
   "cell_type": "code",
   "execution_count": 2,
   "metadata": {
    "scrolled": false
   },
   "outputs": [
    {
     "name": "stdout",
     "output_type": "stream",
     "text": [
      "Q1 Q0 DOC1 1 1.0 example\n",
      "Q1 Q0 DOC3 2 0.75 example\n",
      "Q1 Q0 DOC2 3 0.5 example\n",
      "Q2 Q0 DOC2 1 1.25 example\n",
      "Q2 Q0 DOC3 2 0.0 example\n",
      "Q2 Q0 DOC1 3 -0.1 example\n"
     ]
    }
   ],
   "source": [
    "import logging\n",
    "import sys\n",
    "import os\n",
    "\n",
    "def write_run(model_name, data, out_f,\n",
    "              max_objects_per_query=sys.maxsize,\n",
    "              skip_sorting=False):\n",
    "    \"\"\"\n",
    "    Write a run to an output file.\n",
    "    Parameters:\n",
    "        - model_name: identifier of run.\n",
    "        - data: dictionary mapping topic_id to object_assesments;\n",
    "            object_assesments is an iterable (list or tuple) of\n",
    "            (relevance, object_id) pairs.\n",
    "            The object_assesments iterable is sorted by decreasing order.\n",
    "        - out_f: output file stream.\n",
    "        - max_objects_per_query: cut-off for number of objects per query.\n",
    "    \"\"\"\n",
    "    for subject_id, object_assesments in data.items():\n",
    "        if not object_assesments:\n",
    "            logging.warning('Received empty ranking for %s; ignoring.',\n",
    "                            subject_id)\n",
    "\n",
    "            continue\n",
    "\n",
    "        # Probe types, to make sure everything goes alright.\n",
    "        # assert isinstance(object_assesments[0][0], float) or \\\n",
    "        #     isinstance(object_assesments[0][0], np.float32)\n",
    "        assert isinstance(object_assesments[0][1], str) or \\\n",
    "            isinstance(object_assesments[0][1], bytes)\n",
    "\n",
    "        if not skip_sorting:\n",
    "            object_assesments = sorted(object_assesments, reverse=True)\n",
    "\n",
    "        if max_objects_per_query < sys.maxsize:\n",
    "            object_assesments = object_assesments[:max_objects_per_query]\n",
    "\n",
    "        if isinstance(subject_id, bytes):\n",
    "            subject_id = subject_id.decode('utf8')\n",
    "\n",
    "        for rank, (relevance, object_id) in enumerate(object_assesments):\n",
    "            if isinstance(object_id, bytes):\n",
    "                object_id = object_id.decode('utf8')\n",
    "\n",
    "            out_f.write(\n",
    "                '{subject} Q0 {object} {rank} {relevance} '\n",
    "                '{model_name}\\n'.format(\n",
    "                    subject=subject_id,\n",
    "                    object=object_id,\n",
    "                    rank=rank + 1,\n",
    "                    relevance=relevance,\n",
    "                    model_name=model_name))\n",
    "            \n",
    "# The following writes the run to standard output.\n",
    "# In your code, you should write the runs to local\n",
    "# storage in order to pass them to trec_eval.\n",
    "write_run(\n",
    "    model_name='example',\n",
    "    data={\n",
    "        'Q1': ((1.0, 'DOC1'), (0.5, 'DOC2'), (0.75, 'DOC3')),\n",
    "        'Q2': ((-0.1, 'DOC1'), (1.25, 'DOC2'), (0.0, 'DOC3')),\n",
    "    },\n",
    "    out_f=sys.stdout,\n",
    "    max_objects_per_query=1000)"
   ]
  },
  {
   "cell_type": "markdown",
   "metadata": {},
   "source": [
    "Now, imagine that we know that `DOC1` is relevant and `DOC3` is non-relevant for `Q1`. In addition, for `Q2` we only know of the relevance of `DOC3`. The query relevance file looks like:\n",
    "\n",
    "    Q1 0 DOC1 1\n",
    "    Q1 0 DOC3 0\n",
    "    Q2 0 DOC3 1\n",
    "    \n",
    "We store the run and qrel in files `example.run` and `example.qrel` respectively on disk. We can now use TREC Eval to compute evaluation measures. In this example, we're only interested in Mean Average Precision and we'll only show this below for brevity. However, TREC Eval outputs much more information such as NDCG, recall, precision, etc.\n",
    "\n",
    "    $ trec_eval -m all_trec -q example.qrel example.run | grep -E \"^map\\s\"\n",
    "    > map                   \tQ1\t1.0000\n",
    "    > map                   \tQ2\t0.5000\n",
    "    > map                   \tall\t0.7500\n",
    "    \n",
    "Now that we've discussed the output format of rankings and how you can compute evaluation measures from these rankings, we'll now proceed with an overview of the indexing framework you'll use."
   ]
  },
  {
   "cell_type": "markdown",
   "metadata": {},
   "source": [
    "### Pyndri primer ###\n",
    "For this assignment you will use [Pyndri](https://github.com/cvangysel/pyndri) [[1](https://arxiv.org/abs/1701.00749)], a python interface for [Indri](https://www.lemurproject.org/indri.php). We have indexed the document collection and you can query the index using Pyndri. We will start by giving you some examples of what Pyndri can do:\n",
    "\n",
    "First we read the document collection index with Pyndri:"
   ]
  },
  {
   "cell_type": "code",
   "execution_count": 3,
   "metadata": {
    "collapsed": true,
    "scrolled": true
   },
   "outputs": [],
   "source": [
    "import pyndri\n",
    "\n",
    "index = pyndri.Index('index/')"
   ]
  },
  {
   "cell_type": "markdown",
   "metadata": {},
   "source": [
    "The loaded index can be used to access a collection of documents in an easy manner. We'll give you some examples to get some idea of what it can do, it is up to you to figure out how to use it for the remainder of the assignment.\n",
    "\n",
    "First let's look at the number of documents, since Pyndri indexes the documents using incremental identifiers we can simply take the lowest index and the maximum document and consider the difference:"
   ]
  },
  {
   "cell_type": "code",
   "execution_count": 4,
   "metadata": {},
   "outputs": [
    {
     "name": "stdout",
     "output_type": "stream",
     "text": [
      "There are 164597 documents in this collection.\n"
     ]
    }
   ],
   "source": [
    "print(\"There are %d documents in this collection.\" % (index.maximum_document() - index.document_base()))"
   ]
  },
  {
   "cell_type": "markdown",
   "metadata": {},
   "source": [
    "Let's take the first document out of the collection and take a look at it:"
   ]
  },
  {
   "cell_type": "code",
   "execution_count": 5,
   "metadata": {
    "collapsed": true,
    "scrolled": true
   },
   "outputs": [],
   "source": [
    "example_document = index.document(index.document_base())\n",
    "# print(example_document)"
   ]
  },
  {
   "cell_type": "markdown",
   "metadata": {},
   "source": [
    "Here we see a document consists of two things, a string representing the external document identifier and an integer list representing the identifiers of words that make up the document. Pyndri uses integer representations for words or terms, thus a token_id is an integer that represents a word whereas the token is the actual text of the word/term. Every id has a unique token and vice versa with the exception of stop words: words so common that there are uninformative, all of these receive the zero id.\n",
    "\n",
    "To see what some ids and their matching tokens we take a look at the dictionary of the index:"
   ]
  },
  {
   "cell_type": "code",
   "execution_count": 6,
   "metadata": {
    "collapsed": true
   },
   "outputs": [],
   "source": [
    "token2id, id2token, _ = index.get_dictionary()\n",
    "# print(list(id2token.items())[:15])"
   ]
  },
  {
   "cell_type": "markdown",
   "metadata": {},
   "source": [
    "Using this dictionary we can see the tokens for the (non-stop) words in our example document:"
   ]
  },
  {
   "cell_type": "code",
   "execution_count": 7,
   "metadata": {
    "collapsed": true
   },
   "outputs": [],
   "source": [
    "# print([id2token[word_id] for word_id in example_document[1] if word_id > 0])"
   ]
  },
  {
   "cell_type": "markdown",
   "metadata": {},
   "source": [
    "The reverse can also be done, say we want to look for news about the \"University of Massachusetts\", the tokens of that query can be converted to ids using the reverse dictionary:"
   ]
  },
  {
   "cell_type": "code",
   "execution_count": 8,
   "metadata": {
    "collapsed": true
   },
   "outputs": [],
   "source": [
    "# query_tokens = index.tokenize(\"University of Massachusetts\")\n",
    "# print(\"Query by tokens:\", query_tokens)\n",
    "# query_id_tokens = [token2id.get(query_token,0) for query_token in query_tokens]\n",
    "# print(\"Query by ids with stopwords:\", query_id_tokens)\n",
    "# query_id_tokens = [word_id for word_id in query_id_tokens if word_id > 0]\n",
    "# print(\"Query by ids without stopwords:\", query_id_tokens)"
   ]
  },
  {
   "cell_type": "markdown",
   "metadata": {},
   "source": [
    "Naturally we can now match the document and query in the id space, let's see how often a word from the query occurs in our example document:"
   ]
  },
  {
   "cell_type": "code",
   "execution_count": 9,
   "metadata": {
    "collapsed": true
   },
   "outputs": [],
   "source": [
    "# matching_words = sum([True for word_id in example_document[1] if word_id in query_id_tokens])\n",
    "# print(\"Document %s has %d word matches with query: \\\"%s\\\".\" % (example_document[0], matching_words, ' '.join(query_tokens)))\n",
    "# print(\"Document %s and query \\\"%s\\\" have a %.01f%% overlap.\" % (example_document[0], ' '.join(query_tokens),matching_words/float(len(example_document[1]))*100))"
   ]
  },
  {
   "cell_type": "markdown",
   "metadata": {},
   "source": [
    "While this is certainly not everything Pyndri can do, it should give you an idea of how to use it. Please take a look at the [examples](https://github.com/cvangysel/pyndri) as it will help you a lot with this assignment.\n",
    "\n",
    "**CAUTION**: Avoid printing out the whole index in this Notebook as it will generate a lot of output and is likely to corrupt the Notebook."
   ]
  },
  {
   "cell_type": "markdown",
   "metadata": {},
   "source": [
    "### Parsing the query file\n",
    "You can parse the query file (`ap_88_89/topics_title`) using the following snippet:"
   ]
  },
  {
   "cell_type": "code",
   "execution_count": 10,
   "metadata": {
    "collapsed": true,
    "scrolled": true
   },
   "outputs": [],
   "source": [
    "import collections\n",
    "import io\n",
    "import logging\n",
    "import sys\n",
    "\n",
    "def parse_topics(file_or_files,\n",
    "                 max_topics=sys.maxsize, delimiter=';'):\n",
    "    assert max_topics >= 0 or max_topics is None\n",
    "\n",
    "    topics = collections.OrderedDict()\n",
    "\n",
    "    if not isinstance(file_or_files, list) and \\\n",
    "            not isinstance(file_or_files, tuple):\n",
    "        if hasattr(file_or_files, '__iter__'):\n",
    "            file_or_files = list(file_or_files)\n",
    "        else:\n",
    "            file_or_files = [file_or_files]\n",
    "\n",
    "    for f in file_or_files:\n",
    "        assert isinstance(f, io.IOBase)\n",
    "\n",
    "        for line in f:\n",
    "            assert(isinstance(line, str))\n",
    "\n",
    "            line = line.strip()\n",
    "\n",
    "            if not line:\n",
    "                continue\n",
    "\n",
    "            topic_id, terms = line.split(delimiter, 1)\n",
    "\n",
    "            if topic_id in topics and (topics[topic_id] != terms):\n",
    "                    logging.error('Duplicate topic \"%s\" (%s vs. %s).',\n",
    "                                  topic_id,\n",
    "                                  topics[topic_id],\n",
    "                                  terms)\n",
    "\n",
    "            topics[topic_id] = terms\n",
    "\n",
    "            if max_topics > 0 and len(topics) >= max_topics:\n",
    "                break\n",
    "\n",
    "    return topics\n",
    "\n",
    "# with open('./ap_88_89/topics_title', 'r') as f_topics:\n",
    "#     print(parse_topics([f_topics]))"
   ]
  },
  {
   "cell_type": "markdown",
   "metadata": {},
   "source": [
    "### Task 1: Implement and compare lexical IR methods [35 points] ### \n",
    "\n",
    "In this task you will implement a number of lexical methods for IR using the **Pyndri** framework. Then you will evaluate these methods on the dataset we have provided using **TREC Eval**.\n",
    "\n",
    "Use the **Pyndri** framework to get statistics of the documents (term frequency, document frequency, collection frequency; **you are not allowed to use the query functionality of Pyndri**) and implement the following scoring methods in **Python**:\n",
    "\n",
    "- [TF-IDF](http://nlp.stanford.edu/IR-book/html/htmledition/tf-idf-weighting-1.html) and \n",
    "- [BM25](http://nlp.stanford.edu/IR-book/html/htmledition/okapi-bm25-a-non-binary-model-1.html) with k1=1.2 and b=0.75. **[5 points]**\n",
    "- Language models ([survey](https://drive.google.com/file/d/0B-zklbckv9CHc0c3b245UW90NE0/view))\n",
    "    - Jelinek-Mercer (explore different values of 𝛌 in the range [0.1, 0.5, 0.9]). **[5 points]**\n",
    "    - Dirichlet Prior (explore different values of 𝛍 [500, 1000, 1500]). **[5 points]**\n",
    "    - Absolute discounting (explore different values of 𝛅 in the range [0.1, 0.5, 0.9]). **[5 points]**\n",
    "    - [Positional Language Models](http://sifaka.cs.uiuc.edu/~ylv2/pub/sigir09-plm.pdf) define a language model for each position of a document, and score a document based on the scores of its PLMs. The PLM is estimated based on propagated counts of words within a document through a proximity-based density function, which both captures proximity heuristics and achieves an effect of “soft” passage retrieval. Implement the PLM, all five kernels, but only the Best position strategy to score documents. Use 𝛔 equal to 50, and Dirichlet smoothing with 𝛍 optimized on the validation set (decide how to optimize this value yourself and motivate your decision in the report). **[10 points]**\n",
    "    \n",
    "Implement the above methods and report evaluation measures (on the test set) using the hyper parameter values you optimized on the validation set (also report the values of the hyper parameters). Use TREC Eval to obtain the results and report on `NDCG@10`, Mean Average Precision (`MAP@1000`), `Precision@5` and `Recall@1000`.\n",
    "\n",
    "For the language models, create plots showing `NDCG@10` with varying values of the parameters. You can do this by chaining small scripts using shell scripting (preferred) or execute trec_eval using Python's `subprocess`.\n",
    "\n",
    "Compute significance of the results using a [two-tailed paired Student t-test](https://docs.scipy.org/doc/scipy/reference/generated/scipy.stats.ttest_rel.html) **[5 points]**. Be wary of false rejection of the null hypothesis caused by the [multiple comparisons problem](https://en.wikipedia.org/wiki/Multiple_comparisons_problem). There are multiple ways to mitigate this problem and it is up to you to choose one.\n",
    "\n",
    "Analyse the results by identifying specific queries where different methods succeed or fail and discuss possible reasons that cause these differences. This is *very important* in order to understand who the different retrieval functions behave.\n",
    "\n",
    "**NOTE**: Don’t forget to use log computations in your calculations to avoid underflows. "
   ]
  },
  {
   "cell_type": "markdown",
   "metadata": {},
   "source": [
    "**IMPORTANT**: You should structure your code around the helper functions we provide below."
   ]
  },
  {
   "cell_type": "code",
   "execution_count": 12,
   "metadata": {},
   "outputs": [
    {
     "name": "stdout",
     "output_type": "stream",
     "text": [
      "Gathering statistics about 456 terms.\n",
      "Inverted index creation took 44.75460124015808 seconds.\n"
     ]
    }
   ],
   "source": [
    "with open('./ap_88_89/topics_title', 'r') as f_topics:\n",
    "    queries = parse_topics([f_topics])\n",
    "\n",
    "index = pyndri.Index('index/')\n",
    "\n",
    "num_documents = index.maximum_document() - index.document_base()\n",
    "\n",
    "dictionary = pyndri.extract_dictionary(index)\n",
    "\n",
    "tokenized_queries = {\n",
    "    query_id: [dictionary.translate_token(token)\n",
    "               for token in index.tokenize(query_string)\n",
    "               if dictionary.has_token(token)]\n",
    "    for query_id, query_string in queries.items()}\n",
    "\n",
    "query_term_ids = set(\n",
    "    query_term_id\n",
    "    for query_term_ids in tokenized_queries.values()\n",
    "    for query_term_id in query_term_ids)\n",
    "\n",
    "print('Gathering statistics about', len(query_term_ids), 'terms.')\n",
    "\n",
    "# inverted index creation.\n",
    "\n",
    "document_lengths = {}\n",
    "unique_terms_per_document = {}\n",
    "\n",
    "inverted_index = collections.defaultdict(dict)\n",
    "collection_frequencies = collections.defaultdict(int)\n",
    "term2numdocs = collections.defaultdict(int)\n",
    "total_terms = 0\n",
    "\n",
    "start_time = time.time()\n",
    "\n",
    "for int_doc_id in range(index.document_base(), index.maximum_document()):\n",
    "    ext_doc_id, doc_token_ids = index.document(int_doc_id)\n",
    "\n",
    "    document_bow = collections.Counter(\n",
    "        token_id for token_id in doc_token_ids\n",
    "        if token_id > 0)\n",
    "    document_length = sum(document_bow.values())\n",
    "    \n",
    "    for word in list(document_bow.keys()):\n",
    "        \n",
    "        term2numdocs[word]+=1\n",
    "\n",
    "    document_lengths[int_doc_id] = document_length\n",
    "    total_terms += document_length\n",
    "\n",
    "    unique_terms_per_document[int_doc_id] = len(document_bow)\n",
    "\n",
    "    for query_term_id in query_term_ids:\n",
    "        assert query_term_id is not None\n",
    "\n",
    "        document_term_frequency = document_bow.get(query_term_id, 0)\n",
    "\n",
    "        if document_term_frequency == 0:\n",
    "            continue\n",
    "\n",
    "        collection_frequencies[query_term_id] += document_term_frequency\n",
    "        inverted_index[query_term_id][int_doc_id] = document_term_frequency\n",
    "\n",
    "avg_doc_length = total_terms / num_documents\n",
    "\n",
    "print('Inverted index creation took', time.time() - start_time, 'seconds.')"
   ]
  },
  {
   "cell_type": "code",
   "execution_count": 13,
   "metadata": {
    "collapsed": true
   },
   "outputs": [],
   "source": [
    "def IDF(query_term_id):\n",
    "    \"\"\"\n",
    "    Inverse Document Frequency of a query term.\n",
    "    \n",
    "    :param query_token_id: the query term id \n",
    "    \"\"\"\n",
    "    df = len(list(inverted_index[query_term_id]))\n",
    "                       \n",
    "    return log(num_documents / df)     "
   ]
  },
  {
   "cell_type": "code",
   "execution_count": 14,
   "metadata": {
    "collapsed": true
   },
   "outputs": [],
   "source": [
    "def tfidf(int_document_id, query_term_id, document_term_freq):\n",
    "    \"\"\"\n",
    "    TF-IDF scoring function for a document and a query term.\n",
    "    \n",
    "    :param int_document_id: the document id\n",
    "    :param query_token_id: the query term id (assuming you have split the query to tokens)\n",
    "    :param document_term_freq: the document term frequency of the query term \n",
    "    \"\"\"\n",
    "    return document_term_freq * IDF(query_term_id)"
   ]
  },
  {
   "cell_type": "code",
   "execution_count": 15,
   "metadata": {
    "collapsed": true
   },
   "outputs": [],
   "source": [
    "def BM25(int_document_id, query_term_id, document_term_freq, k1=1.2, b=0.75):\n",
    "    \"\"\"\n",
    "    BM25 scoring function for a document and a query term.\n",
    "    \n",
    "    :param int_document_id: the document id\n",
    "    :param query_token_id: the query term id (assuming you have split the query to tokens)\n",
    "    :param document_term_freq: the document term frequency of the query term \n",
    "    :param k1: define how fast belief saturates\n",
    "    :param b: control the level of normalization\n",
    "    \"\"\"\n",
    "    tf = document_term_freq\n",
    "    idf = IDF(query_term_id)\n",
    "    doc_len = document_lengths[int_doc_id]\n",
    "\n",
    "    return (k1 + 1) * tf / (k1 * ((1 - b) + b * (doc_len / avg_doc_length)) + tf) * idf"
   ]
  },
  {
   "cell_type": "code",
   "execution_count": 16,
   "metadata": {
    "collapsed": true
   },
   "outputs": [],
   "source": [
    "def jelinek_mercer(int_document_id, query_term_id, document_term_freq, **kwargs):\n",
    "    \"\"\"\n",
    "    Retrieval language model with Jelinek-Mercer smoothing.\n",
    "    Returns the LM score for a document and a query term.\n",
    "    \n",
    "    :param int_document_id: the document id\n",
    "    :param query_token_id: the query term id (assuming you have split the query to tokens)\n",
    "    :param document_term_freq: the document term frequency of the query term\n",
    "    :param l: the interpolation parameter\n",
    "    \"\"\"\n",
    "    l = kwargs[\"lambda\"]\n",
    "    \n",
    "    d = document_lengths[int_doc_id]\n",
    "    document_score = document_term_freq / d\n",
    "    collection_score =  collection_frequencies[query_term_id] / total_terms\n",
    "        \n",
    "    return l * document_score + (1 - l) * collection_score"
   ]
  },
  {
   "cell_type": "code",
   "execution_count": 17,
   "metadata": {
    "collapsed": true
   },
   "outputs": [],
   "source": [
    "def dirichlet_prior(int_document_id, query_term_id, document_term_freq, **kwargs): \n",
    "    \"\"\"\n",
    "    Retrieval language model with Dirichlet prior smoothing.\n",
    "    Returns the LM score for a document and a query term.\n",
    "    \n",
    "    :param int_document_id: the document id\n",
    "    :param query_token_id: the query term id (assuming you have split the query to tokens)\n",
    "    :param document_term_freq: the document term frequency of the query term \n",
    "    :mu: hyperparameter\n",
    "    \"\"\"\n",
    "    mu = kwargs[\"mu\"]\n",
    "    \n",
    "    collection_freq_w = collection_frequencies[query_term_id]\n",
    "    collection_prior = collection_freq_w / total_terms\n",
    "    d = document_lengths[int_document_id]\n",
    "    \n",
    "    score = (document_term_freq + mu * collection_prior) / (d + mu)\n",
    "    \n",
    "    return score"
   ]
  },
  {
   "cell_type": "code",
   "execution_count": 18,
   "metadata": {
    "collapsed": true
   },
   "outputs": [],
   "source": [
    "def absolute_discounting(int_document_id, query_term_id, document_term_freq, **kwargs):\n",
    "    \"\"\"\n",
    "    Retrieval language model with Absolute Discounting smoothing.\n",
    "    Returns the LM score for a document and a query term.\n",
    "    \n",
    "    :param int_document_id: the document id\n",
    "    :param query_token_id: the query term id (assuming you have split the query to tokens)\n",
    "    :param document_term_freq: the document term frequency of the query term \n",
    "    :param delta: hyperparameter\n",
    "    \"\"\"\n",
    "    delta = kwargs[\"delta\"]\n",
    "    \n",
    "    collection_freq_w = collection_frequencies[query_term_id]\n",
    "    collection_prior = collection_freq_w / total_terms\n",
    "    \n",
    "    d = document_lengths[int_document_id]\n",
    "    unique_words = unique_terms_per_document[int_document_id]\n",
    "    \n",
    "    score = (max(document_term_freq - delta, 0) / d) + (delta * unique_words / d) * collection_prior\n",
    "    \n",
    "    return score"
   ]
  },
  {
   "cell_type": "code",
   "execution_count": 19,
   "metadata": {
    "collapsed": true
   },
   "outputs": [],
   "source": [
    "# Kernel function definitions\n",
    "\n",
    "def passage_kernel(i, j, sigma=50):\n",
    "    '''\n",
    "    Non-proximity based Passage kernel (baseline)\n",
    "    '''\n",
    "    proximity = abs(i - j)\n",
    "\n",
    "    return 1 if proximity <= sigma else 0\n",
    "\n",
    "def gaussian_kernel(i, j, sigma=50):\n",
    "    proximity = abs(i - j)\n",
    "\n",
    "    return np.exp(-proximity ** 2 / (2 * sigma ** 2))\n",
    "\n",
    "def triangle_kernel(i, j, sigma=50):\n",
    "    proximity = abs(i - j)\n",
    "\n",
    "    if proximity > sigma:\n",
    "        return 0\n",
    "\n",
    "    return (1 - proximity / sigma)\n",
    "\n",
    "def hamming_kernel(i, j, sigma=50):\n",
    "    '''\n",
    "    Cosine kernel\n",
    "    '''\n",
    "    proximity = abs(i - j)\n",
    "    \n",
    "    if proximity > sigma:\n",
    "        return 0\n",
    "    \n",
    "    return 0.5 * (1 + np.cos(proximity * np.pi / sigma))\n",
    "\n",
    "def circle_kernel(i, j, sigma=50):\n",
    "    proximity = abs(i - j)\n",
    "    \n",
    "    if proximity > sigma:\n",
    "        return 0\n",
    "    \n",
    "    return np.sqrt(1 - (proximity / sigma) ** 2)"
   ]
  },
  {
   "cell_type": "code",
   "execution_count": 20,
   "metadata": {},
   "outputs": [
    {
     "name": "stdout",
     "output_type": "stream",
     "text": [
      "63.6423432946\n"
     ]
    }
   ],
   "source": [
    "# Sanity Tests\n",
    "assert passage_kernel(0, 0), 0\n",
    "assert gaussian_kernel(0, 0), 1\n",
    "assert triangle_kernel(0 ,0), 0\n",
    "assert hamming_kernel(0, 0), 0\n",
    "assert circle_kernel(0, 0), 0\n",
    "\n",
    "pos = 5\n",
    "doc_len = 100\n",
    "score = 0\n",
    "\n",
    "for i in range(1, doc_len + 1):\n",
    "    score += gaussian_kernel(pos, i)\n",
    "    \n",
    "print(score)"
   ]
  },
  {
   "cell_type": "code",
   "execution_count": 21,
   "metadata": {
    "collapsed": true
   },
   "outputs": [],
   "source": [
    "# This takes about 5 minutes to run. Read from the binary file general_lm\n",
    "\n",
    "# def general_collection_lm():\n",
    "#     '''\n",
    "#     General collection lm, p(w | C)\n",
    "#     '''\n",
    "#     glm = defaultdict(lambda:0)\n",
    "\n",
    "#     for doc_id in np.arange(index.document_base(), index.maximum_document()):\n",
    "#         document = index.document(doc_id)\n",
    "#         for word in document[1]:\n",
    "#             glm[word] += 1\n",
    "\n",
    "#     for k in glm.keys():\n",
    "#         glm[k] /= sum(glm.values())\n",
    "\n",
    "#     return glm\n",
    "\n",
    "# general_lm = general_collection_lm()\n",
    "\n",
    "# with open('general_lm', 'wb+') as f:\n",
    "#     pickle.dump(dict(general_lm), f, protocol=pickle.HIGHEST_PROTOCOL)\n",
    "\n",
    "with open('general_lm', 'rb') as f:\n",
    "    general_lm = pickle.load(f)"
   ]
  },
  {
   "cell_type": "code",
   "execution_count": 22,
   "metadata": {
    "collapsed": true
   },
   "outputs": [],
   "source": [
    "# Get top 1000 documents (TF-IDF) - tfidf_data\n",
    "\n",
    "def doc_word_pos_util(Q, D):\n",
    "    '''\n",
    "    Returns a dictionary with the position of each occurence of word 'w' in Document 'D'\n",
    "    '''\n",
    "    resp = {}\n",
    "\n",
    "    for i, w in enumerate(D):\n",
    "        if w not in resp.keys():\n",
    "            resp[w] = [i]\n",
    "        else:\n",
    "            resp[w].append(i)\n",
    "\n",
    "    return resp\n",
    "\n",
    "\n",
    "def plm_model_smoothed(i, w, D, doc_length, mu=500):\n",
    "    '''\n",
    "    p(w|D, i))\n",
    "    \n",
    "    Args:\n",
    "        i: position\n",
    "        w: word\n",
    "        D: dictionary containing the positions where w occurs\n",
    "        mu: for smoothing\n",
    "        \n",
    "    Return:\n",
    "        np array of length 5 containing the scores for each kernel\n",
    "    '''\n",
    "    plm = np.zeros(5)\n",
    "\n",
    "    if w in D:\n",
    "        for j in D[w]:\n",
    "            plm[0] += passage_kernel(i, j)\n",
    "            plm[1] += gaussian_kernel(i, j)\n",
    "            plm[2] += triangle_kernel(i, j)\n",
    "            plm[3] += hamming_kernel(i, j)\n",
    "            plm[4] += circle_kernel(i, j)\n",
    "\n",
    "    # general collection LM is used as the background model\n",
    "    plm += (mu * general_lm[w])\n",
    "\n",
    "    # Calculate Z_i. TODO: Use the optimiztion given in the paper\n",
    "    z_i = np.zeros(5)\n",
    "\n",
    "    plm[0] /= (sum([passage_kernel(i, j) for j in range(1, doc_length + 1)]) + mu)\n",
    "    plm[1] /= (sum([gaussian_kernel(i, j) for j in range(1, doc_length + 1)]) + mu)\n",
    "    plm[2] /= (sum([triangle_kernel(i, j) for j in range(1, doc_length + 1)]) + mu)\n",
    "    plm[3] /= (sum([hamming_kernel(i, j) for j in range(1, doc_length + 1)]) + mu)\n",
    "    plm[4] /= (sum([circle_kernel(i, j) for j in range(1, doc_length + 1)]) + mu)\n",
    "\n",
    "    return plm\n",
    "\n",
    "\n",
    "def plm_score(i, Q, D, mu=500):\n",
    "    '''\n",
    "    Score each PLM using Kullback-Leibler divergence retrieval model\n",
    "\n",
    "    Args:\n",
    "        i: position\n",
    "        Q: Query\n",
    "        D: Document\n",
    "    '''\n",
    "    # Query likelihood model - 1 / query length\n",
    "    query_lm = 1.0 / len(Q)\n",
    "\n",
    "    # Kullback-Leibler divergence retrieval model\n",
    "    kl_divergence = np.zeros(5)\n",
    "\n",
    "    resp = doc_word_pos_util(Q, D[1])\n",
    "\n",
    "    for w in Q:\n",
    "        if w in D[1]:\n",
    "            plm = plm_model_smoothed(i, w, resp, len(D[1]), mu)\n",
    "            for k in range(5):\n",
    "                kl_divergence[k] += (- query_lm * log(query_lm / plm[k]))\n",
    "\n",
    "    return kl_divergence\n",
    "\n",
    "\n",
    "def best_position_strategy(Q, D, mu=500):\n",
    "    '''\n",
    "    S(Q, D) = max_i {S(Q, D, i)}\n",
    "    '''\n",
    "    # Initialize KL-D for all the 5 kernels\n",
    "    max_score = [-99999999] * 5\n",
    "\n",
    "    for i in range(1, len(D) + 1):\n",
    "        scores = plm_score(i, Q, D, mu)\n",
    "\n",
    "        for k in range(5):\n",
    "            if max_score[k] < scores[k]:\n",
    "                max_score[k] = scores[k]\n",
    "\n",
    "    return max_score"
   ]
  },
  {
   "cell_type": "code",
   "execution_count": 23,
   "metadata": {
    "collapsed": true
   },
   "outputs": [],
   "source": [
    "# Define, for convenience, a dictionary mapping external\n",
    "# document ids to internal document document ids. \n",
    "\n",
    "ext_to_int = {}\n",
    "for int_doc_id in range(index.document_base(), index.maximum_document()):\n",
    "    ext_doc_id, _ = index.document(int_doc_id)\n",
    "    ext_to_int[ext_doc_id] = int_doc_id"
   ]
  },
  {
   "cell_type": "code",
   "execution_count": 24,
   "metadata": {
    "collapsed": true
   },
   "outputs": [],
   "source": [
    "# Read TREC ground truth file containing the VALIDATION SET.\n",
    "# Create dictionary validation_ids that maps queries to internal and external docID pairs.\n",
    "# validation_ids: queryID --> (internal_doc_id, external_doc_id)\n",
    "\n",
    "with open(\"ap_88_89/qrel_validation\", \"r\") as f:\n",
    "    validation_ids = {}\n",
    "    \n",
    "    for line in f:\n",
    "        line = line.strip().split()\n",
    "        if len(line) != 4:\n",
    "            continue\n",
    "            \n",
    "        q_id = line[0]\n",
    "        ext_id = line[2]\n",
    "        \n",
    "        try:\n",
    "            int_id = ext_to_int[ext_id]\n",
    "            \n",
    "            try:\n",
    "                validation_ids[q_id].append((int_id, ext_id))\n",
    "            except KeyError:\n",
    "                validation_ids[q_id] = [(int_id, ext_id)]\n",
    "            \n",
    "        except KeyError:\n",
    "            pass  # validation document not in index"
   ]
  },
  {
   "cell_type": "code",
   "execution_count": 25,
   "metadata": {
    "collapsed": true
   },
   "outputs": [],
   "source": [
    "# Read TREC ground truth file containing the TEST SET.\n",
    "# Create dictionary test_ids that maps queries to internal and external docID pairs.\n",
    "# test_ids: queryID --> (internal_doc_id, external_doc_id)\n",
    "\n",
    "with open(\"ap_88_89/qrel_test\",\"r\") as f:\n",
    "    test_ids = {}\n",
    "    \n",
    "    for line in f:\n",
    "        line = line.strip().split()\n",
    "        if len(line) != 4:\n",
    "            continue\n",
    "            \n",
    "        q_id = line[0]\n",
    "        ext_id = line[2]\n",
    "        \n",
    "        try:\n",
    "            int_id = ext_to_int[ext_id]\n",
    "        \n",
    "            try:\n",
    "                test_ids[q_id].append((int_id, ext_id))\n",
    "            except KeyError:\n",
    "                test_ids[q_id] = [(int_id, ext_id)]\n",
    "                \n",
    "        except KeyError:\n",
    "            pass  # test document not in index\n",
    "                     "
   ]
  },
  {
   "cell_type": "code",
   "execution_count": 26,
   "metadata": {
    "collapsed": true
   },
   "outputs": [],
   "source": [
    "def run_retrieval(model_name, score_fn, **kwargs):\n",
    "    \"\"\"\n",
    "    Runs a retrieval method for all the queries and writes the TREC-friendly results in a file.\n",
    "    \n",
    "    :param model_name: the name of the model (a string)\n",
    "    :param score_fn: the scoring function (a function - see below for an example)\n",
    "    \"\"\"\n",
    "    run_out_path = '{}.run'.format(model_name)\n",
    "\n",
    "    if os.path.exists(run_out_path):\n",
    "        print(\"This output file ({}) already exists.\\n\".format(run_out_path),\n",
    "              \"Delete this file, rename it, or move it elsewhere in your file system.\\n\", sep='')\n",
    "        return\n",
    "    \n",
    "    try:\n",
    "        dataset = kwargs.pop('dataset')\n",
    "    except KeyError:\n",
    "        # use test set if user does not express a preference\n",
    "        dataset = 'test'\n",
    "    \n",
    "    if dataset == 'test':\n",
    "        query_to_docs = test_ids\n",
    "    elif dataset == 'validation':\n",
    "        query_to_docs = validation_ids\n",
    "    else:\n",
    "        raise ValueError(\"Two possible values for dataset: 'test' or 'validation'.\")\n",
    "    \n",
    "    data = {}\n",
    "\n",
    "    print('Retrieval model: {}'.format(model_name))\n",
    "    retrieval_start_time = time.time()\n",
    "    \n",
    "    # Fill the data dictionary. \n",
    "    # The dictionary data has the form: query_id --> (document_score, external_doc_id)\n",
    "    \n",
    "    # FOR ALL QUERIES\n",
    "    for query_id in query_to_docs.keys():  \n",
    "        # FOR ALL DOCUMENTS\n",
    "        for int_doc_id, ext_doc_id in query_to_docs[query_id]:  \n",
    "                \n",
    "            # discard all zero length docs\n",
    "            if document_lengths[int_doc_id] == 0:\n",
    "                    continue\n",
    "                    \n",
    "            score = 0\n",
    "            cnt_qwords_in_doc = 0  # how many query words occ\n",
    " \n",
    "            # FOR ALL QUERY TERMS\n",
    "            for q_term in tokenized_queries[query_id]: \n",
    "                try: \n",
    "                    document_term_freq = inverted_index[q_term][int_doc_id]\n",
    "\n",
    "                    if model_name == \"tfidf\" or model_name == \"BM25\":\n",
    "                        score += score_fn(int_doc_id, q_term, document_term_freq, **kwargs)\n",
    "                    else:\n",
    "                        score += log(score_fn(int_doc_id, q_term, document_term_freq, **kwargs))\n",
    "\n",
    "                    cnt_qwords_in_doc += 1\n",
    "\n",
    "                # query term is not in the document\n",
    "                except KeyError:\n",
    "                    document_term_freq = 0\n",
    "\n",
    "                    if model_name == \"tfidf\" or model_name == \"BM25\":\n",
    "                        score += score_fn(int_doc_id, q_term, document_term_freq, **kwargs)\n",
    "                    else:\n",
    "                        score += log(score_fn(int_doc_id, q_term, document_term_freq, **kwargs))\n",
    "\n",
    "            # only score documents that contain at least one query term\n",
    "            if cnt_qwords_in_doc == 0:\n",
    "                continue\n",
    "\n",
    "            # transform back from log-probs to probs\n",
    "            if model_name != \"tfidf\" and model_name != \"BM25\": \n",
    "                score = exp(score)\n",
    "            \n",
    "            # Fill data dictionary\n",
    "            try:\n",
    "                data[query_id].append((score, ext_doc_id))\n",
    "            except:\n",
    "                data[query_id] = [(score, ext_doc_id)]\n",
    "    \n",
    "    # Write output to TREC .run file\n",
    "    with open(run_out_path, 'w') as f_out:\n",
    "        write_run(\n",
    "            model_name=model_name,\n",
    "            data=data,\n",
    "            out_f=f_out,\n",
    "            max_objects_per_query=1000)  # only consider top 1000 docs for each query\n"
   ]
  },
  {
   "cell_type": "code",
   "execution_count": 27,
   "metadata": {
    "collapsed": true
   },
   "outputs": [],
   "source": [
    "# Run all retrieval methods for all the VALIDATION queries and write the TREC-friendly results to a file. \n",
    "\n",
    "# run_retrieval('tfidf', tfidf, **{\"dataset\":'test'})\n",
    "# run_retrieval('BM25', BM25, **{\"dataset\":'test'})\n",
    "\n",
    "# run_retrieval('jelinek_mercer_0.1', jelinek_mercer, **{\"dataset\":'test', \"lambda\":0.1})\n",
    "# # run_retrieval('jelinek_mercer_0.5', jelinek_mercer, **{\"dataset\":'test', \"lambda\":0.5})\n",
    "# # run_retrieval('jelinek_mercer_0.9', jelinek_mercer, **{\"dataset\":'test', \"lambda\":0.9})\n",
    "\n",
    "# run_retrieval('dirichlet_prior_500', dirichlet_prior, **{\"dataset\":'test', \"mu\":500})\n",
    "# # run_retrieval('dirichlet_prior_1000', dirichlet_prior, **{\"dataset\":'test', \"mu\":1000})\n",
    "# # run_retrieval('dirichlet_prior_1500', dirichlet_prior, **{\"dataset\":'test', \"mu\":1500})\n",
    "\n",
    "# # run_retrieval('absolute_discounting_0.1', absolute_discounting, **{\"dataset\":'test', \"delta\":0.1})\n",
    "# # run_retrieval('absolute_discounting_0.5', absolute_discounting, **{\"dataset\":'test', \"delta\":0.5})\n",
    "# run_retrieval('absolute_discounting_0.9', absolute_discounting, **{\"dataset\":'test', \"delta\":0.9})\n"
   ]
  },
  {
   "cell_type": "code",
   "execution_count": 28,
   "metadata": {
    "collapsed": true
   },
   "outputs": [],
   "source": [
    "# # PLM TEST\n",
    "\n",
    "# query_id = list(validation_ids.keys())[0]\n",
    "# query_terms = tokenized_queries[query_id]\n",
    "# first_query_doc = validation_ids[query_id][0]\n",
    "\n",
    "# print('query_id:', query_id)\n",
    "# print('query_terms:', tokenized_queries[query_id])\n",
    "# print('first_query_doc:', validation_ids[query_id][0])\n",
    "\n",
    "# doc = index.document(first_query_doc[0])\n",
    "\n",
    "# scores = best_position_strategy(query_terms, doc)\n",
    "\n",
    "# # print(scores)"
   ]
  },
  {
   "cell_type": "code",
   "execution_count": 36,
   "metadata": {
    "collapsed": true
   },
   "outputs": [],
   "source": [
    "def simulation_plm(kernel, k_id, mu, data_set='validation'):\n",
    "    '''\n",
    "    Generate run files for various kernels and mus\n",
    "    \n",
    "    :param kernel: the type of kernel - [passage, gaussian, triangle, hamming, circle]\n",
    "    :param k_id: id for the kernel type\n",
    "    :param mu: hyperparam\n",
    "    '''\n",
    "    print('PLM for kernel: {0} and mu: {1}'.format(kernel, str(mu)))\n",
    "    data = {}\n",
    "    \n",
    "    if data_set == 'validation':\n",
    "        query_to_docs = validation_ids\n",
    "    else:\n",
    "        query_to_docs = test_ids\n",
    "\n",
    "    for query_id in query_to_docs.keys():\n",
    "        doc_scores = []\n",
    "\n",
    "        for int_doc_id, ext_doc_id in query_to_docs[query_id]:\n",
    "\n",
    "            doc = index.document(int_doc_id)\n",
    "            query_terms = tokenized_queries[query_id]\n",
    "            scores = best_position_strategy(query_terms, doc, mu=mu)\n",
    "            # Store only values for required kernel\n",
    "            doc_scores.append((scores[k_id], ext_doc_id))\n",
    "\n",
    "        doc_scores = list(reversed(sorted(doc_scores, key=lambda tup: tup[1])))\n",
    "\n",
    "        # Remove documents where query terms do not occur\n",
    "        doc_with_terms = []\n",
    "        for item in doc_scores:\n",
    "            if item[0] < 0:\n",
    "                doc_with_terms.append(item)\n",
    "\n",
    "        data[query_id] = doc_with_terms\n",
    "\n",
    "    with open('runs/plm/plm_{0}_{1}_{2}.run'.format(kernel, str(mu), data_set), 'w') as f_out:\n",
    "        write_run(\n",
    "            model_name='plm_{0}_{1}'.format(kernel, str(mu)),\n",
    "            data=data,\n",
    "            out_f=f_out,\n",
    "            max_objects_per_query=1000)"
   ]
  },
  {
   "cell_type": "code",
   "execution_count": 37,
   "metadata": {},
   "outputs": [
    {
     "name": "stdout",
     "output_type": "stream",
     "text": [
      "PLM for kernel: passage and mu: 500\n",
      "PLM for kernel: passage and mu: 1000\n",
      "PLM for kernel: passage and mu: 1500\n",
      "PLM for kernel: gaussian and mu: 500\n",
      "PLM for kernel: gaussian and mu: 1000\n",
      "PLM for kernel: gaussian and mu: 1500\n",
      "PLM for kernel: triangle and mu: 500\n",
      "PLM for kernel: triangle and mu: 1000\n",
      "PLM for kernel: triangle and mu: 1500\n",
      "PLM for kernel: hamming and mu: 500\n",
      "PLM for kernel: hamming and mu: 1000\n",
      "PLM for kernel: hamming and mu: 1500\n",
      "PLM for kernel: circle and mu: 500\n",
      "PLM for kernel: circle and mu: 1000\n",
      "PLM for kernel: circle and mu: 1500\n"
     ]
    }
   ],
   "source": [
    "# PLM\n",
    "\n",
    "mus = [500, 1000, 1500]\n",
    "kernel = {\n",
    "    'passage': 0,\n",
    "    'gaussian': 1,\n",
    "    'triangle': 2,\n",
    "    'hamming': 3,\n",
    "    'circle': 4\n",
    "}\n",
    "\n",
    "for k in kernel.keys():\n",
    "    for mu in mus:\n",
    "        simulation_plm(kernel=k, k_id=kernel[k], mu=mu, data_set='test')"
   ]
  },
  {
   "cell_type": "code",
   "execution_count": null,
   "metadata": {
    "collapsed": true
   },
   "outputs": [],
   "source": []
  },
  {
   "cell_type": "markdown",
   "metadata": {},
   "source": [
    "#### PLM, nDCG@10\n",
    "\n",
    "|                  | mu: 500    | mu: 1000   | mu: 1500   |\n",
    "|------------------|:----------:|:----------:|:----------:|\n",
    "|Passage           | 0.2712     | 0.2759     | 0.2773     |\n",
    "|Gaussian          | 0.2565     | 0.2565     | 0.2605     |\n",
    "|Triangle          | 0.2422     | 0.2454     | 0.2467     |\n",
    "|Hamming           | 0.2436     | 0.2405     | 0.2407     |\n",
    "|Circle            | 0.2492     | 0.2512     | 0.2525     |"
   ]
  },
  {
   "cell_type": "code",
   "execution_count": 35,
   "metadata": {
    "scrolled": true
   },
   "outputs": [
    {
     "data": {
      "image/png": "[encoded data removed]",
      "text/plain": [
       "<matplotlib.figure.Figure at 0x7fd33eacc0b8>"
      ]
     },
     "metadata": {},
     "output_type": "display_data"
    },
    {
     "data": {
      "image/png": "[encoded data removed]",
      "text/plain": [
       "<matplotlib.figure.Figure at 0x7fd33eacca20>"
      ]
     },
     "metadata": {},
     "output_type": "display_data"
    },
    {
     "data": {
      "image/png": "[encoded data removed]",
      "text/plain": [
       "<matplotlib.figure.Figure at 0x7fd33e8996d8>"
      ]
     },
     "metadata": {},
     "output_type": "display_data"
    },
    {
     "data": {
      "image/png": "[encoded data removed]",
      "text/plain": [
       "<matplotlib.figure.Figure at 0x7fd33e858860>"
      ]
     },
     "metadata": {},
     "output_type": "display_data"
    }
   ],
   "source": [
    "#### Plotting NDCG@10 for different hyperparamaters ####\n",
    "\n",
    "def read_statistics(filepath):\n",
    "    '''\n",
    "    Read statistics from TREC_EVAL output file and store them in an array.\n",
    "    '''\n",
    "    data = []\n",
    "    \n",
    "    with open(filepath, 'r') as f:\n",
    "        for line in f:\n",
    "            line = line.strip().split('\\t')\n",
    "\n",
    "            if len(line) != 3:\n",
    "                continue\n",
    "\n",
    "            data.append(float(line[2]))\n",
    "        \n",
    "    return data[:-1]\n",
    "\n",
    "\n",
    "def plot_ndcg_stats(data, labels):\n",
    "    '''\n",
    "    Print NDCG@10 statistics for multiple hyperparameter values.\n",
    "    '''\n",
    "    fig, ax = plt.subplots()\n",
    "    colors = ['red', 'green', 'blue']\n",
    "    data = [[list(range(len(x))), x] for x in data]\n",
    "    \n",
    "    for ndcg, color in zip(data, colors):\n",
    "        x, y = ndcg\n",
    "        label = labels[colors.index(color)]\n",
    "        ax.scatter(x, y, c=color, label=label, alpha=0.3, edgecolors='none')\n",
    "\n",
    "    ax.legend()\n",
    "    ax.grid(True)\n",
    "#     plt.xlabel('Queries')\n",
    "#     plt.ylabel('NDCG@10')\n",
    "#     plt.show()\n",
    "    \n",
    "\n",
    "jelinek_mercer_01_ndcg10 = read_statistics('statistics/jelinek_mercer_01_ndcg10.txt')\n",
    "jelinek_mercer_05_ndcg10 = read_statistics('statistics/jelinek_mercer_05_ndcg10.txt')\n",
    "jelinek_mercer_09_ndcg10 = read_statistics('statistics/jelinek_mercer_09_ndcg10.txt')   \n",
    "jelinek_mercer_all_ndcg10 = [jelinek_mercer_01_ndcg10, jelinek_mercer_05_ndcg10, jelinek_mercer_09_ndcg10]\n",
    "\n",
    "dirichlet_500_ndcg10 = read_statistics('statistics/dirichlet_prior_500_ndcg10.txt')\n",
    "dirichlet_1000_ndcg10 = read_statistics('statistics/dirichlet_prior_1000_ndcg10.txt')\n",
    "dirichlet_1500_ndcg10 = read_statistics('statistics/dirichlet_prior_1500_ndcg10.txt')   \n",
    "dirichlet_all_ndcg10 = [dirichlet_500_ndcg10, dirichlet_1000_ndcg10, dirichlet_1500_ndcg10]  \n",
    "\n",
    "abs_discount_01_ndcg10 = read_statistics('statistics/absolute_discounting_01_ndcg10.txt')\n",
    "abs_discount_05_ndcg10 = read_statistics('statistics/absolute_discounting_05_ndcg10.txt')\n",
    "abs_discount_09_ndcg10 = read_statistics('statistics/absolute_discounting_09_ndcg10.txt')   \n",
    "abs_discount_all_ndcg10 = [abs_discount_01_ndcg10, abs_discount_05_ndcg10, abs_discount_09_ndcg10]\n",
    "\n",
    "plm_gaussian_500_ndcg10 = read_statistics('statistics/plm/validation/plm_gaussian_500_ndcg10.txt')\n",
    "plm_gaussian_1000_ndcg10 = read_statistics('statistics/plm/validation/plm_gaussian_1000_ndcg10.txt')\n",
    "plm_gaussian_1500_ndcg10 = read_statistics('statistics/plm/validation/plm_gaussian_1500_ndcg10.txt')\n",
    "plm_gaussian_all_ndcg10 = [plm_gaussian_500_ndcg10, plm_gaussian_1000_ndcg10, plm_gaussian_1500_ndcg10]\n",
    "\n",
    "plot_ndcg_stats(jelinek_mercer_all_ndcg10, labels=['jelinek-mercer_01', 'jelinek-mercer_05', 'jelinek-mercer_09'])\n",
    "plot_ndcg_stats(dirichlet_all_ndcg10, labels=['dirichlet_500', 'dirichlet_1000', 'abs_discount_1500'])\n",
    "plot_ndcg_stats(abs_discount_all_ndcg10, labels=['abs_discount_01', 'abs_discount_05', 'abs_discount_09'])\n",
    "plot_ndcg_stats(plm_gaussian_all_ndcg10, labels=['plm_gaussian_500_ndcg10', 'plm_gaussian_1000_ndcg10', 'plm_gaussian_1500_ndcg10'])\n",
    "\n",
    "plt.show()"
   ]
  },
  {
   "cell_type": "code",
   "execution_count": 40,
   "metadata": {},
   "outputs": [],
   "source": [
    "tfidf_map1000_test = read_statistics('statistics/test/tfidf_map1000_test.txt')\n",
    "bm25_map1000_test = read_statistics('statistics/test/bm25_map1000_test.txt')\n",
    "jelinek_mercer_map1000_test = read_statistics('statistics/test/jelinek_mercer_01_map1000_test.txt')\n",
    "abs_disc_map1000_test = read_statistics('statistics/test/absolute_discounting_09_map1000_test.txt')\n",
    "dirichlet_map1000_test = read_statistics('statistics/test/dirichlet_prior_500_map1000_test.txt')\n",
    "plm_gaussian_map1000_test = read_statistics('statistics/plm/test/plm_gaussian_1500_map1000_test.txt')\n",
    "\n",
    "tfidf_ndcg10_test = read_statistics('statistics/test/tfidf_ndcg10_test.txt')\n",
    "bm25_ndcg10_test = read_statistics('statistics/test/bm25_ndcg10_test.txt')\n",
    "jelinek_mercer_ndcg10_test = read_statistics('statistics/test/jelinek_mercer_01_ndcg10_test.txt')\n",
    "abs_disc_ndcg10_test = read_statistics('statistics/test/absolute_discounting_09_ndcg10_test.txt')\n",
    "dirichlet_ndcg10_test = read_statistics('statistics/test/dirichlet_prior_500_ndcg10_test.txt')\n",
    "plm_gaussian_ndcg10_test = read_statistics('statistics/plm/test/plm_gaussian_1500_ndcg10_test.txt')\n",
    "\n",
    "tfidf_precision5_test = read_statistics('statistics/test/tfidf_precision5_test.txt')\n",
    "bm25_precision5_test = read_statistics('statistics/test/bm25_precision5_test.txt')\n",
    "jelinek_mercer_precision5_test = read_statistics('statistics/test/jelinek_mercer_01_precision5_test.txt')\n",
    "abs_disc_precision5_test = read_statistics('statistics/test/absolute_discounting_09_precision5_test.txt')\n",
    "dirichlet_precision5_test = read_statistics('statistics/test/dirichlet_prior_500_precision5_test.txt')\n",
    "plm_gaussian_precision5_test = read_statistics('statistics/plm/test/plm_gaussian_1500_precision5_test.txt')\n",
    "\n",
    "tfidf_recall1000_test = read_statistics('statistics/test/tfidf_recall1000_test.txt')\n",
    "bm25_recall1000_test = read_statistics('statistics/test/bm25_recall1000_test.txt')\n",
    "jelinek_mercer_recall1000_test = read_statistics('statistics/test/jelinek_mercer_01_recall1000_test.txt')\n",
    "abs_disc_recall1000_test = read_statistics('statistics/test/absolute_discounting_09_recall1000_test.txt')\n",
    "dirichlet_recall1000_test = read_statistics('statistics/test/dirichlet_prior_500_recall1000_test.txt')\n",
    "plm_gaussian_recall1000_test = read_statistics('statistics/plm/test/plm_gaussian_1500_recall1000_test.txt')\n"
   ]
  },
  {
   "cell_type": "code",
   "execution_count": 41,
   "metadata": {
    "collapsed": true
   },
   "outputs": [],
   "source": [
    "map1000_test_all = {'tfidf_map1000_test': tfidf_map1000_test, \n",
    "                    'bm25_map1000_test': bm25_map1000_test, \n",
    "                    'jelinek_mercer_map1000_test': jelinek_mercer_map1000_test,\n",
    "                    'abs_disc_map1000_test': abs_disc_map1000_test,\n",
    "                    'dirichlet_map1000_test': dirichlet_map1000_test,\n",
    "                    'plm_gaussian_map1000_test': plm_gaussian_map1000_test}\n",
    "\n",
    "ndcg10_test_all = {'tfidf_ndcg10_test': tfidf_ndcg10_test, \n",
    "                    'bm25_ndcg10_test': bm25_ndcg10_test, \n",
    "                    'jelinek_mercer_ndcg10_test': jelinek_mercer_ndcg10_test,\n",
    "                    'abs_disc_ndcg10_test': abs_disc_ndcg10_test,\n",
    "                    'dirichlet_ndcg10_test': dirichlet_ndcg10_test,\n",
    "                    'plm_gaussian_ndcg10_test': plm_gaussian_ndcg10_test}\n",
    "\n",
    "precision5_test_all = {'tfidf_precision5_test': tfidf_precision5_test, \n",
    "                    'bm25_precision5_test': bm25_precision5_test, \n",
    "                    'jelinek_mercer_precision5_test': jelinek_mercer_precision5_test,\n",
    "                    'abs_disc_precision5_test': abs_disc_precision5_test,\n",
    "                    'dirichlet_precision5_test': dirichlet_precision5_test,\n",
    "                    'plm_gaussian_precision5_test': plm_gaussian_precision5_test}\n",
    "\n",
    "recall1000_test_all = {'tfidf_recall1000_test': tfidf_recall1000_test, \n",
    "                    'bm25_recall1000_test': bm25_recall1000_test, \n",
    "                    'jelinek_mercer_recall1000_test': jelinek_mercer_recall1000_test,\n",
    "                    'abs_disc_recall1000_test': abs_disc_recall1000_test,\n",
    "                    'dirichlet_recall1000_test': dirichlet_recall1000_test,\n",
    "                    'plm_gaussian_recall1000_test': plm_gaussian_recall1000_test}"
   ]
  },
  {
   "cell_type": "code",
   "execution_count": 42,
   "metadata": {
    "collapsed": true
   },
   "outputs": [],
   "source": [
    "from scipy.stats import ttest_rel\n",
    "\n",
    "def t_test(metric_comparison_dict, p=0.0125):\n",
    "    \"\"\"\n",
    "    \"\"\"\n",
    "    comparisons = list(itertools.combinations(metric_comparison_dict.keys(), 2))\n",
    "    \n",
    "    for metric1, metric2 in comparisons:\n",
    "        scores1 = metric_comparison_dict[metric1]\n",
    "        scores2 = metric_comparison_dict[metric2]\n",
    "        p_value = ttest_rel(scores1, scores2)[1]\n",
    "        \n",
    "        if p_value < p:\n",
    "            print(\"{} vs. {}\\nSignificant p-value (p < {}): {}\\n\".format(metric1, metric2, p, p_value))\n",
    "        else:\n",
    "            print(\"{} vs. {}\\nNon-significant p-value (p >= {}): {}\\n\".format(metric1, metric2, p, p_value))"
   ]
  },
  {
   "cell_type": "code",
   "execution_count": 43,
   "metadata": {},
   "outputs": [
    {
     "name": "stdout",
     "output_type": "stream",
     "text": [
      "tfidf_map1000_test vs. bm25_map1000_test\n",
      "Significant p-value (p < 0.0125): 2.028617669489509e-05\n",
      "\n",
      "tfidf_map1000_test vs. jelinek_mercer_map1000_test\n",
      "Significant p-value (p < 0.0125): 3.8665532431097065e-05\n",
      "\n",
      "tfidf_map1000_test vs. abs_disc_map1000_test\n",
      "Significant p-value (p < 0.0125): 0.0013511647618666568\n",
      "\n",
      "tfidf_map1000_test vs. dirichlet_map1000_test\n",
      "Significant p-value (p < 0.0125): 8.566587276092042e-05\n",
      "\n",
      "tfidf_map1000_test vs. plm_gaussian_map1000_test\n",
      "Significant p-value (p < 0.0125): 1.2531858683097433e-12\n",
      "\n",
      "bm25_map1000_test vs. jelinek_mercer_map1000_test\n",
      "Non-significant p-value (p >= 0.0125): 0.09646803181343389\n",
      "\n",
      "bm25_map1000_test vs. abs_disc_map1000_test\n",
      "Significant p-value (p < 0.0125): 0.001309253131396827\n",
      "\n",
      "bm25_map1000_test vs. dirichlet_map1000_test\n",
      "Non-significant p-value (p >= 0.0125): 0.22351915424588034\n",
      "\n",
      "bm25_map1000_test vs. plm_gaussian_map1000_test\n",
      "Significant p-value (p < 0.0125): 1.4685668787699403e-13\n",
      "\n",
      "jelinek_mercer_map1000_test vs. abs_disc_map1000_test\n",
      "Non-significant p-value (p >= 0.0125): 0.013258720388623557\n",
      "\n",
      "jelinek_mercer_map1000_test vs. dirichlet_map1000_test\n",
      "Non-significant p-value (p >= 0.0125): 0.6289090366911247\n",
      "\n",
      "jelinek_mercer_map1000_test vs. plm_gaussian_map1000_test\n",
      "Significant p-value (p < 0.0125): 8.177601437457753e-13\n",
      "\n",
      "abs_disc_map1000_test vs. dirichlet_map1000_test\n",
      "Significant p-value (p < 0.0125): 0.00214753423335484\n",
      "\n",
      "abs_disc_map1000_test vs. plm_gaussian_map1000_test\n",
      "Significant p-value (p < 0.0125): 2.412406958054308e-13\n",
      "\n",
      "dirichlet_map1000_test vs. plm_gaussian_map1000_test\n",
      "Significant p-value (p < 0.0125): 3.243192105222818e-13\n",
      "\n"
     ]
    }
   ],
   "source": [
    "t_test(map1000_test_all)"
   ]
  },
  {
   "cell_type": "code",
   "execution_count": 44,
   "metadata": {},
   "outputs": [
    {
     "name": "stdout",
     "output_type": "stream",
     "text": [
      "tfidf_ndcg10_test vs. bm25_ndcg10_test\n",
      "Significant p-value (p < 0.0125): 0.0008977476233348092\n",
      "\n",
      "tfidf_ndcg10_test vs. jelinek_mercer_ndcg10_test\n",
      "Significant p-value (p < 0.0125): 0.0009476480488155553\n",
      "\n",
      "tfidf_ndcg10_test vs. abs_disc_ndcg10_test\n",
      "Non-significant p-value (p >= 0.0125): 0.036715683064669304\n",
      "\n",
      "tfidf_ndcg10_test vs. dirichlet_ndcg10_test\n",
      "Significant p-value (p < 0.0125): 0.0014000523223037275\n",
      "\n",
      "tfidf_ndcg10_test vs. plm_gaussian_ndcg10_test\n",
      "Significant p-value (p < 0.0125): 1.9245183167280673e-13\n",
      "\n",
      "bm25_ndcg10_test vs. jelinek_mercer_ndcg10_test\n",
      "Non-significant p-value (p >= 0.0125): 0.3869807268968809\n",
      "\n",
      "bm25_ndcg10_test vs. abs_disc_ndcg10_test\n",
      "Non-significant p-value (p >= 0.0125): 0.018507440707763546\n",
      "\n",
      "bm25_ndcg10_test vs. dirichlet_ndcg10_test\n",
      "Non-significant p-value (p >= 0.0125): 0.7358444517786067\n",
      "\n",
      "bm25_ndcg10_test vs. plm_gaussian_ndcg10_test\n",
      "Significant p-value (p < 0.0125): 1.0561473694427678e-14\n",
      "\n",
      "jelinek_mercer_ndcg10_test vs. abs_disc_ndcg10_test\n",
      "Non-significant p-value (p >= 0.0125): 0.04310453652523385\n",
      "\n",
      "jelinek_mercer_ndcg10_test vs. dirichlet_ndcg10_test\n",
      "Non-significant p-value (p >= 0.0125): 0.6551502622485088\n",
      "\n",
      "jelinek_mercer_ndcg10_test vs. plm_gaussian_ndcg10_test\n",
      "Significant p-value (p < 0.0125): 4.0754229899486054e-15\n",
      "\n",
      "abs_disc_ndcg10_test vs. dirichlet_ndcg10_test\n",
      "Significant p-value (p < 0.0125): 0.009831841898581665\n",
      "\n",
      "abs_disc_ndcg10_test vs. plm_gaussian_ndcg10_test\n",
      "Significant p-value (p < 0.0125): 7.215607301403805e-13\n",
      "\n",
      "dirichlet_ndcg10_test vs. plm_gaussian_ndcg10_test\n",
      "Significant p-value (p < 0.0125): 1.7256769501851688e-14\n",
      "\n"
     ]
    }
   ],
   "source": [
    "t_test(ndcg10_test_all)"
   ]
  },
  {
   "cell_type": "code",
   "execution_count": 45,
   "metadata": {},
   "outputs": [
    {
     "name": "stdout",
     "output_type": "stream",
     "text": [
      "tfidf_recall1000_test vs. bm25_recall1000_test\n",
      "Non-significant p-value (p >= 0.0125): nan\n",
      "\n",
      "tfidf_recall1000_test vs. jelinek_mercer_recall1000_test\n",
      "Non-significant p-value (p >= 0.0125): nan\n",
      "\n",
      "tfidf_recall1000_test vs. abs_disc_recall1000_test\n",
      "Non-significant p-value (p >= 0.0125): 0.3193395975454461\n",
      "\n",
      "tfidf_recall1000_test vs. dirichlet_recall1000_test\n",
      "Non-significant p-value (p >= 0.0125): 0.31933959754544633\n",
      "\n",
      "tfidf_recall1000_test vs. plm_gaussian_recall1000_test\n",
      "Non-significant p-value (p >= 0.0125): 0.3193395975454461\n",
      "\n",
      "bm25_recall1000_test vs. jelinek_mercer_recall1000_test\n",
      "Non-significant p-value (p >= 0.0125): nan\n",
      "\n",
      "bm25_recall1000_test vs. abs_disc_recall1000_test\n",
      "Non-significant p-value (p >= 0.0125): 0.3193395975454461\n",
      "\n",
      "bm25_recall1000_test vs. dirichlet_recall1000_test\n",
      "Non-significant p-value (p >= 0.0125): 0.31933959754544633\n",
      "\n",
      "bm25_recall1000_test vs. plm_gaussian_recall1000_test\n",
      "Non-significant p-value (p >= 0.0125): 0.3193395975454461\n",
      "\n",
      "jelinek_mercer_recall1000_test vs. abs_disc_recall1000_test\n",
      "Non-significant p-value (p >= 0.0125): 0.3193395975454461\n",
      "\n",
      "jelinek_mercer_recall1000_test vs. dirichlet_recall1000_test\n",
      "Non-significant p-value (p >= 0.0125): 0.31933959754544633\n",
      "\n",
      "jelinek_mercer_recall1000_test vs. plm_gaussian_recall1000_test\n",
      "Non-significant p-value (p >= 0.0125): 0.3193395975454461\n",
      "\n",
      "abs_disc_recall1000_test vs. dirichlet_recall1000_test\n",
      "Non-significant p-value (p >= 0.0125): 0.31933959754544633\n",
      "\n",
      "abs_disc_recall1000_test vs. plm_gaussian_recall1000_test\n",
      "Non-significant p-value (p >= 0.0125): 0.3193395975454461\n",
      "\n",
      "dirichlet_recall1000_test vs. plm_gaussian_recall1000_test\n",
      "Non-significant p-value (p >= 0.0125): 0.3193395975454464\n",
      "\n"
     ]
    }
   ],
   "source": [
    "t_test(recall1000_test_all)"
   ]
  },
  {
   "cell_type": "code",
   "execution_count": 46,
   "metadata": {},
   "outputs": [
    {
     "name": "stdout",
     "output_type": "stream",
     "text": [
      "tfidf_precision5_test vs. bm25_precision5_test\n",
      "Non-significant p-value (p >= 0.0125): 0.014686076343882528\n",
      "\n",
      "tfidf_precision5_test vs. jelinek_mercer_precision5_test\n",
      "Significant p-value (p < 0.0125): 0.0031103262790699105\n",
      "\n",
      "tfidf_precision5_test vs. abs_disc_precision5_test\n",
      "Non-significant p-value (p >= 0.0125): 0.05107773453718909\n",
      "\n",
      "tfidf_precision5_test vs. dirichlet_precision5_test\n",
      "Non-significant p-value (p >= 0.0125): 0.022018192529847554\n",
      "\n",
      "tfidf_precision5_test vs. plm_gaussian_precision5_test\n",
      "Significant p-value (p < 0.0125): 2.5139028330559798e-11\n",
      "\n",
      "bm25_precision5_test vs. jelinek_mercer_precision5_test\n",
      "Non-significant p-value (p >= 0.0125): 0.41649781275231634\n",
      "\n",
      "bm25_precision5_test vs. abs_disc_precision5_test\n",
      "Non-significant p-value (p >= 0.0125): 0.30942024813052604\n",
      "\n",
      "bm25_precision5_test vs. dirichlet_precision5_test\n",
      "Non-significant p-value (p >= 0.0125): 0.814788830286233\n",
      "\n",
      "bm25_precision5_test vs. plm_gaussian_precision5_test\n",
      "Significant p-value (p < 0.0125): 4.308228694239215e-12\n",
      "\n",
      "jelinek_mercer_precision5_test vs. abs_disc_precision5_test\n",
      "Non-significant p-value (p >= 0.0125): 0.11707015817891663\n",
      "\n",
      "jelinek_mercer_precision5_test vs. dirichlet_precision5_test\n",
      "Non-significant p-value (p >= 0.0125): 0.3193395975454461\n",
      "\n",
      "jelinek_mercer_precision5_test vs. plm_gaussian_precision5_test\n",
      "Significant p-value (p < 0.0125): 7.57276069694084e-13\n",
      "\n",
      "abs_disc_precision5_test vs. dirichlet_precision5_test\n",
      "Non-significant p-value (p >= 0.0125): 0.39056570251201106\n",
      "\n",
      "abs_disc_precision5_test vs. plm_gaussian_precision5_test\n",
      "Significant p-value (p < 0.0125): 7.201301287888454e-12\n",
      "\n",
      "dirichlet_precision5_test vs. plm_gaussian_precision5_test\n",
      "Significant p-value (p < 0.0125): 3.2103521179313393e-12\n",
      "\n"
     ]
    }
   ],
   "source": [
    "t_test(precision5_test_all)"
   ]
  },
  {
   "cell_type": "markdown",
   "metadata": {},
   "source": [
    "### Task 2: Latent Semantic Models (LSMs) [15 points] ###\n",
    "\n",
    "In this task you will experiment with applying distributional semantics methods ([LSI](http://lsa3.colorado.edu/papers/JASIS.lsi.90.pdf) **[5 points]** and [LDA](https://www.cs.princeton.edu/~blei/papers/BleiNgJordan2003.pdf) **[5 points]**) for retrieval.\n",
    "\n",
    "You do not need to implement LSI or LDA on your own. Instead, you can use [gensim](http://radimrehurek.com/gensim/index.html). An example on how to integrate Pyndri with Gensim for word2vec can be found [here](https://github.com/cvangysel/pyndri/blob/master/examples/word2vec.py). For the remaining latent vector space models, you will need to implement connector classes (such as `IndriSentences`) by yourself.\n",
    "\n",
    "In order to use a latent semantic model for retrieval, you need to:\n",
    "   * build a representation of the query **q**,\n",
    "   * build a representation of the document **d**,\n",
    "   * calculate the similarity between **q** and **d** (e.g., cosine similarity, KL-divergence).\n",
    "     \n",
    "The exact implementation here depends on the latent semantic model you are using. \n",
    "   \n",
    "Each of these LSMs come with various hyperparameters to tune. Make a choice on the parameters, and explicitly mention the reasons that led you to these decisions. You can use the validation set to optimize hyper parameters you see fit; motivate your decisions. In addition, mention clearly how the query/document representations were constructed for each LSM and explain your choices.\n",
    "\n",
    "In this experiment, you will first obtain an initial top-1000 ranking for each query using TF-IDF in **Task 1**, and then re-rank the documents using the LSMs. Use TREC Eval to obtain the results and report on `NDCG@10`, Mean Average Precision (`MAP@1000`), `Precision@5` and `Recall@1000`.\n",
    "\n",
    "Perform significance testing **[5 points]** (similar as in Task 1) in the class of semantic matching methods."
   ]
  },
  {
   "cell_type": "code",
   "execution_count": 31,
   "metadata": {
    "collapsed": true
   },
   "outputs": [],
   "source": [
    "import operator\n",
    "\n",
    "import gensim\n",
    "from gensim import corpora, similarities\n",
    "from gensim.models.ldamodel import LdaModel\n",
    "from gensim.models.lsimodel import LsiModel\n",
    "from gensim.models.tfidfmodel import TfidfModel\n",
    "\n",
    "from scipy.stats import entropy as kl_divergence"
   ]
  },
  {
   "cell_type": "code",
   "execution_count": 32,
   "metadata": {
    "collapsed": true
   },
   "outputs": [],
   "source": [
    "# _, id2token, _ = index.get_dictionary()"
   ]
  },
  {
   "cell_type": "code",
   "execution_count": 33,
   "metadata": {
    "collapsed": true
   },
   "outputs": [],
   "source": [
    "# corpus = []\n",
    "\n",
    "# for int_doc_id in range(index.document_base(), index.maximum_document()):\n",
    "#     _, token_ids = index.document(int_doc_id)\n",
    "    \n",
    "#     text_bow = collections.Counter(token_id \n",
    "#                                    for token_id in token_ids\n",
    "#                                    if token_id > 0\n",
    "#                                   )\n",
    "#     corpus.append(text_bow)\n"
   ]
  },
  {
   "cell_type": "code",
   "execution_count": 38,
   "metadata": {
    "collapsed": true
   },
   "outputs": [],
   "source": [
    "# corpus_bow = [list(counter.items()) for counter in corpus]"
   ]
  },
  {
   "cell_type": "code",
   "execution_count": 39,
   "metadata": {
    "collapsed": true
   },
   "outputs": [],
   "source": [
    "# tfidf_model = TfidfModel(corpus_bow)"
   ]
  },
  {
   "cell_type": "code",
   "execution_count": 40,
   "metadata": {
    "collapsed": true
   },
   "outputs": [],
   "source": [
    "# tfidf_corpus = [x for x in tfidf_model[corpus_bow]]"
   ]
  },
  {
   "cell_type": "code",
   "execution_count": 41,
   "metadata": {
    "collapsed": true
   },
   "outputs": [],
   "source": [
    "# lsi = LsiModel(tfidf_corpus,\n",
    "#                id2word=id2token,\n",
    "#                num_topics=100,\n",
    "#                chunksize=20000, \n",
    "#                decay=1.0,\n",
    "#                onepass=True,\n",
    "#                power_iters=2,\n",
    "#                extra_samples=100)"
   ]
  },
  {
   "cell_type": "code",
   "execution_count": 42,
   "metadata": {},
   "outputs": [
    {
     "name": "stdout",
     "output_type": "stream",
     "text": [
      "Number of topics: 100.  351 seconds\n",
      "Number of topics: 150.  341 seconds\n",
      "Number of topics: 200.  385 seconds\n",
      "Number of topics: 250.  358 seconds\n"
     ]
    }
   ],
   "source": [
    "# lsi_models_numtopics_till_250 = {}\n",
    "# lsi_similarity_indices_numtopics_till_250 = {}\n",
    "\n",
    "# for num_topics in np.arange(100, 251, 50):\n",
    "#     iter_start_time = time.time()\n",
    "\n",
    "#     lsi = LsiModel(tfidf_corpus,\n",
    "#                    id2word=id2token,\n",
    "#                    num_topics=50,\n",
    "#                    chunksize=20000,\n",
    "#                    onepass=True,\n",
    "#                    power_iters=2)\n",
    "\n",
    "#     lsi_models_numtopics_till_250[num_topics] = lsi\n",
    "#     lsi_similarity_indices_numtopics_till_250[num_topics] = similarities.MatrixSimilarity(\n",
    "#                                                                 lsi[tfidf_corpus],\n",
    "#                                                                 num_features=num_topics\n",
    "#                                                             )\n",
    "#     print('Number of topics: {}.  {} seconds'.format(num_topics, int(time.time() - iter_start_time)))"
   ]
  },
  {
   "cell_type": "code",
   "execution_count": null,
   "metadata": {
    "collapsed": true
   },
   "outputs": [],
   "source": [
    "# for model_name, model in lsi_models:\n",
    "#     for param_setting in model.keys():\n",
    "#         cnt += 1\n",
    "#         run_lsm_retrieval(model_name='{}_{}'.format(model_name, cnt),\n",
    "#                           model=models[param_setting],\n",
    "#                           similarity_index=lsi_similarity_indices[param_setting],\n",
    "#                           query_to_top_n=query_to_top1000,\n",
    "#                           dataset='validation')"
   ]
  },
  {
   "cell_type": "code",
   "execution_count": null,
   "metadata": {
    "collapsed": true
   },
   "outputs": [],
   "source": [
    "# lsi_models_numtopics_till_400 = {}\n",
    "# lsi_similarity_indices_numtopics_till_400 = {}\n",
    "\n",
    "# for num_topics in np.arange(300, 401, 50):\n",
    "#     iter_start_time = time.time()\n",
    "\n",
    "#     lsi = LsiModel(tfidf_corpus,\n",
    "#                    id2word=id2token,\n",
    "#                    num_topics=50,\n",
    "#                    chunksize=20000,\n",
    "#                    onepass=True,\n",
    "#                    power_iters=2)\n",
    "\n",
    "#     lsi_models_numtopics_till_400[num_topics] = lsi\n",
    "#     lsi_similarity_indices_numtopics_till_400[num_topics] = similarities.MatrixSimilarity(\n",
    "#                                                                 lsi[tfidf_corpus],\n",
    "#                                                                 num_features=num_topics\n",
    "#                                                             )\n",
    "#     print('Number of topics: {}.  {} seconds'.format(num_topics, int(time.time() - iter_start_time)))"
   ]
  },
  {
   "cell_type": "code",
   "execution_count": null,
   "metadata": {
    "collapsed": true
   },
   "outputs": [],
   "source": [
    "# lsi_models_chunksize = {}\n",
    "# lsi_similarity_indices_chunksize = {}\n",
    "\n",
    "# for chunksize in [5000, 10000, 20000, 30000]:\n",
    "#     iter_start_time = time.time()\n",
    "\n",
    "#     lsi = LsiModel(tfidf_corpus,\n",
    "#                    id2word=id2token,\n",
    "#                    num_topics=100,\n",
    "#                    chunksize=chunksize,\n",
    "#                    onepass=True,\n",
    "#                    power_iters=2)\n",
    "\n",
    "#     lsi_models_chunksize[chunksize] = lsi\n",
    "#     lsi_similarity_indices_chunksize[chunksize] = similarities.MatrixSimilarity(\n",
    "#                                                                 lsi[tfidf_corpus],\n",
    "#                                                                 num_features=100\n",
    "#                                                             )\n",
    "#     print('Chunksize: {}.  {} seconds'.format(chunksize, int(time.time() - iter_start_time)))"
   ]
  },
  {
   "cell_type": "code",
   "execution_count": null,
   "metadata": {
    "collapsed": true
   },
   "outputs": [],
   "source": [
    "# lsi_models_onepass = {}\n",
    "# lsi_similarity_indices_onepass = {}\n",
    "\n",
    "# for onepass in [False, True]:\n",
    "#     iter_start_time = time.time()\n",
    "\n",
    "#     lsi = LsiModel(tfidf_corpus,\n",
    "#                    id2word=id2token,\n",
    "#                    num_topics=100,\n",
    "#                    chunksize=20000,\n",
    "#                    onepass=onepass,\n",
    "#                    power_iters=2)\n",
    "\n",
    "#     lsi_models_onepass[onepass] = lsi\n",
    "#     lsi_similarity_indices_onepass[onepass] = similarities.MatrixSimilarity(\n",
    "#                                                                 lsi[tfidf_corpus],\n",
    "#                                                                 num_features=100\n",
    "#                                                             )\n",
    "#     if onepass:\n",
    "#         print('One-pass: {}.  {} seconds'.format(onepass, int(time.time() - iter_start_time)))\n",
    "#     else:\n",
    "#         print('Multi-pass: {}.  {} seconds'.format(onepass, int(time.time() - iter_start_time)))"
   ]
  },
  {
   "cell_type": "code",
   "execution_count": null,
   "metadata": {
    "collapsed": true
   },
   "outputs": [],
   "source": [
    "# lsi_models_power_iters = {}\n",
    "# lsi_similarity_indices_power_iters = {}\n",
    "\n",
    "# for power_iters in [False, True]:\n",
    "#     iter_start_time = time.time()\n",
    "\n",
    "#     lsi = LsiModel(tfidf_corpus,\n",
    "#                    id2word=id2token,\n",
    "#                    num_topics=100,\n",
    "#                    chunksize=20000,\n",
    "#                    onepass=False,\n",
    "#                    power_iters=power_iters)\n",
    "\n",
    "#     lsi_models_power_iters[power_iters] = lsi\n",
    "#     lsi_similarity_indices_power_iters[power_iters] = similarities.MatrixSimilarity(\n",
    "#                                                                 lsi[tfidf_corpus],\n",
    "#                                                                 num_features=100\n",
    "#                                                             )\n",
    "#     print('Power_iters: {}.  {} seconds'.format(power_iters, int(time.time() - iter_start_time)))"
   ]
  },
  {
   "cell_type": "code",
   "execution_count": null,
   "metadata": {
    "collapsed": true
   },
   "outputs": [],
   "source": [
    "# lsi_models = [('lsi_models_numtopics_till_250', lsi_models_numtopics_till_250), \n",
    "#               ('lsi_models_numtopics_till_400', lsi_models_numtopics_till_400), \n",
    "#               ('lsi_models_chunksize', lsi_models_numtopics_till_400),\n",
    "#               ('lsi_models_onepass', lsi_models_onepass),\n",
    "#               ('lsi_models_power_iters', lsi_models_power_iters)]\n",
    "\n",
    "# lsi_similarity_indices = [lsi_similarity_index_till_250,\n",
    "#                           lsi_similarity_index_numtopics_till_400,\n",
    "#                           lsi_similarity_index_chunksize,\n",
    "#                           lsi_similarity_index_onepass,\n",
    "#                           lsi_similarity_index_power_iters]\n",
    "\n",
    "# cnt = 0\n",
    "# for model_name, model in lsi_models:\n",
    "#     for param_setting in model.keys():\n",
    "#         cnt += 1\n",
    "#         run_lsm_retrieval(model_name='{}_{}'.format(model_name, cnt),\n",
    "#                           model=models[param_setting],\n",
    "#                           similarity_index=lsi_similarity_indices[param_setting],\n",
    "#                           query_to_top_n=query_to_top1000,\n",
    "#                           dataset='validation')"
   ]
  },
  {
   "cell_type": "code",
   "execution_count": null,
   "metadata": {
    "collapsed": true
   },
   "outputs": [],
   "source": [
    "# lda_models_eta = {}\n",
    "\n",
    "# for eta in [None, 'auto']:\n",
    "#     iter_start_time = time.time()\n",
    "\n",
    "#     # for chunksize in np.arange(1000, 3001, 1000):\n",
    "#     #     lda_models[num_topics][chunksize] = {}\n",
    "#     #     lda_similarity_indices[num_topics][chunksize] = {}\n",
    "\n",
    "#     #     for alpha in ['symmetric', 'asymmetric', 'auto']:\n",
    "#     #         lda_models[num_topics][chunksize][alpha] = {}\n",
    "#     #         lda_similarity_indices[num_topics][chunksize][alpha] = {}\n",
    "\n",
    "#     #         for eta in [None, 'auto']:\n",
    "\n",
    "\n",
    "#     lda = LdaModel(tfidf_corpus,\n",
    "#                    num_topics=100,\n",
    "#                    chunksize=2000,\n",
    "#                    alpha='symmetric',\n",
    "#                    eta=eta,\n",
    "#                    eval_every=10,\n",
    "#                    iterations=50,\n",
    "#                    minimum_probability=0.0,\n",
    "#                    per_word_topics=False)\n",
    "\n",
    "#     lda_models[str(eta)] = lda\n",
    "\n",
    "#     print('Eta: {}. Runtime: {} seconds'.format(str(eta), int(time.time() - iter_start_time)))"
   ]
  },
  {
   "cell_type": "code",
   "execution_count": null,
   "metadata": {
    "collapsed": true
   },
   "outputs": [],
   "source": [
    "# lda_models_chunksize = {}\n",
    "\n",
    "# for chunksize in np.arange(1000, 3001, 1000)::\n",
    "#     iter_start_time = time.time()\n",
    "\n",
    "#     # for chunksize in np.arange(1000, 3001, 1000):\n",
    "#     #     lda_models[num_topics][chunksize] = {}\n",
    "#     #     lda_similarity_indices[num_topics][chunksize] = {}\n",
    "\n",
    "#     #     for alpha in ['symmetric', 'asymmetric', 'auto']:\n",
    "#     #         lda_models[num_topics][chunksize][alpha] = {}\n",
    "#     #         lda_similarity_indices[num_topics][chunksize][alpha] = {}\n",
    "\n",
    "#     #         for eta in [None, 'auto']:\n",
    "\n",
    "\n",
    "#     lda = LdaModel(tfidf_corpus,\n",
    "#                    num_topics=100,\n",
    "#                    chunksize=chunksize,\n",
    "#                    alpha='symmetric',\n",
    "#                    eta=None,\n",
    "#                    eval_every=10,\n",
    "#                    iterations=50,\n",
    "#                    minimum_probability=0.0,\n",
    "#                    per_word_topics=False)\n",
    "\n",
    "#     lda_models_chunksize[chunksize] = lda\n",
    "\n",
    "#     print('Chunksize: {}. Runtime: {} seconds'.format(str(eta), int(time.time() - iter_start_time)))"
   ]
  },
  {
   "cell_type": "code",
   "execution_count": null,
   "metadata": {
    "collapsed": true
   },
   "outputs": [],
   "source": [
    "# similarity_index = similarities.MatrixSimilarity(lsi[tfidf_corpus], num_features=100)"
   ]
  },
  {
   "cell_type": "code",
   "execution_count": null,
   "metadata": {
    "collapsed": true
   },
   "outputs": [],
   "source": [
    "# lda = LdaModel(tfidf_corpus,\n",
    "#                id2word=id2token,\n",
    "#                num_topics=100,\n",
    "#                chunksize=2000,\n",
    "#                passes=1,\n",
    "#                update_every=1, \n",
    "#                alpha='symmetric', \n",
    "#                eta=None, \n",
    "#                decay=0.5, \n",
    "#                offset=1.0, \n",
    "#                eval_every=10, \n",
    "#                iterations=100, \n",
    "#                gamma_threshold=0.001, \n",
    "#                minimum_probability=0.0, \n",
    "#                minimum_phi_value=0.01, \n",
    "#                per_word_topics=False)"
   ]
  },
  {
   "cell_type": "code",
   "execution_count": null,
   "metadata": {
    "collapsed": true
   },
   "outputs": [],
   "source": [
    "def tfidf_filter(n=1000, dataset='validation'):\n",
    "    \"\"\"\n",
    "    Runs a retrieval method for all the queries and writes the TREC-friendly results in a file.\n",
    "    \n",
    "    :param model_name: the name of the model (a string)\n",
    "    :param score_fn: the scoring function (a function - see below for an example)\n",
    "    \"\"\"\n",
    "    \n",
    "    data = {}\n",
    "    \n",
    "    if dataset == 'test':\n",
    "        query_to_docs = test_ids\n",
    "    elif dataset == 'validation':\n",
    "        query_to_docs = validation_ids\n",
    "    else:\n",
    "        raise ValueError(\"Two possible values for dataset: 'test' or 'validation'.\")\n",
    "    \n",
    "    \n",
    "    query_to_top_n = {}\n",
    "    \n",
    "    # FOR ALL QUERIES\n",
    "    for query_id in query_to_docs.keys():  \n",
    "        for int_doc_id, _ in query_to_docs[query_id]:  \n",
    "                \n",
    "            # discard all zero length docs\n",
    "            if document_lengths[int_doc_id] == 0:\n",
    "                continue\n",
    "                    \n",
    "            score = 0\n",
    "            cnt_qwords_in_doc = 0  # how many query words occ\n",
    " \n",
    "            # FOR ALL QUERY TERMS\n",
    "            for q_term in tokenized_queries[query_id]: \n",
    "                try: \n",
    "                    document_term_freq = inverted_index[q_term][int_doc_id]\n",
    "                    score += tfidf(int_doc_id, q_term, document_term_freq)\n",
    "                    cnt_qwords_in_doc += 1\n",
    "\n",
    "                # query term is not in the document\n",
    "                except KeyError:\n",
    "                    document_term_freq = 0\n",
    "                    score += tfidf(int_doc_id, q_term, document_term_freq)\n",
    "\n",
    "            # only score documents that contain at least one query term\n",
    "            if cnt_qwords_in_doc == 0:\n",
    "                continue\n",
    "\n",
    "            # Fill data dictionary\n",
    "            try:\n",
    "                data[query_id].append((score, int_doc_id))\n",
    "            except:\n",
    "                data[query_id] = [(score, int_doc_id)]\n",
    "                \n",
    "        scores = [x[0] for x in data[query_id]]\n",
    "        int_doc_ids = [x[1] for x in data[query_id]]\n",
    "        \n",
    "        scores, int_doc_ids = zip(*sorted(zip(scores, int_doc_ids), key=operator.itemgetter(0), reverse=True))\n",
    "        query_to_top_n[query_id] = int_doc_ids[:n]\n",
    "        \n",
    "    return query_to_top_n\n",
    "    "
   ]
  },
  {
   "cell_type": "code",
   "execution_count": null,
   "metadata": {
    "collapsed": true
   },
   "outputs": [],
   "source": [
    "def run_lsm_retrieval(model_name, model, query_to_top_n, similarity_index=None, dataset='validation'):\n",
    "    \"\"\"\n",
    "    Runs a retrieval method for all the queries and writes the TREC-friendly results in a file.\n",
    "    \n",
    "    :param model_name: the name of the model (a string)\n",
    "    :param score_fn: the scoring function (a function - see below for an example)\n",
    "    \"\"\"\n",
    "    model_name = model_name.upper()\n",
    "    \n",
    "    if model_name[:3] == 'LSI':\n",
    "        use_lsi = True\n",
    "        \n",
    "        if not similarity_index:\n",
    "            raise ValueError(\"Similarity index must be provided for LSI retrieval.\")\n",
    "            \n",
    "    elif model_name[:3] == 'LDA':\n",
    "        use_lsi = False\n",
    "    else:\n",
    "        raise ValueError(\"Two available models: 'LSI' or 'LDA'.\")\n",
    "        \n",
    "    run_out_path = '{}.run'.format(model_name.lower())\n",
    "    \n",
    "    if os.path.exists(run_out_path):\n",
    "        print(\"This output file ({}) already exists.\\n\".format(run_out_path),\n",
    "              \"Delete this file, rename it, or move it elsewhere in your file system.\\n\", sep='')\n",
    "        return\n",
    "    \n",
    "    if dataset == 'test':\n",
    "        query_to_docs = test_ids\n",
    "    elif dataset == 'validation':\n",
    "        query_to_docs = validation_ids\n",
    "    else:\n",
    "        raise ValueError(\"Two possible values for dataset: 'test' or 'validation'.\")\n",
    "    \n",
    "    data = {}\n",
    "\n",
    "    print('Retrieval model: {}'.format(model_name))\n",
    "    retrieval_start_time = time.time()\n",
    "\n",
    "    \n",
    "    # Fill the data dictionary. \n",
    "    # The dictionary data has the form: query_id --> (document_score, external_doc_id)\n",
    "    \n",
    "    # FOR ALL QUERIES\n",
    "    for query_id in query_to_docs.keys(): \n",
    "        query_counter = collections.Counter(token_id \n",
    "                                            for token_id in token_ids\n",
    "                                            if token_id > 0\n",
    "                                           )\n",
    "        query_terms = list(query_counter.items())\n",
    "        query_tfidf = tfidf_model[query_terms]\n",
    "        query_vec = model[query_tfidf]\n",
    "        \n",
    "        if use_lsi:\n",
    "            similarities = similarity_index[query_vec]\n",
    "        else:\n",
    "            query_distribution = [x[1] for x in query_vec]\n",
    "        \n",
    "        for int_doc_id in query_to_top_n[query_id]:\n",
    "            if use_lsi:\n",
    "                score = similarities[int_doc_id - 1]\n",
    "            else:\n",
    "                doc_tfidf = tfidf_corpus[int_doc_id - 1]\n",
    "                doc_distribution = [x[1] for x in model[doc_tfidf]]\n",
    "                score = - kl_divergence(query_distribution, doc_distribution)\n",
    "            \n",
    "            ext_doc_id, _ = index.document(int_doc_id)\n",
    "            \n",
    "            # Fill data dictionary\n",
    "            try:\n",
    "                data[query_id].append((score, ext_doc_id))\n",
    "            except:\n",
    "                data[query_id] = [(score, ext_doc_id)]\n",
    "    \n",
    "    # Write output to TREC .run file\n",
    "    with open(run_out_path, 'w') as f_out:\n",
    "        write_run(\n",
    "            model_name=model_name,\n",
    "            data=data,\n",
    "            out_f=f_out,\n",
    "            max_objects_per_query=1000)  # only consider top 1000 docs for each query\n"
   ]
  },
  {
   "cell_type": "code",
   "execution_count": null,
   "metadata": {
    "collapsed": true
   },
   "outputs": [],
   "source": [
    "# query_to_top1000 = tfidf_filter(n=1000, dataset='validation')"
   ]
  },
  {
   "cell_type": "code",
   "execution_count": null,
   "metadata": {
    "collapsed": true
   },
   "outputs": [],
   "source": [
    "# run_lsm_retrieval(model_name='LSI',\n",
    "#                   model=lsi,\n",
    "#                   similarity_index=similarity_index,\n",
    "#                   query_to_top_n=query_to_top1000,\n",
    "#                   dataset='validation')"
   ]
  },
  {
   "cell_type": "code",
   "execution_count": null,
   "metadata": {
    "collapsed": true
   },
   "outputs": [],
   "source": [
    "# run_lsm_retrieval(model_name='LDA',\n",
    "#                   model=lda,\n",
    "#                   query_to_top_n=query_to_top1000,\n",
    "#                   dataset='validation')\n"
   ]
  },
  {
   "cell_type": "markdown",
   "metadata": {},
   "source": [
    "### Task 3:  Word embeddings for ranking [20 points] (open-ended) ###\n",
    "\n",
    "First create word embeddings on the corpus we provided using [word2vec](http://arxiv.org/abs/1411.2738) -- [gensim implementation](https://radimrehurek.com/gensim/models/word2vec.html). You should extract the indexed documents using pyndri and provide them to gensim for training a model (see example [here](https://github.com/nickvosk/pyndri/blob/master/examples/word2vec.py)).\n",
    "   \n",
    "This is an open-ended task. It is left up you to decide how you will combine word embeddings to derive query and document representations. Note that since we provide the implementation for training word2vec, you will be graded based on your creativity on combining word embeddings for building query and document representations.\n",
    "\n",
    "Note: If you want to experiment with pre-trained word embeddings on a different corpus, you can use the word embeddings we provide alongside the assignment (./data/reduced_vectors_google.txt.tar.gz). These are the [google word2vec word embeddings](https://code.google.com/archive/p/word2vec/), reduced to only the words that appear in the document collection we use in this assignment."
   ]
  },
  {
   "cell_type": "code",
   "execution_count": null,
   "metadata": {
    "collapsed": true
   },
   "outputs": [],
   "source": [
    "# getting w2v for all terms\n",
    "\n",
    "\n",
    "def train_w2v():\n",
    "    dictionary = pyndri.extract_dictionary(index)\n",
    "\n",
    "    sentences = pyndri.compat.IndriSentences(index, dictionary)\n",
    "\n",
    "    word2vec_init = gensim.models.Word2Vec(\n",
    "        size= 300,   # Embedding size\n",
    "        window=5,    # One-sided window size\n",
    "        sg=True,     # Skip-gram.\n",
    "        min_count=5,  # Minimum word frequency.\n",
    "        sample=1e-3,  # Sub-sample threshold.\n",
    "        hs=False,  # Hierarchical softmax.\n",
    "        negative=10,  # Number of negative examples.\n",
    "        iter=1,  # Number of iterations.\n",
    "        workers=8,  # Number of workers.\n",
    "    \n",
    "    )\n",
    "\n",
    "    word2vec_init.build_vocab(sentences, trim_rule=None)\n",
    "\n",
    "    model = word2vec_init\n",
    "\n",
    "\n",
    "\n",
    "    print(\"start training\")\n",
    "\n",
    "    model.train(sentences, total_examples = len(sentences) , epochs= 5 )\n",
    "\n",
    "\n",
    "\n",
    "    model.wv.save_word2vec_format('model_w2v.bin')\n",
    "    model.wv.save_word2vec_format('model_w2v.txt', binary=False)\n",
    "\n"
   ]
  },
  {
   "cell_type": "code",
   "execution_count": null,
   "metadata": {
    "collapsed": true
   },
   "outputs": [],
   "source": [
    "def IDF_all_terms(term_id):\n",
    "    \"\"\"\n",
    "    Inverse Document Frequency of a term.\n",
    "    \n",
    "    :param term_id : the term id \n",
    "    \"\"\"\n",
    "    df = term2numdocs[term_id]\n",
    "                       \n",
    "    return log(num_documents / df) \n",
    "    "
   ]
  },
  {
   "cell_type": "code",
   "execution_count": null,
   "metadata": {
    "collapsed": true
   },
   "outputs": [],
   "source": [
    "\n",
    "def word2doc():\n",
    "    '''\n",
    "    Creates dictionary of document embeddings, \"int_doc_id\" --> np_array of doc embed.\n",
    "    Each word_embed in BOW of a doc is weighted by its tf-idf.\n",
    "    Takes approx. 15 min to run.\n",
    "    '''\n",
    "    doc_embeds = dict()\n",
    "    count = 0\n",
    "    count_words_below_5 = 0\n",
    "    for int_doc_id in range(index.document_base(), index.maximum_document()):\n",
    "\n",
    "        _ , doc_token_ids = index.document(int_doc_id)\n",
    "\n",
    "        document_bow = collections.Counter(\n",
    "        token_id for token_id in doc_token_ids\n",
    "        if token_id > 0)\n",
    "        \n",
    "        document_vec = np.zeros(300)\n",
    "        for token_id in list(document_bow.keys()):\n",
    "            normalization_const = 0\n",
    "            # only if the term is in the w2v embeddings (i.e. it appears more than 5 times in collection)\n",
    "            try:\n",
    "                # log normalized tf\n",
    "                tf = 1 + log(document_bow[token_id])\n",
    "                weight = tf * IDF_all_terms(token_id)\n",
    "                # tf-idf-weight * word2vec embed of term\n",
    "                document_vec += weight * model[id2token[token_id]]\n",
    "                normalization_const += 1\n",
    "            except KeyError:\n",
    "                continue\n",
    "                \n",
    "        # only create document embedding if there was at least a term present in the w2v embeddings\n",
    "        if normalization_const != 0:\n",
    "            doc_embeds[int_doc_id] = document_vec / normalization_const\n",
    "    \n",
    "    return doc_embeds\n",
    "        \n",
    "        \n",
    "\n",
    "        \n",
    "    \n",
    "def word2query():\n",
    "    '''\n",
    "    Simple average of w2v of query words for each query.\n",
    "    \n",
    "    '''\n",
    "    \n",
    "    query_embeds = dict()\n",
    "    \n",
    "    for query_id in list(tokenized_queries.keys()):  \n",
    "        query_term_embeds = np.zeros(300)\n",
    "        query_len = 0\n",
    "        for q_term in tokenized_queries[query_id]:\n",
    "            try:\n",
    "                query_len += 1\n",
    "                query_term_embeds += model[id2token[q_term]]\n",
    "            except KeyError:\n",
    "                continue\n",
    "            \n",
    "        if query_len > 0:\n",
    "        \n",
    "            query_avg = query_term_embeds/query_len\n",
    "        \n",
    "        query_embeds[query_id] = query_avg\n",
    "        \n",
    "    return query_embeds\n",
    "    "
   ]
  },
  {
   "cell_type": "code",
   "execution_count": null,
   "metadata": {
    "collapsed": true
   },
   "outputs": [],
   "source": [
    "# train w2v\n",
    "\n",
    "# train_w2v()"
   ]
  },
  {
   "cell_type": "code",
   "execution_count": null,
   "metadata": {
    "collapsed": true
   },
   "outputs": [],
   "source": [
    "# model = gensim.models.keyedvectors.KeyedVectors.load_word2vec_format('model_w2v.txt', binary=False) "
   ]
  },
  {
   "cell_type": "code",
   "execution_count": null,
   "metadata": {
    "collapsed": true
   },
   "outputs": [],
   "source": [
    "# can take up to 15 min\n",
    "# doc2vec_dict = word2doc()\n",
    "# query2vec_dict = word2query()"
   ]
  },
  {
   "cell_type": "markdown",
   "metadata": {},
   "source": [
    "### Task 4: Learning to rank (LTR) [15 points] (open-ended) ###\n",
    "\n",
    "In this task you will get an introduction into learning to rank for information retrieval.\n",
    "\n",
    "You can explore different ways for devising features for the model. Obviously, you can use the retrieval methods you implemented in Task 1, Task 2 and Task 3 as features. Think about other features you can use (e.g. query/document length). Creativity on devising new features and providing motivation for them will be taken into account when grading.\n",
    "\n",
    "For every query, first create a document candidate set using the top-1000 documents using TF-IDF, and subsequently compute features given a query and a document. Note that the feature values of different retrieval methods are likely to be distributed differently.\n",
    "\n",
    "You are adviced to start some pointwise learning to rank algorithm e.g. logistic regression, implemented in [scikit-learn](http://scikit-learn.org/stable/modules/generated/sklearn.linear_model.LogisticRegression.html).\n",
    "Train your LTR model using 10-fold cross validation on the test set. More advanced learning to rank algorithms will be appreciated when grading."
   ]
  },
  {
   "cell_type": "code",
   "execution_count": null,
   "metadata": {
    "collapsed": true
   },
   "outputs": [],
   "source": []
  },
  {
   "cell_type": "markdown",
   "metadata": {
    "collapsed": true
   },
   "source": [
    "### Task 5: Write a report [15 points; instant FAIL if not provided] ###\n",
    "\n",
    "The report should be a PDF file created using the [sigconf ACM template](https://www.acm.org/publications/proceedings-template) and will determine a significant part of your grade.\n",
    "\n",
    "   * It should explain what you have implemented, motivate your experiments and detail what you expect to learn from them. **[10 points]**\n",
    "   * Lastly, provide a convincing analysis of your results and conclude the report accordingly. **[10 points]**\n",
    "      * Do all methods perform similarly on all queries? Why?\n",
    "      * Is there a single retrieval model that outperforms all other retrieval models (i.e., silver bullet)?\n",
    "      * ...\n",
    "\n",
    "**Hand in the report and your self-contained implementation source files.** Only send us the files that matter, organized in a well-documented zip/tgz file with clear instructions on how to reproduce your results. That is, we want to be able to regenerate all your results with minimal effort. You can assume that the index and ground-truth information is present in the same file structure as the one we have provided.\n"
   ]
  },
  {
   "cell_type": "code",
   "execution_count": null,
   "metadata": {
    "collapsed": true
   },
   "outputs": [],
   "source": []
  }
 ],
 "metadata": {
  "anaconda-cloud": {},
  "kernelspec": {
   "display_name": "Python 3",
   "language": "python",
   "name": "python3"
  },
  "language_info": {
   "codemirror_mode": {
    "name": "ipython",
    "version": 3
   },
   "file_extension": ".py",
   "mimetype": "text/x-python",
   "name": "python",
   "nbconvert_exporter": "python",
   "pygments_lexer": "ipython3",
   "version": "3.6.3"
  }
 },
 "nbformat": 4,
 "nbformat_minor": 1
}
