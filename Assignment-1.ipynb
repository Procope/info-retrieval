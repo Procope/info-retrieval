{
 "cells": [
  {
   "cell_type": "code",
   "execution_count": 45,
   "metadata": {},
   "outputs": [
    {
     "name": "stdout",
     "output_type": "stream",
     "text": [
      "((0, 0, 0, 0, 0), (0, 0, 0, 0, 0))\n",
      "((0, 0, 0, 0, 0), (0, 0, 0, 0, 1))\n",
      "((0, 0, 0, 0, 0), (0, 0, 0, 0, 2))\n",
      "((0, 0, 0, 0, 0), (0, 0, 0, 1, 0))\n",
      "((0, 0, 0, 0, 0), (0, 0, 0, 1, 1))\n",
      "((0, 0, 0, 0, 0), (0, 0, 0, 1, 2))\n",
      "((0, 0, 0, 0, 0), (0, 0, 0, 2, 0))\n",
      "((0, 0, 0, 0, 0), (0, 0, 0, 2, 1))\n",
      "((0, 0, 0, 0, 0), (0, 0, 0, 2, 2))\n",
      "((0, 0, 0, 0, 0), (0, 0, 1, 0, 0))\n"
     ]
    }
   ],
   "source": [
    "# Step 1: Simulate Rankings of Relevance for E and P\n",
    "\n",
    "import itertools\n",
    "\n",
    "relevance = [0, 1, 2]  # 0: N, 1: R, 2: HR\n",
    "combinations = list(itertools.product(relevance, repeat=5))\n",
    "ranking_pairs = list(itertools.product(combinations, repeat=2))\n",
    "\n",
    "k = 10\n",
    "for pair in ranking_pairs[:k]:\n",
    "    print(pair)"
   ]
  },
  {
   "cell_type": "code",
   "execution_count": 73,
   "metadata": {},
   "outputs": [],
   "source": [
    "def average_precision(query_judgement):\n",
    "    l = []\n",
    "    rel_docs = 0\n",
    "    \n",
    "    for i, judgement in enumerate(query_judgement, start=1):\n",
    "        if judgement != 0:\n",
    "            rel_docs += 1\n",
    "            l.append(rel_docs / i)\n",
    "            \n",
    "    if rel_docs == 0:\n",
    "        return 0\n",
    "    \n",
    "    return sum(l) / rel_docs       "
   ]
  },
  {
   "cell_type": "code",
   "execution_count": 74,
   "metadata": {},
   "outputs": [],
   "source": [
    "from math import log\n",
    "\n",
    "def dcg(query_judgement, k):\n",
    "    query_judgement = list(query_judgement)[:k]\n",
    "    dcg = 0\n",
    "    \n",
    "    for i, judgement in enumerate(query_judgement, start=1):\n",
    "        dcg += (2 ** judgement - 1) / log(i + 1, 2)\n",
    "        \n",
    "    return dcg\n",
    "\n",
    "def ndcg(query_judgement, k):\n",
    "    perfect_ordering = sorted(query_judgement, reverse=True)\n",
    "    perfect_score = dcg(perfect_ordering, k)\n",
    "    \n",
    "    if perfect_score == 0:\n",
    "        return 0\n",
    "    \n",
    "    return dcg(query_judgement, k) / perfect_score"
   ]
  },
  {
   "cell_type": "code",
   "execution_count": 44,
   "metadata": {
    "collapsed": true
   },
   "outputs": [],
   "source": [
    "def satisfaction_prob(query_judgement):\n",
    "    return \n",
    "\n",
    "def err():"
   ]
  },
  {
   "cell_type": "code",
   "execution_count": null,
   "metadata": {
    "collapsed": true
   },
   "outputs": [],
   "source": []
  }
 ],
 "metadata": {
  "kernelspec": {
   "display_name": "Python 3",
   "language": "python",
   "name": "python3"
  },
  "language_info": {
   "codemirror_mode": {
    "name": "ipython",
    "version": 3
   },
   "file_extension": ".py",
   "mimetype": "text/x-python",
   "name": "python",
   "nbconvert_exporter": "python",
   "pygments_lexer": "ipython3",
   "version": "3.6.1"
  }
 },
 "nbformat": 4,
 "nbformat_minor": 2
}
