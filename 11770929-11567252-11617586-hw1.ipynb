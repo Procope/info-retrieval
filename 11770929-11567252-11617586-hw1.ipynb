{
 "cells": [
  {
   "cell_type": "code",
   "execution_count": 1,
   "metadata": {
    "collapsed": false
   },
   "outputs": [
    {
     "name": "stdout",
     "output_type": "stream",
     "text": [
      "((0, 0, 0, 0, 0), (0, 0, 0, 0, 1))\n",
      "((0, 0, 0, 0, 0), (0, 0, 0, 0, 2))\n",
      "((0, 0, 0, 0, 0), (0, 0, 0, 1, 0))\n",
      "((0, 0, 0, 0, 0), (0, 0, 0, 1, 1))\n",
      "((0, 0, 0, 0, 0), (0, 0, 0, 1, 2))\n",
      "((0, 0, 0, 0, 0), (0, 0, 0, 2, 0))\n",
      "((0, 0, 0, 0, 0), (0, 0, 0, 2, 1))\n",
      "((0, 0, 0, 0, 0), (0, 0, 0, 2, 2))\n",
      "((0, 0, 0, 0, 0), (0, 0, 1, 0, 0))\n",
      "((0, 0, 0, 0, 0), (0, 0, 1, 0, 1))\n"
     ]
    }
   ],
   "source": [
    "# Step 1: Simulate Rankings of Relevance for E and P\n",
    "\n",
    "import itertools\n",
    "\n",
    "relevance = [0, 1, 2]  # 0: N, 1: R, 2: HR\n",
    "combinations = list(itertools.product(relevance, repeat=5))\n",
    "ranking_pairs = list(itertools.product(combinations, repeat=2))\n",
    "\n",
    "# delete ratings that are the same for both  \n",
    "for i,k in enumerate(ranking_pairs):\n",
    "    if k[0] == k[1]:\n",
    "        del ranking_pairs[i]\n",
    "k = 10\n",
    "for pair in ranking_pairs[:k]:\n",
    "    print(pair)"
   ]
  },
  {
   "cell_type": "code",
   "execution_count": 2,
   "metadata": {
    "collapsed": true
   },
   "outputs": [],
   "source": [
    "def average_precision(query_judgement):\n",
    "    l = []\n",
    "    rel_docs = 0\n",
    "    \n",
    "    for i, judgement in enumerate(query_judgement, start=1):\n",
    "        if judgement != 0:\n",
    "            rel_docs += 1\n",
    "            l.append(rel_docs / i)\n",
    "            \n",
    "    if rel_docs == 0:\n",
    "        return 0\n",
    "    \n",
    "    return sum(l) / rel_docs       "
   ]
  },
  {
   "cell_type": "code",
   "execution_count": 3,
   "metadata": {
    "collapsed": true
   },
   "outputs": [],
   "source": [
    "from math import log\n",
    "\n",
    "def dcg(query_judgement, k):\n",
    "    query_judgement = list(query_judgement)[:k]\n",
    "    dcg = 0\n",
    "    \n",
    "    for i, judgement in enumerate(query_judgement, start=1):\n",
    "        dcg += (2 ** judgement - 1) / log(i + 1, 2)\n",
    "        \n",
    "    return dcg\n",
    "\n",
    "def ndcg(query_judgement, k):\n",
    "    perfect_ordering = sorted(query_judgement, reverse=True)\n",
    "    perfect_score = dcg(perfect_ordering, k)\n",
    "    \n",
    "    if perfect_score == 0:\n",
    "        return 0\n",
    "    \n",
    "    return dcg(query_judgement, k) / perfect_score"
   ]
  },
  {
   "cell_type": "code",
   "execution_count": 4,
   "metadata": {
    "collapsed": true
   },
   "outputs": [],
   "source": [
    "max_rel = 2  # ad-hoc for 3 different judgements\n",
    "satisfaction_probs = [(2 ** rel - 1) / 2 ** max_rel for rel in range(3)]\n",
    "\n",
    "def err(query_judgement):\n",
    "    sat_probs = []\n",
    "    \n",
    "    for rel in query_judgement:\n",
    "        sat_probs.append(satisfaction_probs[rel])\n",
    "        \n",
    "    err = 0\n",
    "    \n",
    "    for i in range(1, len(query_judgement) + 1):\n",
    "        prod = sat_probs[i - 1]\n",
    "        \n",
    "        for j in range(1, i):\n",
    "            prod *= 1 - sat_probs[j]\n",
    "        \n",
    "        err += prod / i\n",
    "    \n",
    "#     if err == 0:\n",
    "#         return len(query_judgement)\n",
    "    \n",
    "    return err"
   ]
  },
  {
   "cell_type": "code",
   "execution_count": 5,
   "metadata": {
    "collapsed": true
   },
   "outputs": [],
   "source": [
    "max_rel = 2  # ad-hoc for 3 different judgements\n",
    "satisfaction_probs = [(2 ** rel - 1) / 2 ** max_rel for rel in range(3)]\n",
    "\n",
    "def err(query_judgement):\n",
    "    sat_probs = []\n",
    "    \n",
    "    for rel in query_judgement:\n",
    "        sat_probs.append(satisfaction_probs[rel])\n",
    "        \n",
    "    err = 0\n",
    "    prod = 1\n",
    "    \n",
    "    for i in range(1, len(query_judgement) + 1):\n",
    "        rel_prob = sat_probs[i - 1]\n",
    "        \n",
    "        err += prod * rel_prob / i\n",
    "        prod *= 1 - rel_prob\n",
    "            \n",
    "#     if err == 0:\n",
    "#         return len(query_judgement)\n",
    "    \n",
    "    return err"
   ]
  },
  {
   "cell_type": "code",
   "execution_count": 6,
   "metadata": {
    "collapsed": false
   },
   "outputs": [
    {
     "name": "stdout",
     "output_type": "stream",
     "text": [
      "7.6800000000000015\n"
     ]
    }
   ],
   "source": [
    "print(1/ err(ranking_pairs[11][1]))"
   ]
  },
  {
   "cell_type": "code",
   "execution_count": 7,
   "metadata": {
    "collapsed": false
   },
   "outputs": [
    {
     "data": {
      "text/plain": [
       "(0, 0, 0, 0, 0)"
      ]
     },
     "execution_count": 7,
     "metadata": {},
     "output_type": "execute_result"
    }
   ],
   "source": [
    "ranking_pairs[242][1]"
   ]
  },
  {
   "cell_type": "code",
   "execution_count": null,
   "metadata": {
    "collapsed": true
   },
   "outputs": [],
   "source": []
  },
  {
   "cell_type": "code",
   "execution_count": 8,
   "metadata": {
    "collapsed": true
   },
   "outputs": [],
   "source": [
    "import random\n",
    "\n",
    "\n",
    "def team_draft_interleaving(a, b):\n",
    "    '''\n",
    "    Implementation of the team draft interleaving algorithm\n",
    "    Args:\n",
    "        a, b: list\n",
    "    Return:\n",
    "        interleaved_list, chosen_list\n",
    "    '''\n",
    "    final_list = []\n",
    "    chosen = []  # list containing a/b values\n",
    "\n",
    "    while (len(a) > 0 and len(b) > 0):\n",
    "        choose_a = bool(random.getrandbits(1))\n",
    "\n",
    "        current_a = a[0]\n",
    "        current_b = b[0]\n",
    "\n",
    "        to_add = list(set([current_a, current_b]))\n",
    "        \n",
    "        if not choose_a:\n",
    "            to_add = to_add[::-1]\n",
    "            \n",
    "        final_list += to_add\n",
    "\n",
    "        if current_b in a: a.remove(current_b)\n",
    "        if current_a in b: b.remove(current_a)\n",
    "\n",
    "        if len(a) > 0: del a[0]\n",
    "        if len(b) > 0: del b[0]\n",
    "\n",
    "    return final_list, chosen"
   ]
  },
  {
   "cell_type": "code",
   "execution_count": 9,
   "metadata": {
    "collapsed": false
   },
   "outputs": [
    {
     "name": "stdout",
     "output_type": "stream",
     "text": [
      "([2, 1, 3], [])\n"
     ]
    }
   ],
   "source": [
    "\n",
    "a = [1, 2, 3]\n",
    "b = [2, 3, 1]\n",
    "\n",
    "print(team_draft_interleaving(a, b))"
   ]
  },
  {
   "cell_type": "code",
   "execution_count": null,
   "metadata": {
    "collapsed": true
   },
   "outputs": [],
   "source": []
  }
 ],
 "metadata": {
  "kernelspec": {
   "display_name": "Python 3",
   "language": "python",
   "name": "python3"
  },
  "language_info": {
   "codemirror_mode": {
    "name": "ipython",
    "version": 3
   },
   "file_extension": ".py",
   "mimetype": "text/x-python",
   "name": "python",
   "nbconvert_exporter": "python",
   "pygments_lexer": "ipython3",
   "version": "3.6.0"
  }
 },
 "nbformat": 4,
 "nbformat_minor": 2
}
